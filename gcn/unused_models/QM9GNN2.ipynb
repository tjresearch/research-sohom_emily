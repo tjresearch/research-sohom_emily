{
 "cells": [
  {
   "cell_type": "code",
   "execution_count": 1,
   "metadata": {},
   "outputs": [
    {
     "name": "stderr",
     "output_type": "stream",
     "text": [
      "Using TensorFlow backend.\n",
      "/Users/em/anaconda3/envs/venv/lib/python3.7/importlib/_bootstrap.py:219: RuntimeWarning: compiletime version 3.6 of module 'tensorflow.python.framework.fast_tensor_util' does not match runtime version 3.7\n",
      "  return f(*args, **kwds)\n"
     ]
    }
   ],
   "source": [
    "import matplotlib.pyplot as plt\n",
    "import numpy as np\n",
    "from keras.callbacks import EarlyStopping\n",
    "from keras.layers import Input, Dense\n",
    "from keras.models import Model\n",
    "from keras.optimizers import Adam\n",
    "from sklearn.model_selection import train_test_split\n",
    "from sklearn.preprocessing import StandardScaler\n",
    "\n",
    "from spektral.datasets import qm9\n",
    "from spektral.layers import EdgeConditionedConv, GlobalAttentionPool\n",
    "from spektral.utils import label_to_one_hot"
   ]
  },
  {
   "cell_type": "code",
   "execution_count": 2,
   "metadata": {},
   "outputs": [
    {
     "name": "stdout",
     "output_type": "stream",
     "text": [
      "Loading QM9 dataset.\n",
      "Reading SDF\n"
     ]
    },
    {
     "name": "stderr",
     "output_type": "stream",
     "text": [
      "100%|██████████| 1000/1000 [00:00<00:00, 6398.19it/s]\n"
     ]
    }
   ],
   "source": [
    "A, X, E, y = qm9.load_data(return_type='numpy',\n",
    "                           nf_keys='atomic_num',\n",
    "                           ef_keys='type',\n",
    "                           self_loops=True,\n",
    "                           amount=1000)  # Set to None to train on whole dataset\n",
    "y = y[['cv']].values  # Heat capacity at 298.15K"
   ]
  },
  {
   "cell_type": "code",
   "execution_count": 3,
   "metadata": {},
   "outputs": [],
   "source": [
    "uniq_X = np.unique(X)\n",
    "X = label_to_one_hot(X, uniq_X)\n",
    "uniq_E = np.unique(E)\n",
    "ef = label_to_one_hot(E, uniq_E)\n",
    "y = StandardScaler().fit_transform(y).reshape(-1, y.shape[-1])"
   ]
  },
  {
   "cell_type": "code",
   "execution_count": 4,
   "metadata": {},
   "outputs": [],
   "source": [
    "N = X.shape[-2]           # Number of nodes in the graphs\n",
    "F = X.shape[-1]           # Node features dimensionality\n",
    "S = E.shape[-1]           # Edge features dimensionality\n",
    "n_out = y.shape[-1]       # Dimensionality of the target\n",
    "learning_rate = 1e-3      # Learning rate for SGD\n",
    "epochs = 25               # Number of training epochs\n",
    "batch_size = 64           # Batch size\n",
    "es_patience = 5           # Patience fot early stopping"
   ]
  },
  {
   "cell_type": "code",
   "execution_count": 21,
   "metadata": {},
   "outputs": [
    {
     "name": "stdout",
     "output_type": "stream",
     "text": [
      "8\n",
      "5\n",
      "1\n",
      "1\n"
     ]
    }
   ],
   "source": [
    "print(N)\n",
    "print(F)\n",
    "print(S)\n",
    "print(n_out)"
   ]
  },
  {
   "cell_type": "code",
   "execution_count": 5,
   "metadata": {},
   "outputs": [],
   "source": [
    "A_train, A_test, \\\n",
    "X_train, X_test, \\\n",
    "E_train, E_test, \\\n",
    "y_train, y_test = train_test_split(A, X, E, y, test_size=0.1)"
   ]
  },
  {
   "cell_type": "code",
   "execution_count": 6,
   "metadata": {},
   "outputs": [
    {
     "name": "stderr",
     "output_type": "stream",
     "text": [
      "WARNING: Logging before flag parsing goes to stderr.\n",
      "W1119 10:47:41.679852 4783404480 deprecation_wrapper.py:119] From /Users/em/anaconda3/envs/venv/lib/python3.7/site-packages/keras/backend/tensorflow_backend.py:66: The name tf.get_default_graph is deprecated. Please use tf.compat.v1.get_default_graph instead.\n",
      "\n",
      "W1119 10:47:41.697276 4783404480 deprecation_wrapper.py:119] From /Users/em/anaconda3/envs/venv/lib/python3.7/site-packages/keras/backend/tensorflow_backend.py:541: The name tf.placeholder is deprecated. Please use tf.compat.v1.placeholder instead.\n",
      "\n"
     ]
    }
   ],
   "source": [
    "X_in = Input(shape=(N, F))\n",
    "A_in = Input(shape=(N, N))\n",
    "E_in = Input(shape=(N, N, S))"
   ]
  },
  {
   "cell_type": "code",
   "execution_count": 7,
   "metadata": {},
   "outputs": [
    {
     "name": "stderr",
     "output_type": "stream",
     "text": [
      "W1119 10:47:41.717137 4783404480 deprecation_wrapper.py:119] From /Users/em/anaconda3/envs/venv/lib/python3.7/site-packages/keras/backend/tensorflow_backend.py:4432: The name tf.random_uniform is deprecated. Please use tf.random.uniform instead.\n",
      "\n"
     ]
    }
   ],
   "source": [
    "gc1 = EdgeConditionedConv(64, activation='relu')([X_in, A_in, E_in])\n",
    "gc2 = EdgeConditionedConv(128, activation='relu')([gc1, A_in, E_in])\n",
    "pool = GlobalAttentionPool(256)(gc2)\n",
    "dense1 = Dense(256, activation='relu')(pool)"
   ]
  },
  {
   "cell_type": "code",
   "execution_count": 8,
   "metadata": {},
   "outputs": [],
   "source": [
    "output = Dense(n_out)(dense1)"
   ]
  },
  {
   "cell_type": "code",
   "execution_count": 9,
   "metadata": {},
   "outputs": [
    {
     "name": "stderr",
     "output_type": "stream",
     "text": [
      "W1119 10:47:41.937745 4783404480 deprecation_wrapper.py:119] From /Users/em/anaconda3/envs/venv/lib/python3.7/site-packages/keras/optimizers.py:793: The name tf.train.Optimizer is deprecated. Please use tf.compat.v1.train.Optimizer instead.\n",
      "\n"
     ]
    },
    {
     "name": "stdout",
     "output_type": "stream",
     "text": [
      "Model: \"model_1\"\n",
      "__________________________________________________________________________________________________\n",
      "Layer (type)                    Output Shape         Param #     Connected to                     \n",
      "==================================================================================================\n",
      "input_1 (InputLayer)            (None, 8, 5)         0                                            \n",
      "__________________________________________________________________________________________________\n",
      "input_2 (InputLayer)            (None, 8, 8)         0                                            \n",
      "__________________________________________________________________________________________________\n",
      "input_3 (InputLayer)            (None, 8, 8, 1)      0                                            \n",
      "__________________________________________________________________________________________________\n",
      "edge_conditioned_conv_1 (EdgeCo (None, 8, 64)        704         input_1[0][0]                    \n",
      "                                                                 input_2[0][0]                    \n",
      "                                                                 input_3[0][0]                    \n",
      "__________________________________________________________________________________________________\n",
      "edge_conditioned_conv_2 (EdgeCo (None, 8, 128)       16512       edge_conditioned_conv_1[0][0]    \n",
      "                                                                 input_2[0][0]                    \n",
      "                                                                 input_3[0][0]                    \n",
      "__________________________________________________________________________________________________\n",
      "global_attention_pool_1 (Global (None, 256)          66048       edge_conditioned_conv_2[0][0]    \n",
      "__________________________________________________________________________________________________\n",
      "dense_1 (Dense)                 (None, 256)          65792       global_attention_pool_1[0][0]    \n",
      "__________________________________________________________________________________________________\n",
      "dense_2 (Dense)                 (None, 1)            257         dense_1[0][0]                    \n",
      "==================================================================================================\n",
      "Total params: 149,313\n",
      "Trainable params: 149,313\n",
      "Non-trainable params: 0\n",
      "__________________________________________________________________________________________________\n"
     ]
    }
   ],
   "source": [
    "model = Model(inputs=[X_in, A_in, E_in], outputs=output)\n",
    "optimizer = Adam(lr=learning_rate)\n",
    "model.compile(optimizer=optimizer, loss='mse')\n",
    "model.summary()"
   ]
  },
  {
   "cell_type": "code",
   "execution_count": 10,
   "metadata": {},
   "outputs": [],
   "source": [
    "es_callback = EarlyStopping(monitor='val_loss', patience=es_patience)"
   ]
  },
  {
   "cell_type": "code",
   "execution_count": 11,
   "metadata": {},
   "outputs": [
    {
     "name": "stderr",
     "output_type": "stream",
     "text": [
      "W1119 10:47:42.114096 4783404480 deprecation_wrapper.py:119] From /Users/em/anaconda3/envs/venv/lib/python3.7/site-packages/keras/backend/tensorflow_backend.py:1033: The name tf.assign_add is deprecated. Please use tf.compat.v1.assign_add instead.\n",
      "\n",
      "W1119 10:47:42.223706 4783404480 deprecation_wrapper.py:119] From /Users/em/anaconda3/envs/venv/lib/python3.7/site-packages/keras/backend/tensorflow_backend.py:1020: The name tf.assign is deprecated. Please use tf.compat.v1.assign instead.\n",
      "\n"
     ]
    },
    {
     "name": "stdout",
     "output_type": "stream",
     "text": [
      "Train on 810 samples, validate on 90 samples\n",
      "Epoch 1/25\n",
      "810/810 [==============================] - 5s 6ms/step - loss: 0.9686 - val_loss: 0.9062\n",
      "Epoch 2/25\n",
      "810/810 [==============================] - 5s 6ms/step - loss: 0.8286 - val_loss: 0.7958\n",
      "Epoch 3/25\n",
      "810/810 [==============================] - 5s 6ms/step - loss: 0.7331 - val_loss: 0.6983\n",
      "Epoch 4/25\n",
      "810/810 [==============================] - 5s 6ms/step - loss: 0.6463 - val_loss: 0.5833\n",
      "Epoch 5/25\n",
      "810/810 [==============================] - 4s 5ms/step - loss: 0.5457 - val_loss: 0.5188\n",
      "Epoch 6/25\n",
      "810/810 [==============================] - 4s 5ms/step - loss: 0.4712 - val_loss: 0.4669\n",
      "Epoch 7/25\n",
      "810/810 [==============================] - 5s 6ms/step - loss: 0.4518 - val_loss: 0.4385\n",
      "Epoch 8/25\n",
      "810/810 [==============================] - 5s 6ms/step - loss: 0.4227 - val_loss: 0.4308\n",
      "Epoch 9/25\n",
      "810/810 [==============================] - 4s 5ms/step - loss: 0.4348 - val_loss: 0.5185\n",
      "Epoch 10/25\n",
      "810/810 [==============================] - 4s 5ms/step - loss: 0.4523 - val_loss: 0.4091\n",
      "Epoch 11/25\n",
      "810/810 [==============================] - 5s 6ms/step - loss: 0.4177 - val_loss: 0.4229\n",
      "Epoch 12/25\n",
      "810/810 [==============================] - 4s 5ms/step - loss: 0.4046 - val_loss: 0.4150\n",
      "Epoch 13/25\n",
      "810/810 [==============================] - 4s 5ms/step - loss: 0.4059 - val_loss: 0.4825\n",
      "Epoch 14/25\n",
      "810/810 [==============================] - 5s 6ms/step - loss: 0.4357 - val_loss: 0.3893\n",
      "Epoch 15/25\n",
      "810/810 [==============================] - 4s 5ms/step - loss: 0.3623 - val_loss: 0.4188\n",
      "Epoch 16/25\n",
      "810/810 [==============================] - 4s 5ms/step - loss: 0.3817 - val_loss: 0.3451\n",
      "Epoch 17/25\n",
      "810/810 [==============================] - 5s 6ms/step - loss: 0.3552 - val_loss: 0.3365\n",
      "Epoch 18/25\n",
      "810/810 [==============================] - 4s 6ms/step - loss: 0.3283 - val_loss: 0.3395\n",
      "Epoch 19/25\n",
      "810/810 [==============================] - 4s 5ms/step - loss: 0.3139 - val_loss: 0.2824\n",
      "Epoch 20/25\n",
      "810/810 [==============================] - 4s 6ms/step - loss: 0.2782 - val_loss: 0.2732\n",
      "Epoch 21/25\n",
      "810/810 [==============================] - 5s 6ms/step - loss: 0.2675 - val_loss: 0.2201\n",
      "Epoch 22/25\n",
      "810/810 [==============================] - 4s 6ms/step - loss: 0.2357 - val_loss: 0.1789\n",
      "Epoch 23/25\n",
      "810/810 [==============================] - 4s 6ms/step - loss: 0.1718 - val_loss: 0.1451\n",
      "Epoch 24/25\n",
      "810/810 [==============================] - 4s 6ms/step - loss: 0.1543 - val_loss: 0.1281\n",
      "Epoch 25/25\n",
      "810/810 [==============================] - 4s 6ms/step - loss: 0.1326 - val_loss: 0.2229\n"
     ]
    },
    {
     "data": {
      "text/plain": [
       "<keras.callbacks.History at 0x1a3ac3f550>"
      ]
     },
     "execution_count": 11,
     "metadata": {},
     "output_type": "execute_result"
    }
   ],
   "source": [
    "model.fit([X_train, A_train, E_train],\n",
    "          y_train,\n",
    "          batch_size=batch_size,\n",
    "          validation_split=0.1,\n",
    "          epochs=epochs,\n",
    "          callbacks=[es_callback])"
   ]
  },
  {
   "cell_type": "code",
   "execution_count": 12,
   "metadata": {},
   "outputs": [
    {
     "name": "stdout",
     "output_type": "stream",
     "text": [
      "Evaluating model.\n",
      "100/100 [==============================] - 0s 3ms/step\n",
      "Done.\n",
      "Test loss: 0.18075450837612153\n"
     ]
    }
   ],
   "source": [
    "print('Evaluating model.')\n",
    "eval_results = model.evaluate([X_test, A_test, E_test],\n",
    "                              y_test,\n",
    "                              batch_size=batch_size)\n",
    "print('Done.\\n'\n",
    "      'Test loss: {}'.format(eval_results))"
   ]
  },
  {
   "cell_type": "code",
   "execution_count": 13,
   "metadata": {},
   "outputs": [
    {
     "data": {
      "image/png": "[encoded data removed]",
      "text/plain": [
       "<Figure size 432x288 with 1 Axes>"
      ]
     },
     "metadata": {
      "needs_background": "light"
     },
     "output_type": "display_data"
    }
   ],
   "source": [
    "preds = model.predict([X_test, A_test, E_test])\n",
    "\n",
    "plt.figure()\n",
    "plt.scatter(preds, y_test, alpha=0.3)\n",
    "plt.plot(range(-6, 6), range(-6, 6))\n",
    "plt.xlabel('Predicted')\n",
    "plt.ylabel('Actual')\n",
    "plt.savefig('pred_v_true.png')"
   ]
  },
  {
   "cell_type": "code",
   "execution_count": 14,
   "metadata": {},
   "outputs": [],
   "source": [
    "def find_rsq(preds, y_test):\n",
    "    mean = np.mean(y_test)\n",
    "    s_res = 0\n",
    "    s_tot = 0\n",
    "    for x in range(len(preds)):\n",
    "        s_res += (y_test[x] - preds[x])[0]**2\n",
    "        s_tot += (y_test[x] - mean)[0]**2\n",
    "    r_sq = 1 - (s_res / s_tot)\n",
    "    return r_sq"
   ]
  },
  {
   "cell_type": "code",
   "execution_count": 15,
   "metadata": {},
   "outputs": [
    {
     "name": "stdout",
     "output_type": "stream",
     "text": [
      "0.8077434559327564\n"
     ]
    }
   ],
   "source": [
    "print(find_rsq(preds, y_test))"
   ]
  },
  {
   "cell_type": "code",
   "execution_count": 18,
   "metadata": {},
   "outputs": [],
   "source": [
    "model.save_weights('my_model_weights.h5')"
   ]
  },
  {
   "cell_type": "code",
   "execution_count": null,
   "metadata": {},
   "outputs": [],
   "source": []
  }
 ],
 "metadata": {
  "kernelspec": {
   "display_name": "Python 3",
   "language": "python",
   "name": "python3"
  },
  "language_info": {
   "codemirror_mode": {
    "name": "ipython",
    "version": 3
   },
   "file_extension": ".py",
   "mimetype": "text/x-python",
   "name": "python",
   "nbconvert_exporter": "python",
   "pygments_lexer": "ipython3",
   "version": "3.7.4"
  }
 },
 "nbformat": 4,
 "nbformat_minor": 2
}
