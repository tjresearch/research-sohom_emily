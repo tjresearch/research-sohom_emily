{
 "cells": [
  {
   "cell_type": "code",
   "execution_count": 1,
   "metadata": {},
   "outputs": [
    {
     "name": "stderr",
     "output_type": "stream",
     "text": [
<<<<<<< HEAD
      "Using TensorFlow backend.\n"
=======
      "Using TensorFlow backend.\n",
      "/home/sohompaul/psi4conda/lib/python3.6/site-packages/tensorflow/python/framework/dtypes.py:516: FutureWarning: Passing (type, 1) or '1type' as a synonym of type is deprecated; in a future version of numpy, it will be understood as (type, (1,)) / '(1,)type'.\n",
      "  _np_qint8 = np.dtype([(\"qint8\", np.int8, 1)])\n",
      "/home/sohompaul/psi4conda/lib/python3.6/site-packages/tensorflow/python/framework/dtypes.py:517: FutureWarning: Passing (type, 1) or '1type' as a synonym of type is deprecated; in a future version of numpy, it will be understood as (type, (1,)) / '(1,)type'.\n",
      "  _np_quint8 = np.dtype([(\"quint8\", np.uint8, 1)])\n",
      "/home/sohompaul/psi4conda/lib/python3.6/site-packages/tensorflow/python/framework/dtypes.py:518: FutureWarning: Passing (type, 1) or '1type' as a synonym of type is deprecated; in a future version of numpy, it will be understood as (type, (1,)) / '(1,)type'.\n",
      "  _np_qint16 = np.dtype([(\"qint16\", np.int16, 1)])\n",
      "/home/sohompaul/psi4conda/lib/python3.6/site-packages/tensorflow/python/framework/dtypes.py:519: FutureWarning: Passing (type, 1) or '1type' as a synonym of type is deprecated; in a future version of numpy, it will be understood as (type, (1,)) / '(1,)type'.\n",
      "  _np_quint16 = np.dtype([(\"quint16\", np.uint16, 1)])\n",
      "/home/sohompaul/psi4conda/lib/python3.6/site-packages/tensorflow/python/framework/dtypes.py:520: FutureWarning: Passing (type, 1) or '1type' as a synonym of type is deprecated; in a future version of numpy, it will be understood as (type, (1,)) / '(1,)type'.\n",
      "  _np_qint32 = np.dtype([(\"qint32\", np.int32, 1)])\n",
      "/home/sohompaul/psi4conda/lib/python3.6/site-packages/tensorflow/python/framework/dtypes.py:525: FutureWarning: Passing (type, 1) or '1type' as a synonym of type is deprecated; in a future version of numpy, it will be understood as (type, (1,)) / '(1,)type'.\n",
      "  np_resource = np.dtype([(\"resource\", np.ubyte, 1)])\n",
      "/home/sohompaul/psi4conda/lib/python3.6/site-packages/tensorboard/compat/tensorflow_stub/dtypes.py:541: FutureWarning: Passing (type, 1) or '1type' as a synonym of type is deprecated; in a future version of numpy, it will be understood as (type, (1,)) / '(1,)type'.\n",
      "  _np_qint8 = np.dtype([(\"qint8\", np.int8, 1)])\n",
      "/home/sohompaul/psi4conda/lib/python3.6/site-packages/tensorboard/compat/tensorflow_stub/dtypes.py:542: FutureWarning: Passing (type, 1) or '1type' as a synonym of type is deprecated; in a future version of numpy, it will be understood as (type, (1,)) / '(1,)type'.\n",
      "  _np_quint8 = np.dtype([(\"quint8\", np.uint8, 1)])\n",
      "/home/sohompaul/psi4conda/lib/python3.6/site-packages/tensorboard/compat/tensorflow_stub/dtypes.py:543: FutureWarning: Passing (type, 1) or '1type' as a synonym of type is deprecated; in a future version of numpy, it will be understood as (type, (1,)) / '(1,)type'.\n",
      "  _np_qint16 = np.dtype([(\"qint16\", np.int16, 1)])\n",
      "/home/sohompaul/psi4conda/lib/python3.6/site-packages/tensorboard/compat/tensorflow_stub/dtypes.py:544: FutureWarning: Passing (type, 1) or '1type' as a synonym of type is deprecated; in a future version of numpy, it will be understood as (type, (1,)) / '(1,)type'.\n",
      "  _np_quint16 = np.dtype([(\"quint16\", np.uint16, 1)])\n",
      "/home/sohompaul/psi4conda/lib/python3.6/site-packages/tensorboard/compat/tensorflow_stub/dtypes.py:545: FutureWarning: Passing (type, 1) or '1type' as a synonym of type is deprecated; in a future version of numpy, it will be understood as (type, (1,)) / '(1,)type'.\n",
      "  _np_qint32 = np.dtype([(\"qint32\", np.int32, 1)])\n",
      "/home/sohompaul/psi4conda/lib/python3.6/site-packages/tensorboard/compat/tensorflow_stub/dtypes.py:550: FutureWarning: Passing (type, 1) or '1type' as a synonym of type is deprecated; in a future version of numpy, it will be understood as (type, (1,)) / '(1,)type'.\n",
      "  np_resource = np.dtype([(\"resource\", np.ubyte, 1)])\n"
>>>>>>> ebb20ce10901343aa82596554b6317ab872af4b6
     ]
    },
    {
     "name": "stdout",
     "output_type": "stream",
     "text": [
      "Loading QM9 dataset.\n",
      "Reading SDF\n"
     ]
    },
    {
     "name": "stderr",
     "output_type": "stream",
     "text": [
<<<<<<< HEAD
      "100%|██████████| 133885/133885 [00:39<00:00, 3423.41it/s]\n"
=======
      "100%|██████████| 133885/133885 [01:18<00:00, 1708.58it/s]\n"
>>>>>>> ebb20ce10901343aa82596554b6317ab872af4b6
     ]
    },
    {
     "name": "stdout",
     "output_type": "stream",
     "text": [
      "WARNING:tensorflow:From /home/sohompaul/psi4conda/lib/python3.6/site-packages/keras/backend/tensorflow_backend.py:74: The name tf.get_default_graph is deprecated. Please use tf.compat.v1.get_default_graph instead.\n",
      "\n",
      "WARNING:tensorflow:From /home/sohompaul/psi4conda/lib/python3.6/site-packages/keras/backend/tensorflow_backend.py:517: The name tf.placeholder is deprecated. Please use tf.compat.v1.placeholder instead.\n",
      "\n"
     ]
    }
   ],
   "source": [
    "%run QM9GNN2_Multitask.ipynb"
   ]
  },
  {
   "cell_type": "code",
   "execution_count": 2,
   "metadata": {},
   "outputs": [],
   "source": [
    "import psi4\n",
    "import time\n",
    "from os import path, getcwd"
   ]
  },
  {
   "cell_type": "code",
   "execution_count": 3,
   "metadata": {},
   "outputs": [],
   "source": [
    "def predict_property_neural(prop=None, mol_id=-1):\n",
    "    if mol_id == -1:\n",
    "        raise ValueError(\"ID must be between 1 and 133885\")\n",
    "    for cluster in clusters:\n",
    "        if prop in cluster:\n",
    "            model = create_hard_parameter_sharing_model(len(cluster))\n",
    "            model.load_weights(generate_model_filename(cluster))\n",
    "            model.compile(optimizer='adam', loss='mse')\n",
    "            predictions = model.predict([[X_complete[mol_id-1]], [A_complete[mol_id-1]], [E_complete[mol_id-1]]])\n",
    "            mean, std = 0, 1\n",
    "            with open(generate_model_helper_filename(prop), 'r') as f:\n",
    "                lines = f.readlines()\n",
    "                mean = float(lines[0].strip())\n",
    "                std = float(lines[1].strip())\n",
    "            prediction = mean + std * predictions[cluster.index(prop)]\n",
    "            return prediction[0][0]\n",
    "    if prop == 'gap':\n",
    "        lumo = predict_property_neural(prop='lumo', mol_id=mol_id)\n",
    "        homo = predict_property_neural(prop='homo', mol_id=mol_id)\n",
    "        return lumo - homo\n",
    "    raise ValueError(\"Property was not found in clusters list\")"
   ]
  },
  {
   "cell_type": "code",
   "execution_count": 4,
   "metadata": {},
   "outputs": [],
   "source": [
    "def get_data_folder_path():\n",
    "    return path.join(getcwd(), '..', '..', 'dsgdb9nsd')"
   ]
  },
  {
   "cell_type": "code",
   "execution_count": 5,
   "metadata": {},
   "outputs": [],
   "source": [
    "def get_molecule_from_file(filenum):\n",
    "    filepath = path.join(get_data_folder_path(), \n",
    "                           'dsgdb9nsd_' + str(filenum).zfill(6) + '.xyz')\n",
    "    f = open(filepath, 'r')\n",
    "    lines = f.readlines()\n",
    "    f.close()\n",
    "    num_atoms = int(lines[0])\n",
    "    atom_list = lines[2:2+num_atoms]\n",
    "    for i in range(len(atom_list)):\n",
    "        atom_list[i] = atom_list[i][:atom_list[i].rfind(\"\\t\")] + \"\\n\"\n",
    "    return psi4.geometry(\"\".join(atom_list))"
   ]
  },
  {
   "cell_type": "code",
   "execution_count": 6,
   "metadata": {},
   "outputs": [],
   "source": [
    "def generate_dft_output_file_path(filenum):\n",
    "    return path.join('psi4_output', 'output_'+str(filenum)+'.dat')"
   ]
  },
  {
   "cell_type": "code",
   "execution_count": 7,
   "metadata": {},
   "outputs": [],
   "source": [
    "def process_molecule(filenum, thermochemical=False):\n",
    "    psi4.core.set_output_file(generate_dft_output_file_path(filenum), False)\n",
    "    psi4.set_memory('2 GB')\n",
    "    molecule = get_molecule_from_file(filenum)\n",
    "    if thermochemical:\n",
    "        e, wfn = psi4.freq('b3lyp/cc-pvqz', molecule=molecule, return_wfn=True)\n",
    "    else:\n",
    "        e, wfn = psi4.energy('b3lyp/cc-pvqz', molecule=molecule, return_wfn=True)\n",
    "    return wfn"
   ]
  },
  {
   "cell_type": "code",
   "execution_count": 8,
   "metadata": {},
   "outputs": [],
   "source": [
    "def extract_rotational_constants(filenum, wfn):\n",
    "    f = open(generate_dft_output_file_path(filenum), 'r')\n",
    "    lines = f.readlines()\n",
    "    f.close()\n",
    "    for i in range(len(lines)-1, -1, -1):\n",
    "        if lines[i].find('Rotational constants:') > -1 and lines[i].find('[MHz]') > -1:\n",
    "            words = lines[i].split()\n",
    "            rot_constants = []\n",
    "            for const in [words[4], words[7], words[10]]:     \n",
    "                if const.isnumeric():\n",
    "                    rot_constants.append(float(const)/1000)\n",
    "                else:\n",
    "                    rot_constants.append(const)\n",
    "                    # rot_constants.append(float(const)/1000)\n",
    "            return rot_constants\n",
    "    return None, None, None"
   ]
  },
  {
   "cell_type": "code",
   "execution_count": 9,
   "metadata": {},
   "outputs": [],
   "source": [
    "def extract_dipole_moment(filenum, wfn):\n",
    "    f = open(generate_dft_output_file_path(filenum), 'r')\n",
    "    lines = f.readlines()\n",
    "    f.close()\n",
    "    for i in range(len(lines)-1, -1, -1):\n",
    "        if lines[i].find(\"Dipole Moment: [D]\") > -1:\n",
    "            return lines[i+1][lines[i+1].find(\"Total:\") + 6:]"
   ]
  },
  {
   "cell_type": "code",
   "execution_count": 10,
   "metadata": {},
   "outputs": [],
   "source": [
    "def extract_homo_lumo(filenum, wfn):\n",
    "    homo = wfn.epsilon_a_subset(\"AO\", \"ALL\").get(wfn.nalpha())\n",
    "    lumo = wfn.epsilon_a_subset(\"AO\", \"ALL\").get(wfn.nalpha() + 1)\n",
    "    return homo, lumo"
   ]
  },
  {
   "cell_type": "code",
   "execution_count": 11,
   "metadata": {},
   "outputs": [],
   "source": [
    "def extract_gap(filenum, wfn):\n",
    "    homo, lumo = extract_homo_lumo_gap(fileum, wfn)\n",
    "    return lumo - homo"
   ]
  },
  {
   "cell_type": "code",
   "execution_count": 12,
   "metadata": {},
   "outputs": [],
   "source": [
    "def extract_zpve(filenum, wfn):\n",
    "    f = open(generate_dft_output_file_path(filenum), 'r')\n",
    "    lines = f.readlines()\n",
    "    f.close()\n",
    "    for i in range(len(lines)-1, -1, -1):\n",
    "        if lines[i].find(\"Total ZPE, Electronic energy at 0 [K]\") > -1:\n",
    "            words = lines[i].split()\n",
    "            return words[-2]"
   ]
  },
  {
   "cell_type": "code",
   "execution_count": 13,
   "metadata": {},
   "outputs": [],
   "source": [
    "def extract_zero_point_internal_energy(filenum, wfn):\n",
    "    f = open(generate_dft_output_file_path(filenum), 'r')\n",
    "    lines = f.readlines()\n",
    "    f.close()\n",
    "    for i in range(len(lines)-1, -1, -1):\n",
    "        if lines[i].find(\"Total E0, Electronic energy\") > -1:\n",
    "            words = lines[i].split()\n",
    "            return words[-2]"
   ]
  },
  {
   "cell_type": "code",
   "execution_count": 14,
   "metadata": {},
   "outputs": [],
   "source": [
    "def extract_internal_energy(filenum, wfn):\n",
    "    f = open(generate_dft_output_file_path(filenum), 'r')\n",
    "    lines = f.readlines()\n",
    "    f.close()\n",
    "    for i in range(len(lines)-1, -1, -1):\n",
    "        if lines[i].find(\"Total E, Electronic energy at  298.15 [K]\") > -1:\n",
    "            words = lines[i].split()\n",
    "            return words[-2]"
   ]
  },
  {
   "cell_type": "code",
   "execution_count": 15,
   "metadata": {},
   "outputs": [],
   "source": [
    "def extract_enthalpy(filenum, wfn):\n",
    "    f = open(generate_dft_output_file_path(filenum), 'r')\n",
    "    lines = f.readlines()\n",
    "    f.close()\n",
    "    for i in range(len(lines)-1, -1, -1):\n",
    "        if lines[i].find(\"Total H, Enthalpy at  298.15 [K]\") > -1:\n",
    "            words = lines[i].split()\n",
    "            return words[-2]"
   ]
  },
  {
   "cell_type": "code",
   "execution_count": 16,
   "metadata": {},
   "outputs": [],
   "source": [
    "def extract_gibbs_free_energy(filenum, wfn):\n",
    "    f = open(generate_dft_output_file_path(filenum), 'r')\n",
    "    lines = f.readlines()\n",
    "    f.close()\n",
    "    for i in range(len(lines)-1, -1, -1):\n",
    "        if lines[i].find(\"Total G,\") > -1:\n",
    "            words = lines[i].split()\n",
    "            return words[-2]"
   ]
  },
  {
   "cell_type": "code",
   "execution_count": 17,
   "metadata": {},
   "outputs": [],
   "source": [
    "def extract_cv(filenum, wfn):\n",
    "    f = open(generate_dft_output_file_path(filenum), 'r')\n",
    "    lines = f.readlines()\n",
    "    f.close()\n",
    "    for i in range(len(lines)-1, -1, -1):\n",
    "        if lines[i].find('Total Cv') > -1:\n",
    "            words = lines[i].split()\n",
    "            return words[2]"
   ]
  },
  {
   "cell_type": "code",
   "execution_count": 18,
   "metadata": {},
   "outputs": [],
   "source": [
    "def batch_process(start_num, end_num, thermochemical=False):\n",
    "    f = open(\"output.csv\", \"w\")\n",
    "    output_header = \"Index,A,B,C,Dipole,HOMO,LUMO\"\n",
    "    if thermochemical:\n",
    "        output_header += \",zpve,H 298.15,G 298.15\"\n",
    "    output_header += \"\\n\"\n",
    "    f.write(output_header)\n",
    "    for filenum in range(start_num, end_num+1):\n",
    "        wfn = process_molecule(filenum, thermochemical=thermochemical)\n",
    "        a, b, c = extract_rotational_constants(filenum, wfn)\n",
    "        dipole = extract_dipole_moment(filenum, wfn)\n",
    "        homo, lumo = extract_homo_lumo(filenum, wfn)\n",
    "        output = str(filenum) + \",\" + str(a) + \",\" + str(b) + \",\" + str(c) + \",\" + str(dipole) + \",\" + str(homo) + \",\" + str(lumo)\n",
    "        if thermochemical:\n",
    "            zpve = extract_zpve(filenum, wfn)\n",
    "            enthalpy = extract_enthalpy(filenum, wfn)\n",
    "            gibbs_free_energy = extract_gibbs_free_energy(filenum, wfn)\n",
    "            output += \",\" + str(zpve) + \",\" + str(enthalpy) + \",\" + str(gibbs_free_energy)\n",
    "        output += \"\\n\" \n",
    "        f.write(output)\n",
    "    f.close()"
   ]
  },
  {
   "cell_type": "code",
   "execution_count": 19,
   "metadata": {},
   "outputs": [],
   "source": [
    "def predict_all_properties_dft(filenum=-1, thermochemical=False):\n",
    "    if filenum == -1:\n",
    "        raise ValueError(\"Filenum must be between 1 and 133885\")\n",
    "    wfn = process_molecule(filenum, thermochemical=thermochemical)\n",
    "    a, b, c = extract_rotational_constants(filenum, wfn)\n",
    "    dipole = extract_dipole_moment(filenum, wfn)\n",
    "    homo, lumo = extract_homo_lumo(filenum, wfn)\n",
    "    ret_dict = {'A': a, 'B': b, 'C': c, 'mu': dipole, 'homo': homo, \n",
    "                'lumo': lumo, 'gap': lumo-homo}\n",
    "    if thermochemical:\n",
    "        zpve = extract_zpve(filenum, wfn)\n",
    "        internal_energy = extract_internal_energy(filenum, wfn)\n",
    "        u0 = extract_zero_point_internal_energy(filenum, wfn)\n",
    "        enthalpy = extract_enthalpy(filenum, wfn)\n",
    "        gibbs_free_energy = extract_gibbs_free_energy(filenum, wfn)\n",
    "        cv = extract_cv(filenum, wfn)\n",
    "        ret_dict.update({'zpve': zpve, 'u0': u0, 'u298': internal_energy, \n",
    "                           'h298': enthalpy, 'g298': gibbs_free_energy, 'cv': cv})\n",
    "    return ret_dict"
   ]
  },
  {
   "cell_type": "code",
   "execution_count": 20,
   "metadata": {},
   "outputs": [],
   "source": [
    "def lookup_property(prop=None, mol_id=-1):\n",
    "    return y_complete.loc[mol_id-1, prop]"
   ]
  },
  {
   "cell_type": "code",
<<<<<<< HEAD
   "execution_count": 23,
=======
   "execution_count": 21,
>>>>>>> ebb20ce10901343aa82596554b6317ab872af4b6
   "metadata": {},
   "outputs": [],
   "source": [
    "def prompt_user_for_calculation():\n",
    "    while True:\n",
    "        num = -1\n",
    "        while num < 1 or num > 133885:\n",
    "            try:\n",
    "                num = int(input('Choose a molecule index (1-133885): '))\n",
    "            except ValueError:\n",
    "                print(\"Please provide a valid number\")\n",
    "                num = -1\n",
    "            \n",
    "        properties = ['A', 'B', 'C', 'mu', 'homo', 'lumo', 'gap', 'zpve', 'u0', 'u298', 'h298', 'g298', 'cv']\n",
    "        prop = None\n",
    "        while prop not in properties:\n",
    "            print(\"Choose an available property from the following:\")\n",
    "            print(\"A, B, C, mu, homo, lumo, gap, zpve, u0, u298, h298, g298, cv\")\n",
    "            prop = input('Choose a property: ')\n",
    "        \n",
    "        dft = None\n",
    "        while dft not in ['0', '1']:\n",
    "            print(\"Choose whether to use DFT or neural methods\")\n",
    "            print(\"0 for neural methods, 1 for DFT\")\n",
    "            dft = input('Calculation type: ')\n",
    "        \n",
    "        if dft == '1':\n",
    "            print('Beginning DFT calculation')\n",
    "            start = time.time()\n",
    "            thermochemical = prop in properties[7:]\n",
    "            ret_dict = predict_all_properties_dft(num, thermochemical=thermochemical)\n",
    "            print(ret_dict[prop])\n",
    "            end = time.time()\n",
    "            print('DFT calculation took', end-start, 's')\n",
    "        else:\n",
    "            print('Beginning neural calculation:')\n",
    "            start = time.time()\n",
    "            print(predict_property_neural(prop=prop, mol_id=num))\n",
    "            end = time.time()\n",
    "            print('Neural method took', end-start, 's')\n",
    "        print('Actual data:')\n",
    "        print(lookup_property(prop=prop, mol_id=num))"
   ]
  },
  {
   "cell_type": "code",
<<<<<<< HEAD
   "execution_count": null,
=======
   "execution_count": 23,
   "metadata": {},
   "outputs": [],
   "source": [
    "# prompt_user_for_calculation()"
   ]
  },
  {
   "cell_type": "code",
   "execution_count": 24,
>>>>>>> ebb20ce10901343aa82596554b6317ab872af4b6
   "metadata": {},
   "outputs": [
    {
     "name": "stdout",
     "output_type": "stream",
     "text": [
<<<<<<< HEAD
      "Choose a molecule index (1-133885): \n",
      "Please provide a valid number\n",
      "Choose a molecule index (1-133885): 156\n",
      "Choose an available property from the following:\n",
      "A, B, C, mu, homo, lumo, gap, zpve, u0, u298, h298, g298, cv\n",
      "Choose a property: A\n",
      "Choose whether to use DFT or neural methods\n",
      "0 for neural methods, 1 for DFT\n",
      "Calculation type: 0\n",
      "Beginning neural calculation:\n",
=======
      "A\n",
>>>>>>> ebb20ce10901343aa82596554b6317ab872af4b6
      "WARNING:tensorflow:From /home/sohompaul/psi4conda/lib/python3.6/site-packages/keras/backend/tensorflow_backend.py:4138: The name tf.random_uniform is deprecated. Please use tf.random.uniform instead.\n",
      "\n",
      "WARNING:tensorflow:From /home/sohompaul/psi4conda/lib/python3.6/site-packages/keras/backend/tensorflow_backend.py:174: The name tf.get_default_session is deprecated. Please use tf.compat.v1.get_default_session instead.\n",
      "\n",
      "WARNING:tensorflow:From /home/sohompaul/psi4conda/lib/python3.6/site-packages/keras/backend/tensorflow_backend.py:181: The name tf.ConfigProto is deprecated. Please use tf.compat.v1.ConfigProto instead.\n",
      "\n",
      "WARNING:tensorflow:From /home/sohompaul/psi4conda/lib/python3.6/site-packages/keras/optimizers.py:790: The name tf.train.Optimizer is deprecated. Please use tf.compat.v1.train.Optimizer instead.\n",
      "\n",
<<<<<<< HEAD
      "9.333505\n",
      "Neural method took 1.805973768234253 s\n",
      "Actual data:\n",
      "7.29736\n"
=======
      "13.974896915369206\n",
      "19.67161963262741\n",
      "20.356241798183174\n",
      "0.45548724303628735\n",
      "12.295963724982977\n",
      "33.739341069475174\n",
      "7.333896654863099\n",
      "16.2314518401516\n",
      "11.238227112691032\n",
      "7.984859416456194\n",
      "total err 14.328198540783614\n",
      "B\n",
      "11.660992977053997\n",
      "9.327389734717602\n",
      "44.647606070950026\n",
      "0.18840437339345034\n",
      "2.044627647050733\n",
      "16.706771919304504\n",
      "89.07799979478824\n",
      "28.88464143613837\n",
      "19.511916797854326\n",
      "1.9935638651811403\n",
      "total err 22.404391461643236\n",
      "C\n",
      "17.593401820816425\n",
      "4.460386066406172\n",
      "21.06142246990432\n",
      "1.547464977332565\n",
      "16.088114003414802\n",
      "0.028043254895753416\n",
      "16.702896364275112\n",
      "4.754930128877823\n",
      "10.004258214313836\n",
      "48.46520995602857\n",
      "total err 14.070612725626537\n",
      "mu\n",
      "11.367001830452109\n",
      "14.012089122300608\n",
      "16.4974316858694\n",
      "43.94863955650455\n",
      "21.00295915601695\n",
      "8.229106580707398\n",
      "15.253320982465816\n",
      "23.13965831622461\n",
      "11.937425335573481\n",
      "3.10102382345422\n",
      "total err 16.848865638956916\n",
      "homo\n",
      "7.80007422104915\n",
      "5.406640082751616\n",
      "0.2884830972800146\n",
      "3.7183623079519723\n",
      "0.42195105853242\n",
      "3.0216451950572254\n",
      "1.7655888748661395\n",
      "3.7944980471087195\n",
      "1.6015559447524197\n",
      "0.23743011595670624\n",
      "total err 2.805622894530638\n",
      "lumo\n",
      "87.17238687402833\n",
      "100.95640013857586\n",
      "54.84256142417326\n",
      "17.184927619199986\n",
      "16.50171947992401\n",
      "0.9111828876264119\n",
      "10.982309532556915\n",
      "18.74533874887817\n",
      "161.88353409572522\n",
      "89.94607022542993\n",
      "total err 55.91264310261181\n",
      "gap\n",
      "2.650981959319553\n",
      "3.5621988250462726\n",
      "4.919583936303399\n",
      "4.337449599120579\n",
      "5.1546628653134645\n",
      "23.98503702087212\n",
      "0.02579467241154436\n",
      "2.00177165244124\n",
      "5.17263000182006\n",
      "13.44014711671136\n",
      "total err 6.525025764935959\n",
      "zpve\n",
      "0.6760459253117771\n",
      "2.6843664059705863\n",
      "4.552791741298077\n",
      "0.5385920126771715\n",
      "4.0152063195822505\n",
      "4.472488180272408\n",
      "3.1172793667874754\n",
      "0.5596617189987741\n",
      "3.9155313481534124\n",
      "1.0889810532012527\n",
      "total err 2.5620944072253184\n",
      "u0\n",
      "0.28567161400119057\n",
      "0.46844231978585626\n",
      "1.1775804015944495\n",
      "0.004798788140116862\n",
      "0.4875579918129858\n",
      "0.298455552806312\n",
      "0.48234336348190454\n",
      "0.10761092126629719\n",
      "0.6377196584004685\n",
      "0.2055487189235821\n",
      "total err 0.41557293302131637\n",
      "u298\n",
      "0.13071164618477946\n",
      "0.027325277207872818\n",
      "0.33655612125122275\n",
      "0.16180272773865867\n",
      "0.09274083968279122\n",
      "0.3110340445770753\n",
      "0.006540366830137187\n",
      "0.3884972246030894\n",
      "0.1785903627809584\n",
      "0.41839087332932745\n",
      "total err 0.20521894841859126\n",
      "h298\n",
      "0.047595213806431426\n",
      "0.32040165321808817\n",
      "0.1819685923309641\n",
      "0.00420302270544904\n",
      "0.5722298815527127\n",
      "0.11615675677542979\n",
      "0.07854301376122887\n",
      "0.6756996065841211\n"
     ]
    },
    {
     "ename": "KeyboardInterrupt",
     "evalue": "",
     "output_type": "error",
     "traceback": [
      "\u001b[0;31m---------------------------------------------------------------------------\u001b[0m",
      "\u001b[0;31mKeyboardInterrupt\u001b[0m                         Traceback (most recent call last)",
      "\u001b[0;32m<ipython-input-24-a2a4a3b25854>\u001b[0m in \u001b[0;36m<module>\u001b[0;34m\u001b[0m\n\u001b[1;32m      5\u001b[0m     \u001b[0merrors\u001b[0m \u001b[0;34m=\u001b[0m \u001b[0mlist\u001b[0m\u001b[0;34m(\u001b[0m\u001b[0;34m)\u001b[0m\u001b[0;34m\u001b[0m\u001b[0;34m\u001b[0m\u001b[0m\n\u001b[1;32m      6\u001b[0m     \u001b[0;32mfor\u001b[0m \u001b[0mindex\u001b[0m \u001b[0;32min\u001b[0m \u001b[0mnp\u001b[0m\u001b[0;34m.\u001b[0m\u001b[0mrandom\u001b[0m\u001b[0;34m.\u001b[0m\u001b[0mchoice\u001b[0m\u001b[0;34m(\u001b[0m\u001b[0;36m133885\u001b[0m\u001b[0;34m,\u001b[0m \u001b[0;36m10\u001b[0m\u001b[0;34m)\u001b[0m\u001b[0;34m:\u001b[0m\u001b[0;34m\u001b[0m\u001b[0;34m\u001b[0m\u001b[0m\n\u001b[0;32m----> 7\u001b[0;31m         \u001b[0mpred\u001b[0m \u001b[0;34m=\u001b[0m \u001b[0mpredict_property_neural\u001b[0m\u001b[0;34m(\u001b[0m\u001b[0mprop\u001b[0m\u001b[0;34m=\u001b[0m\u001b[0mprop\u001b[0m\u001b[0;34m,\u001b[0m \u001b[0mmol_id\u001b[0m\u001b[0;34m=\u001b[0m\u001b[0mindex\u001b[0m\u001b[0;34m+\u001b[0m\u001b[0;36m1\u001b[0m\u001b[0;34m)\u001b[0m\u001b[0;34m\u001b[0m\u001b[0;34m\u001b[0m\u001b[0m\n\u001b[0m\u001b[1;32m      8\u001b[0m         \u001b[0mactual\u001b[0m \u001b[0;34m=\u001b[0m \u001b[0mlookup_property\u001b[0m\u001b[0;34m(\u001b[0m\u001b[0mprop\u001b[0m\u001b[0;34m=\u001b[0m\u001b[0mprop\u001b[0m\u001b[0;34m,\u001b[0m \u001b[0mmol_id\u001b[0m\u001b[0;34m=\u001b[0m\u001b[0mindex\u001b[0m\u001b[0;34m+\u001b[0m\u001b[0;36m1\u001b[0m\u001b[0;34m)\u001b[0m\u001b[0;34m\u001b[0m\u001b[0;34m\u001b[0m\u001b[0m\n\u001b[1;32m      9\u001b[0m         \u001b[0merr\u001b[0m \u001b[0;34m=\u001b[0m \u001b[0mabs\u001b[0m\u001b[0;34m(\u001b[0m\u001b[0;34m(\u001b[0m\u001b[0mpred\u001b[0m\u001b[0;34m-\u001b[0m\u001b[0mactual\u001b[0m\u001b[0;34m)\u001b[0m\u001b[0;34m/\u001b[0m\u001b[0mactual\u001b[0m\u001b[0;34m*\u001b[0m\u001b[0;36m100\u001b[0m\u001b[0;34m)\u001b[0m\u001b[0;34m\u001b[0m\u001b[0;34m\u001b[0m\u001b[0m\n",
      "\u001b[0;32m<ipython-input-3-51c80d4ba55f>\u001b[0m in \u001b[0;36mpredict_property_neural\u001b[0;34m(prop, mol_id)\u001b[0m\n\u001b[1;32m      7\u001b[0m             \u001b[0mmodel\u001b[0m\u001b[0;34m.\u001b[0m\u001b[0mload_weights\u001b[0m\u001b[0;34m(\u001b[0m\u001b[0mgenerate_model_filename\u001b[0m\u001b[0;34m(\u001b[0m\u001b[0mcluster\u001b[0m\u001b[0;34m)\u001b[0m\u001b[0;34m)\u001b[0m\u001b[0;34m\u001b[0m\u001b[0;34m\u001b[0m\u001b[0m\n\u001b[1;32m      8\u001b[0m             \u001b[0mmodel\u001b[0m\u001b[0;34m.\u001b[0m\u001b[0mcompile\u001b[0m\u001b[0;34m(\u001b[0m\u001b[0moptimizer\u001b[0m\u001b[0;34m=\u001b[0m\u001b[0;34m'adam'\u001b[0m\u001b[0;34m,\u001b[0m \u001b[0mloss\u001b[0m\u001b[0;34m=\u001b[0m\u001b[0;34m'mse'\u001b[0m\u001b[0;34m)\u001b[0m\u001b[0;34m\u001b[0m\u001b[0;34m\u001b[0m\u001b[0m\n\u001b[0;32m----> 9\u001b[0;31m             \u001b[0mpredictions\u001b[0m \u001b[0;34m=\u001b[0m \u001b[0mmodel\u001b[0m\u001b[0;34m.\u001b[0m\u001b[0mpredict\u001b[0m\u001b[0;34m(\u001b[0m\u001b[0;34m[\u001b[0m\u001b[0;34m[\u001b[0m\u001b[0mX_complete\u001b[0m\u001b[0;34m[\u001b[0m\u001b[0mmol_id\u001b[0m\u001b[0;34m-\u001b[0m\u001b[0;36m1\u001b[0m\u001b[0;34m]\u001b[0m\u001b[0;34m]\u001b[0m\u001b[0;34m,\u001b[0m \u001b[0;34m[\u001b[0m\u001b[0mA_complete\u001b[0m\u001b[0;34m[\u001b[0m\u001b[0mmol_id\u001b[0m\u001b[0;34m-\u001b[0m\u001b[0;36m1\u001b[0m\u001b[0;34m]\u001b[0m\u001b[0;34m]\u001b[0m\u001b[0;34m,\u001b[0m \u001b[0;34m[\u001b[0m\u001b[0mE_complete\u001b[0m\u001b[0;34m[\u001b[0m\u001b[0mmol_id\u001b[0m\u001b[0;34m-\u001b[0m\u001b[0;36m1\u001b[0m\u001b[0;34m]\u001b[0m\u001b[0;34m]\u001b[0m\u001b[0;34m]\u001b[0m\u001b[0;34m)\u001b[0m\u001b[0;34m\u001b[0m\u001b[0;34m\u001b[0m\u001b[0m\n\u001b[0m\u001b[1;32m     10\u001b[0m             \u001b[0mmean\u001b[0m\u001b[0;34m,\u001b[0m \u001b[0mstd\u001b[0m \u001b[0;34m=\u001b[0m \u001b[0;36m0\u001b[0m\u001b[0;34m,\u001b[0m \u001b[0;36m1\u001b[0m\u001b[0;34m\u001b[0m\u001b[0;34m\u001b[0m\u001b[0m\n\u001b[1;32m     11\u001b[0m             \u001b[0;32mwith\u001b[0m \u001b[0mopen\u001b[0m\u001b[0;34m(\u001b[0m\u001b[0mgenerate_model_helper_filename\u001b[0m\u001b[0;34m(\u001b[0m\u001b[0mprop\u001b[0m\u001b[0;34m)\u001b[0m\u001b[0;34m,\u001b[0m \u001b[0;34m'r'\u001b[0m\u001b[0;34m)\u001b[0m \u001b[0;32mas\u001b[0m \u001b[0mf\u001b[0m\u001b[0;34m:\u001b[0m\u001b[0;34m\u001b[0m\u001b[0;34m\u001b[0m\u001b[0m\n",
      "\u001b[0;32m~/psi4conda/lib/python3.6/site-packages/keras/engine/training.py\u001b[0m in \u001b[0;36mpredict\u001b[0;34m(self, x, batch_size, verbose, steps)\u001b[0m\n\u001b[1;32m   1167\u001b[0m                                             \u001b[0mbatch_size\u001b[0m\u001b[0;34m=\u001b[0m\u001b[0mbatch_size\u001b[0m\u001b[0;34m,\u001b[0m\u001b[0;34m\u001b[0m\u001b[0;34m\u001b[0m\u001b[0m\n\u001b[1;32m   1168\u001b[0m                                             \u001b[0mverbose\u001b[0m\u001b[0;34m=\u001b[0m\u001b[0mverbose\u001b[0m\u001b[0;34m,\u001b[0m\u001b[0;34m\u001b[0m\u001b[0;34m\u001b[0m\u001b[0m\n\u001b[0;32m-> 1169\u001b[0;31m                                             steps=steps)\n\u001b[0m\u001b[1;32m   1170\u001b[0m \u001b[0;34m\u001b[0m\u001b[0m\n\u001b[1;32m   1171\u001b[0m     def train_on_batch(self, x, y,\n",
      "\u001b[0;32m~/psi4conda/lib/python3.6/site-packages/keras/engine/training_arrays.py\u001b[0m in \u001b[0;36mpredict_loop\u001b[0;34m(model, f, ins, batch_size, verbose, steps)\u001b[0m\n\u001b[1;32m    292\u001b[0m                 \u001b[0mins_batch\u001b[0m\u001b[0;34m[\u001b[0m\u001b[0mi\u001b[0m\u001b[0;34m]\u001b[0m \u001b[0;34m=\u001b[0m \u001b[0mins_batch\u001b[0m\u001b[0;34m[\u001b[0m\u001b[0mi\u001b[0m\u001b[0;34m]\u001b[0m\u001b[0;34m.\u001b[0m\u001b[0mtoarray\u001b[0m\u001b[0;34m(\u001b[0m\u001b[0;34m)\u001b[0m\u001b[0;34m\u001b[0m\u001b[0;34m\u001b[0m\u001b[0m\n\u001b[1;32m    293\u001b[0m \u001b[0;34m\u001b[0m\u001b[0m\n\u001b[0;32m--> 294\u001b[0;31m             \u001b[0mbatch_outs\u001b[0m \u001b[0;34m=\u001b[0m \u001b[0mf\u001b[0m\u001b[0;34m(\u001b[0m\u001b[0mins_batch\u001b[0m\u001b[0;34m)\u001b[0m\u001b[0;34m\u001b[0m\u001b[0;34m\u001b[0m\u001b[0m\n\u001b[0m\u001b[1;32m    295\u001b[0m             \u001b[0mbatch_outs\u001b[0m \u001b[0;34m=\u001b[0m \u001b[0mto_list\u001b[0m\u001b[0;34m(\u001b[0m\u001b[0mbatch_outs\u001b[0m\u001b[0;34m)\u001b[0m\u001b[0;34m\u001b[0m\u001b[0;34m\u001b[0m\u001b[0m\n\u001b[1;32m    296\u001b[0m             \u001b[0;32mif\u001b[0m \u001b[0mbatch_index\u001b[0m \u001b[0;34m==\u001b[0m \u001b[0;36m0\u001b[0m\u001b[0;34m:\u001b[0m\u001b[0;34m\u001b[0m\u001b[0;34m\u001b[0m\u001b[0m\n",
      "\u001b[0;32m~/psi4conda/lib/python3.6/site-packages/keras/backend/tensorflow_backend.py\u001b[0m in \u001b[0;36m__call__\u001b[0;34m(self, inputs)\u001b[0m\n\u001b[1;32m   2695\u001b[0m \u001b[0;34m\u001b[0m\u001b[0m\n\u001b[1;32m   2696\u001b[0m     \u001b[0;32mdef\u001b[0m \u001b[0m__call__\u001b[0m\u001b[0;34m(\u001b[0m\u001b[0mself\u001b[0m\u001b[0;34m,\u001b[0m \u001b[0minputs\u001b[0m\u001b[0;34m)\u001b[0m\u001b[0;34m:\u001b[0m\u001b[0;34m\u001b[0m\u001b[0;34m\u001b[0m\u001b[0m\n\u001b[0;32m-> 2697\u001b[0;31m         \u001b[0;32mif\u001b[0m \u001b[0mhasattr\u001b[0m\u001b[0;34m(\u001b[0m\u001b[0mget_session\u001b[0m\u001b[0;34m(\u001b[0m\u001b[0;34m)\u001b[0m\u001b[0;34m,\u001b[0m \u001b[0;34m'_make_callable_from_options'\u001b[0m\u001b[0;34m)\u001b[0m\u001b[0;34m:\u001b[0m\u001b[0;34m\u001b[0m\u001b[0;34m\u001b[0m\u001b[0m\n\u001b[0m\u001b[1;32m   2698\u001b[0m             \u001b[0;32mif\u001b[0m \u001b[0mpy_any\u001b[0m\u001b[0;34m(\u001b[0m\u001b[0mis_sparse\u001b[0m\u001b[0;34m(\u001b[0m\u001b[0mx\u001b[0m\u001b[0;34m)\u001b[0m \u001b[0;32mfor\u001b[0m \u001b[0mx\u001b[0m \u001b[0;32min\u001b[0m \u001b[0mself\u001b[0m\u001b[0;34m.\u001b[0m\u001b[0minputs\u001b[0m\u001b[0;34m)\u001b[0m\u001b[0;34m:\u001b[0m\u001b[0;34m\u001b[0m\u001b[0;34m\u001b[0m\u001b[0m\n\u001b[1;32m   2699\u001b[0m                 \u001b[0;32mif\u001b[0m \u001b[0mpy_any\u001b[0m\u001b[0;34m(\u001b[0m\u001b[0mis_tensor\u001b[0m\u001b[0;34m(\u001b[0m\u001b[0mx\u001b[0m\u001b[0;34m)\u001b[0m \u001b[0;32mfor\u001b[0m \u001b[0mx\u001b[0m \u001b[0;32min\u001b[0m \u001b[0minputs\u001b[0m\u001b[0;34m)\u001b[0m\u001b[0;34m:\u001b[0m\u001b[0;34m\u001b[0m\u001b[0;34m\u001b[0m\u001b[0m\n",
      "\u001b[0;32m~/psi4conda/lib/python3.6/site-packages/keras/backend/tensorflow_backend.py\u001b[0m in \u001b[0;36mget_session\u001b[0;34m()\u001b[0m\n\u001b[1;32m    204\u001b[0m                     \u001b[0mv\u001b[0m\u001b[0;34m.\u001b[0m\u001b[0m_keras_initialized\u001b[0m \u001b[0;34m=\u001b[0m \u001b[0;32mTrue\u001b[0m\u001b[0;34m\u001b[0m\u001b[0;34m\u001b[0m\u001b[0m\n\u001b[1;32m    205\u001b[0m                 \u001b[0;32mif\u001b[0m \u001b[0muninitialized_vars\u001b[0m\u001b[0;34m:\u001b[0m\u001b[0;34m\u001b[0m\u001b[0;34m\u001b[0m\u001b[0m\n\u001b[0;32m--> 206\u001b[0;31m                     \u001b[0msession\u001b[0m\u001b[0;34m.\u001b[0m\u001b[0mrun\u001b[0m\u001b[0;34m(\u001b[0m\u001b[0mtf\u001b[0m\u001b[0;34m.\u001b[0m\u001b[0mvariables_initializer\u001b[0m\u001b[0;34m(\u001b[0m\u001b[0muninitialized_vars\u001b[0m\u001b[0;34m)\u001b[0m\u001b[0;34m)\u001b[0m\u001b[0;34m\u001b[0m\u001b[0;34m\u001b[0m\u001b[0m\n\u001b[0m\u001b[1;32m    207\u001b[0m     \u001b[0;31m# hack for list_devices() function.\u001b[0m\u001b[0;34m\u001b[0m\u001b[0;34m\u001b[0m\u001b[0;34m\u001b[0m\u001b[0m\n\u001b[1;32m    208\u001b[0m     \u001b[0;31m# list_devices() function is not available under tensorflow r1.3.\u001b[0m\u001b[0;34m\u001b[0m\u001b[0;34m\u001b[0m\u001b[0;34m\u001b[0m\u001b[0m\n",
      "\u001b[0;32m~/psi4conda/lib/python3.6/site-packages/tensorflow/python/client/session.py\u001b[0m in \u001b[0;36mrun\u001b[0;34m(self, fetches, feed_dict, options, run_metadata)\u001b[0m\n\u001b[1;32m    948\u001b[0m     \u001b[0;32mtry\u001b[0m\u001b[0;34m:\u001b[0m\u001b[0;34m\u001b[0m\u001b[0;34m\u001b[0m\u001b[0m\n\u001b[1;32m    949\u001b[0m       result = self._run(None, fetches, feed_dict, options_ptr,\n\u001b[0;32m--> 950\u001b[0;31m                          run_metadata_ptr)\n\u001b[0m\u001b[1;32m    951\u001b[0m       \u001b[0;32mif\u001b[0m \u001b[0mrun_metadata\u001b[0m\u001b[0;34m:\u001b[0m\u001b[0;34m\u001b[0m\u001b[0;34m\u001b[0m\u001b[0m\n\u001b[1;32m    952\u001b[0m         \u001b[0mproto_data\u001b[0m \u001b[0;34m=\u001b[0m \u001b[0mtf_session\u001b[0m\u001b[0;34m.\u001b[0m\u001b[0mTF_GetBuffer\u001b[0m\u001b[0;34m(\u001b[0m\u001b[0mrun_metadata_ptr\u001b[0m\u001b[0;34m)\u001b[0m\u001b[0;34m\u001b[0m\u001b[0;34m\u001b[0m\u001b[0m\n",
      "\u001b[0;32m~/psi4conda/lib/python3.6/site-packages/tensorflow/python/client/session.py\u001b[0m in \u001b[0;36m_run\u001b[0;34m(self, handle, fetches, feed_dict, options, run_metadata)\u001b[0m\n\u001b[1;32m   1171\u001b[0m     \u001b[0;32mif\u001b[0m \u001b[0mfinal_fetches\u001b[0m \u001b[0;32mor\u001b[0m \u001b[0mfinal_targets\u001b[0m \u001b[0;32mor\u001b[0m \u001b[0;34m(\u001b[0m\u001b[0mhandle\u001b[0m \u001b[0;32mand\u001b[0m \u001b[0mfeed_dict_tensor\u001b[0m\u001b[0;34m)\u001b[0m\u001b[0;34m:\u001b[0m\u001b[0;34m\u001b[0m\u001b[0;34m\u001b[0m\u001b[0m\n\u001b[1;32m   1172\u001b[0m       results = self._do_run(handle, final_targets, final_fetches,\n\u001b[0;32m-> 1173\u001b[0;31m                              feed_dict_tensor, options, run_metadata)\n\u001b[0m\u001b[1;32m   1174\u001b[0m     \u001b[0;32melse\u001b[0m\u001b[0;34m:\u001b[0m\u001b[0;34m\u001b[0m\u001b[0;34m\u001b[0m\u001b[0m\n\u001b[1;32m   1175\u001b[0m       \u001b[0mresults\u001b[0m \u001b[0;34m=\u001b[0m \u001b[0;34m[\u001b[0m\u001b[0;34m]\u001b[0m\u001b[0;34m\u001b[0m\u001b[0;34m\u001b[0m\u001b[0m\n",
      "\u001b[0;32m~/psi4conda/lib/python3.6/site-packages/tensorflow/python/client/session.py\u001b[0m in \u001b[0;36m_do_run\u001b[0;34m(self, handle, target_list, fetch_list, feed_dict, options, run_metadata)\u001b[0m\n\u001b[1;32m   1348\u001b[0m     \u001b[0;32mif\u001b[0m \u001b[0mhandle\u001b[0m \u001b[0;32mis\u001b[0m \u001b[0;32mNone\u001b[0m\u001b[0;34m:\u001b[0m\u001b[0;34m\u001b[0m\u001b[0;34m\u001b[0m\u001b[0m\n\u001b[1;32m   1349\u001b[0m       return self._do_call(_run_fn, feeds, fetches, targets, options,\n\u001b[0;32m-> 1350\u001b[0;31m                            run_metadata)\n\u001b[0m\u001b[1;32m   1351\u001b[0m     \u001b[0;32melse\u001b[0m\u001b[0;34m:\u001b[0m\u001b[0;34m\u001b[0m\u001b[0;34m\u001b[0m\u001b[0m\n\u001b[1;32m   1352\u001b[0m       \u001b[0;32mreturn\u001b[0m \u001b[0mself\u001b[0m\u001b[0;34m.\u001b[0m\u001b[0m_do_call\u001b[0m\u001b[0;34m(\u001b[0m\u001b[0m_prun_fn\u001b[0m\u001b[0;34m,\u001b[0m \u001b[0mhandle\u001b[0m\u001b[0;34m,\u001b[0m \u001b[0mfeeds\u001b[0m\u001b[0;34m,\u001b[0m \u001b[0mfetches\u001b[0m\u001b[0;34m)\u001b[0m\u001b[0;34m\u001b[0m\u001b[0;34m\u001b[0m\u001b[0m\n",
      "\u001b[0;32m~/psi4conda/lib/python3.6/site-packages/tensorflow/python/client/session.py\u001b[0m in \u001b[0;36m_do_call\u001b[0;34m(self, fn, *args)\u001b[0m\n\u001b[1;32m   1354\u001b[0m   \u001b[0;32mdef\u001b[0m \u001b[0m_do_call\u001b[0m\u001b[0;34m(\u001b[0m\u001b[0mself\u001b[0m\u001b[0;34m,\u001b[0m \u001b[0mfn\u001b[0m\u001b[0;34m,\u001b[0m \u001b[0;34m*\u001b[0m\u001b[0margs\u001b[0m\u001b[0;34m)\u001b[0m\u001b[0;34m:\u001b[0m\u001b[0;34m\u001b[0m\u001b[0;34m\u001b[0m\u001b[0m\n\u001b[1;32m   1355\u001b[0m     \u001b[0;32mtry\u001b[0m\u001b[0;34m:\u001b[0m\u001b[0;34m\u001b[0m\u001b[0;34m\u001b[0m\u001b[0m\n\u001b[0;32m-> 1356\u001b[0;31m       \u001b[0;32mreturn\u001b[0m \u001b[0mfn\u001b[0m\u001b[0;34m(\u001b[0m\u001b[0;34m*\u001b[0m\u001b[0margs\u001b[0m\u001b[0;34m)\u001b[0m\u001b[0;34m\u001b[0m\u001b[0;34m\u001b[0m\u001b[0m\n\u001b[0m\u001b[1;32m   1357\u001b[0m     \u001b[0;32mexcept\u001b[0m \u001b[0merrors\u001b[0m\u001b[0;34m.\u001b[0m\u001b[0mOpError\u001b[0m \u001b[0;32mas\u001b[0m \u001b[0me\u001b[0m\u001b[0;34m:\u001b[0m\u001b[0;34m\u001b[0m\u001b[0;34m\u001b[0m\u001b[0m\n\u001b[1;32m   1358\u001b[0m       \u001b[0mmessage\u001b[0m \u001b[0;34m=\u001b[0m \u001b[0mcompat\u001b[0m\u001b[0;34m.\u001b[0m\u001b[0mas_text\u001b[0m\u001b[0;34m(\u001b[0m\u001b[0me\u001b[0m\u001b[0;34m.\u001b[0m\u001b[0mmessage\u001b[0m\u001b[0;34m)\u001b[0m\u001b[0;34m\u001b[0m\u001b[0;34m\u001b[0m\u001b[0m\n",
      "\u001b[0;32m~/psi4conda/lib/python3.6/site-packages/tensorflow/python/client/session.py\u001b[0m in \u001b[0;36m_run_fn\u001b[0;34m(feed_dict, fetch_list, target_list, options, run_metadata)\u001b[0m\n\u001b[1;32m   1339\u001b[0m       \u001b[0mself\u001b[0m\u001b[0;34m.\u001b[0m\u001b[0m_extend_graph\u001b[0m\u001b[0;34m(\u001b[0m\u001b[0;34m)\u001b[0m\u001b[0;34m\u001b[0m\u001b[0;34m\u001b[0m\u001b[0m\n\u001b[1;32m   1340\u001b[0m       return self._call_tf_sessionrun(\n\u001b[0;32m-> 1341\u001b[0;31m           options, feed_dict, fetch_list, target_list, run_metadata)\n\u001b[0m\u001b[1;32m   1342\u001b[0m \u001b[0;34m\u001b[0m\u001b[0m\n\u001b[1;32m   1343\u001b[0m     \u001b[0;32mdef\u001b[0m \u001b[0m_prun_fn\u001b[0m\u001b[0;34m(\u001b[0m\u001b[0mhandle\u001b[0m\u001b[0;34m,\u001b[0m \u001b[0mfeed_dict\u001b[0m\u001b[0;34m,\u001b[0m \u001b[0mfetch_list\u001b[0m\u001b[0;34m)\u001b[0m\u001b[0;34m:\u001b[0m\u001b[0;34m\u001b[0m\u001b[0;34m\u001b[0m\u001b[0m\n",
      "\u001b[0;32m~/psi4conda/lib/python3.6/site-packages/tensorflow/python/client/session.py\u001b[0m in \u001b[0;36m_call_tf_sessionrun\u001b[0;34m(self, options, feed_dict, fetch_list, target_list, run_metadata)\u001b[0m\n\u001b[1;32m   1427\u001b[0m     return tf_session.TF_SessionRun_wrapper(\n\u001b[1;32m   1428\u001b[0m         \u001b[0mself\u001b[0m\u001b[0;34m.\u001b[0m\u001b[0m_session\u001b[0m\u001b[0;34m,\u001b[0m \u001b[0moptions\u001b[0m\u001b[0;34m,\u001b[0m \u001b[0mfeed_dict\u001b[0m\u001b[0;34m,\u001b[0m \u001b[0mfetch_list\u001b[0m\u001b[0;34m,\u001b[0m \u001b[0mtarget_list\u001b[0m\u001b[0;34m,\u001b[0m\u001b[0;34m\u001b[0m\u001b[0;34m\u001b[0m\u001b[0m\n\u001b[0;32m-> 1429\u001b[0;31m         run_metadata)\n\u001b[0m\u001b[1;32m   1430\u001b[0m \u001b[0;34m\u001b[0m\u001b[0m\n\u001b[1;32m   1431\u001b[0m   \u001b[0;32mdef\u001b[0m \u001b[0m_call_tf_sessionprun\u001b[0m\u001b[0;34m(\u001b[0m\u001b[0mself\u001b[0m\u001b[0;34m,\u001b[0m \u001b[0mhandle\u001b[0m\u001b[0;34m,\u001b[0m \u001b[0mfeed_dict\u001b[0m\u001b[0;34m,\u001b[0m \u001b[0mfetch_list\u001b[0m\u001b[0;34m)\u001b[0m\u001b[0;34m:\u001b[0m\u001b[0;34m\u001b[0m\u001b[0;34m\u001b[0m\u001b[0m\n",
      "\u001b[0;31mKeyboardInterrupt\u001b[0m: "
     ]
    }
   ],
   "source": [
    "properties = ['A', 'B', 'C', 'mu', 'homo', 'lumo', 'gap', 'zpve', 'u0', 'u298', 'h298', 'g298', 'cv']\n",
    "\n",
    "for prop in properties:\n",
    "    print(prop)\n",
    "    errors = list()\n",
    "    for index in np.random.choice(133885, 10):\n",
    "        pred = predict_property_neural(prop=prop, mol_id=index+1)\n",
    "        actual = lookup_property(prop=prop, mol_id=index+1)\n",
    "        err = abs((pred-actual)/actual*100)\n",
    "        print(err)\n",
    "        errors.append(err)\n",
    "    print('total err', sum(errors)/len(errors))"
   ]
  },
  {
   "cell_type": "code",
   "execution_count": null,
   "metadata": {},
   "outputs": [
    {
     "name": "stdout",
     "output_type": "stream",
     "text": [
      "A\n",
      "1.8455707850646963\n",
      "0.718402177734375\n",
      "0.048991450347900756\n",
      "0.04634370468139659\n",
      "0.16163083320617666\n",
      "0.6746652793884276\n",
      "0.747865013427734\n",
      "0.9222380640411378\n",
      "0.44993365722656264\n",
      "0.1536929026794427\n",
      "avg err 0.576933386779785\n",
      "B\n",
      "0.6436539069366456\n",
      "0.2824262729263307\n",
      "0.04712434226989748\n",
      "0.1802233409881593\n",
      "0.03706696678161614\n",
      "0.09517442649841312\n",
      "0.13754784400939934\n",
      "0.28446955924987793\n",
      "0.2863973701667786\n",
      "0.41041322746276854\n",
      "avg err 0.24044972572898865\n",
      "C\n",
      "0.16003034473419198\n",
      "0.0962758953857421\n",
      "0.19725141418457026\n",
      "0.05663787128448483\n",
      "0.009670214366912844\n",
      "0.10894170333862307\n",
      "0.10201684257507337\n",
      "0.009325303211212166\n",
      "0.05882413249969476\n",
      "0.0353913743972778\n",
      "avg err 0.08343650959777832\n",
      "mu\n",
      "2.3182340900421146\n",
      "0.3333273456573487\n",
      "1.2832710319519043\n",
      "1.3116816108703615\n",
      "0.11640046367645263\n",
      "0.1574854789733886\n",
      "1.5667521926879884\n",
      "0.698894987106323\n",
      "0.22679478683471688\n",
      "1.0718364540100098\n",
      "avg err 0.9084678441810607\n",
      "homo\n",
      "0.006094772720336927\n",
      "0.004701627635955802\n",
      "0.0026826119422912464\n",
      "4.733912944793195e-05\n",
      "0.01505313525199889\n",
      "0.00021152534484863983\n",
      "0.01151987409591676\n",
      "0.008652663087844847\n",
      "0.0004693645238876276\n",
      "0.006464636087417597\n",
      "avg err 0.005589754981994627\n",
      "lumo\n",
      "0.011139318409562112\n",
      "0.008028437280654908\n",
      "0.002086461248993872\n",
      "0.02106772298812866\n",
      "0.004510160070657729\n",
      "0.007077935218811032\n",
      "0.0011712908387184195\n",
      "0.012099968799948693\n",
      "0.015891032314300536\n",
      "0.020455601748824118\n",
      "avg err 0.010352792891860009\n",
      "gap\n",
      "0.017548305320739754\n",
      "0.008492778635025011\n",
      "0.004634956502914456\n",
      "0.012349446201324443\n",
      "0.00040329957008361506\n",
      "0.008289600825309745\n",
      "0.0034726663589477458\n",
      "0.003970617961883527\n",
      "0.006773146343231229\n",
      "0.021054487323760973\n",
      "avg err 0.00869893050432205\n",
      "zpve\n",
      "0.007158970279693602\n",
      "0.0060795914297104015\n",
      "0.0017899326086044248\n",
      "0.0018411351490020822\n",
      "0.0028175642852783234\n",
      "0.010501374418258658\n",
      "0.004070474927902218\n",
      "0.0007607542695999281\n",
      "0.005534954055786134\n",
      "0.0055344356250763005\n",
      "avg err 0.004608918704891207\n",
      "u0\n",
      "2.41439952148437\n",
      "1.4649264062499583\n",
      "0.43650439257811513\n",
      "0.03927490820314006\n",
      "0.0877573144531425\n",
      "1.1462179511718773\n",
      "0.7653349687499826\n",
      "1.8213271308593448\n",
      "1.8612006445312659\n"
>>>>>>> ebb20ce10901343aa82596554b6317ab872af4b6
     ]
    }
   ],
   "source": [
<<<<<<< HEAD
    "prompt_user_for_calculation()"
=======
    "properties = ['A', 'B', 'C', 'mu', 'homo', 'lumo', 'gap', 'zpve', 'u0', 'u298', 'h298', 'g298', 'cv']\n",
    "\n",
    "for prop in properties:\n",
    "    print(prop)\n",
    "    errors = list()\n",
    "    for index in np.random.choice(133885, 10):\n",
    "        pred = predict_property_neural(prop=prop, mol_id=index+1)\n",
    "        actual = lookup_property(prop=prop, mol_id=index+1)\n",
    "        err = abs(pred-actual)\n",
    "        print(err)\n",
    "        errors.append(err)\n",
    "    print('avg err', sum(errors)/len(errors))"
>>>>>>> ebb20ce10901343aa82596554b6317ab872af4b6
   ]
  },
  {
   "cell_type": "code",
   "execution_count": null,
   "metadata": {},
   "outputs": [],
   "source": []
  }
 ],
 "metadata": {
  "kernelspec": {
   "display_name": "Python 3",
   "language": "python",
   "name": "python3"
  },
  "language_info": {
   "codemirror_mode": {
    "name": "ipython",
    "version": 3
   },
   "file_extension": ".py",
   "mimetype": "text/x-python",
   "name": "python",
   "nbconvert_exporter": "python",
   "pygments_lexer": "ipython3",
<<<<<<< HEAD
   "version": "3.6.8"
=======
   "version": "3.7.7"
>>>>>>> ebb20ce10901343aa82596554b6317ab872af4b6
  }
 },
 "nbformat": 4,
 "nbformat_minor": 2
}
