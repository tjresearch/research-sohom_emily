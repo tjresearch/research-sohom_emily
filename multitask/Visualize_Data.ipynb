{
 "cells": [
  {
   "cell_type": "code",
   "execution_count": 103,
   "metadata": {},
   "outputs": [],
   "source": [
    "import numpy as np\n",
    "import pandas as pd\n",
    "from matplotlib import pyplot as plt\n",
    "\n",
    "from scipy import stats\n",
    "\n",
    "from spektral.datasets import qm9"
   ]
  },
  {
   "cell_type": "code",
   "execution_count": 94,
   "metadata": {},
   "outputs": [
    {
     "name": "stdout",
     "output_type": "stream",
     "text": [
      "Loading QM9 dataset.\n",
      "Reading SDF\n"
     ]
    }
   ],
   "source": [
    "_, _, _, y = qm9.load_data(return_type='numpy',\n",
    "                          amount=None)\n",
    "\n",
    "y = y[y.columns[1:]]"
   ]
  },
  {
   "cell_type": "code",
   "execution_count": 98,
   "metadata": {},
   "outputs": [
    {
     "data": {
      "text/html": [
       "<div>\n",
       "<style scoped>\n",
       "    .dataframe tbody tr th:only-of-type {\n",
       "        vertical-align: middle;\n",
       "    }\n",
       "\n",
       "    .dataframe tbody tr th {\n",
       "        vertical-align: top;\n",
       "    }\n",
       "\n",
       "    .dataframe thead th {\n",
       "        text-align: right;\n",
       "    }\n",
       "</style>\n",
       "<table border=\"1\" class=\"dataframe\">\n",
       "  <thead>\n",
       "    <tr style=\"text-align: right;\">\n",
       "      <th></th>\n",
       "      <th>A</th>\n",
       "      <th>B</th>\n",
       "      <th>C</th>\n",
       "      <th>mu</th>\n",
       "      <th>alpha</th>\n",
       "      <th>homo</th>\n",
       "      <th>lumo</th>\n",
       "      <th>gap</th>\n",
       "      <th>r2</th>\n",
       "      <th>zpve</th>\n",
       "      <th>u0</th>\n",
       "      <th>u298</th>\n",
       "      <th>h298</th>\n",
       "      <th>g298</th>\n",
       "      <th>cv</th>\n",
       "      <th>u0_atom</th>\n",
       "      <th>u298_atom</th>\n",
       "      <th>h298_atom</th>\n",
       "      <th>g298_atom</th>\n",
       "    </tr>\n",
       "  </thead>\n",
       "  <tbody>\n",
       "    <tr>\n",
       "      <th>0</th>\n",
       "      <td>157.71180</td>\n",
       "      <td>157.709970</td>\n",
       "      <td>157.706990</td>\n",
       "      <td>0.0000</td>\n",
       "      <td>13.21</td>\n",
       "      <td>-0.3877</td>\n",
       "      <td>0.1171</td>\n",
       "      <td>0.5048</td>\n",
       "      <td>35.3641</td>\n",
       "      <td>0.044749</td>\n",
       "      <td>-40.478930</td>\n",
       "      <td>-40.476062</td>\n",
       "      <td>-40.475117</td>\n",
       "      <td>-40.498597</td>\n",
       "      <td>6.469</td>\n",
       "      <td>-395.999595</td>\n",
       "      <td>-398.643290</td>\n",
       "      <td>-401.014647</td>\n",
       "      <td>-372.471772</td>\n",
       "    </tr>\n",
       "    <tr>\n",
       "      <th>1</th>\n",
       "      <td>293.60975</td>\n",
       "      <td>293.541110</td>\n",
       "      <td>191.393970</td>\n",
       "      <td>1.6256</td>\n",
       "      <td>9.46</td>\n",
       "      <td>-0.2570</td>\n",
       "      <td>0.0829</td>\n",
       "      <td>0.3399</td>\n",
       "      <td>26.1563</td>\n",
       "      <td>0.034358</td>\n",
       "      <td>-56.525887</td>\n",
       "      <td>-56.523026</td>\n",
       "      <td>-56.522082</td>\n",
       "      <td>-56.544961</td>\n",
       "      <td>6.316</td>\n",
       "      <td>-276.861363</td>\n",
       "      <td>-278.620271</td>\n",
       "      <td>-280.399259</td>\n",
       "      <td>-259.338802</td>\n",
       "    </tr>\n",
       "    <tr>\n",
       "      <th>2</th>\n",
       "      <td>799.58812</td>\n",
       "      <td>437.903860</td>\n",
       "      <td>282.945450</td>\n",
       "      <td>1.8511</td>\n",
       "      <td>6.31</td>\n",
       "      <td>-0.2928</td>\n",
       "      <td>0.0687</td>\n",
       "      <td>0.3615</td>\n",
       "      <td>19.0002</td>\n",
       "      <td>0.021375</td>\n",
       "      <td>-76.404702</td>\n",
       "      <td>-76.401867</td>\n",
       "      <td>-76.400922</td>\n",
       "      <td>-76.422349</td>\n",
       "      <td>6.002</td>\n",
       "      <td>-213.087624</td>\n",
       "      <td>-213.974294</td>\n",
       "      <td>-215.159658</td>\n",
       "      <td>-201.407171</td>\n",
       "    </tr>\n",
       "    <tr>\n",
       "      <th>3</th>\n",
       "      <td>0.00000</td>\n",
       "      <td>35.610036</td>\n",
       "      <td>35.610036</td>\n",
       "      <td>0.0000</td>\n",
       "      <td>16.28</td>\n",
       "      <td>-0.2845</td>\n",
       "      <td>0.0506</td>\n",
       "      <td>0.3351</td>\n",
       "      <td>59.5248</td>\n",
       "      <td>0.026841</td>\n",
       "      <td>-77.308427</td>\n",
       "      <td>-77.305527</td>\n",
       "      <td>-77.304583</td>\n",
       "      <td>-77.327429</td>\n",
       "      <td>8.574</td>\n",
       "      <td>-385.501997</td>\n",
       "      <td>-387.237686</td>\n",
       "      <td>-389.016047</td>\n",
       "      <td>-365.800724</td>\n",
       "    </tr>\n",
       "    <tr>\n",
       "      <th>4</th>\n",
       "      <td>0.00000</td>\n",
       "      <td>44.593883</td>\n",
       "      <td>44.593883</td>\n",
       "      <td>2.8937</td>\n",
       "      <td>12.99</td>\n",
       "      <td>-0.3604</td>\n",
       "      <td>0.0191</td>\n",
       "      <td>0.3796</td>\n",
       "      <td>48.7476</td>\n",
       "      <td>0.016601</td>\n",
       "      <td>-93.411888</td>\n",
       "      <td>-93.409370</td>\n",
       "      <td>-93.408425</td>\n",
       "      <td>-93.431246</td>\n",
       "      <td>6.278</td>\n",
       "      <td>-301.820534</td>\n",
       "      <td>-302.906752</td>\n",
       "      <td>-304.091489</td>\n",
       "      <td>-288.720028</td>\n",
       "    </tr>\n",
       "    <tr>\n",
       "      <th>...</th>\n",
       "      <td>...</td>\n",
       "      <td>...</td>\n",
       "      <td>...</td>\n",
       "      <td>...</td>\n",
       "      <td>...</td>\n",
       "      <td>...</td>\n",
       "      <td>...</td>\n",
       "      <td>...</td>\n",
       "      <td>...</td>\n",
       "      <td>...</td>\n",
       "      <td>...</td>\n",
       "      <td>...</td>\n",
       "      <td>...</td>\n",
       "      <td>...</td>\n",
       "      <td>...</td>\n",
       "      <td>...</td>\n",
       "      <td>...</td>\n",
       "      <td>...</td>\n",
       "      <td>...</td>\n",
       "    </tr>\n",
       "    <tr>\n",
       "      <th>133880</th>\n",
       "      <td>3.59483</td>\n",
       "      <td>2.198990</td>\n",
       "      <td>1.904230</td>\n",
       "      <td>1.6637</td>\n",
       "      <td>69.37</td>\n",
       "      <td>-0.2254</td>\n",
       "      <td>0.0588</td>\n",
       "      <td>0.2842</td>\n",
       "      <td>760.7472</td>\n",
       "      <td>0.127406</td>\n",
       "      <td>-400.633868</td>\n",
       "      <td>-400.628599</td>\n",
       "      <td>-400.627654</td>\n",
       "      <td>-400.663098</td>\n",
       "      <td>23.658</td>\n",
       "      <td>-1603.983913</td>\n",
       "      <td>-1614.898804</td>\n",
       "      <td>-1623.788097</td>\n",
       "      <td>-1492.819438</td>\n",
       "    </tr>\n",
       "    <tr>\n",
       "      <th>133881</th>\n",
       "      <td>3.65648</td>\n",
       "      <td>2.142370</td>\n",
       "      <td>1.904390</td>\n",
       "      <td>1.2976</td>\n",
       "      <td>69.52</td>\n",
       "      <td>-0.2393</td>\n",
       "      <td>0.0608</td>\n",
       "      <td>0.3002</td>\n",
       "      <td>762.6354</td>\n",
       "      <td>0.127495</td>\n",
       "      <td>-400.629713</td>\n",
       "      <td>-400.624444</td>\n",
       "      <td>-400.623500</td>\n",
       "      <td>-400.658942</td>\n",
       "      <td>23.697</td>\n",
       "      <td>-1601.376613</td>\n",
       "      <td>-1612.291504</td>\n",
       "      <td>-1621.181424</td>\n",
       "      <td>-1490.211511</td>\n",
       "    </tr>\n",
       "    <tr>\n",
       "      <th>133882</th>\n",
       "      <td>3.67118</td>\n",
       "      <td>2.143140</td>\n",
       "      <td>1.895010</td>\n",
       "      <td>1.2480</td>\n",
       "      <td>73.60</td>\n",
       "      <td>-0.2233</td>\n",
       "      <td>0.0720</td>\n",
       "      <td>0.2953</td>\n",
       "      <td>780.3553</td>\n",
       "      <td>0.140458</td>\n",
       "      <td>-380.753918</td>\n",
       "      <td>-380.748619</td>\n",
       "      <td>-380.747675</td>\n",
       "      <td>-380.783148</td>\n",
       "      <td>23.972</td>\n",
       "      <td>-1667.045429</td>\n",
       "      <td>-1678.830048</td>\n",
       "      <td>-1688.312964</td>\n",
       "      <td>-1549.143391</td>\n",
       "    </tr>\n",
       "    <tr>\n",
       "      <th>133883</th>\n",
       "      <td>3.52845</td>\n",
       "      <td>2.151310</td>\n",
       "      <td>1.865820</td>\n",
       "      <td>1.9576</td>\n",
       "      <td>77.40</td>\n",
       "      <td>-0.2122</td>\n",
       "      <td>0.0881</td>\n",
       "      <td>0.3003</td>\n",
       "      <td>803.1904</td>\n",
       "      <td>0.152222</td>\n",
       "      <td>-364.720374</td>\n",
       "      <td>-364.714974</td>\n",
       "      <td>-364.714030</td>\n",
       "      <td>-364.749650</td>\n",
       "      <td>24.796</td>\n",
       "      <td>-1794.600439</td>\n",
       "      <td>-1807.210860</td>\n",
       "      <td>-1817.286772</td>\n",
       "      <td>-1670.349892</td>\n",
       "    </tr>\n",
       "    <tr>\n",
       "      <th>133884</th>\n",
       "      <td>3.64015</td>\n",
       "      <td>2.217640</td>\n",
       "      <td>1.937930</td>\n",
       "      <td>0.8626</td>\n",
       "      <td>69.48</td>\n",
       "      <td>-0.2316</td>\n",
       "      <td>0.0742</td>\n",
       "      <td>0.3058</td>\n",
       "      <td>756.3557</td>\n",
       "      <td>0.127862</td>\n",
       "      <td>-400.633052</td>\n",
       "      <td>-400.627892</td>\n",
       "      <td>-400.626948</td>\n",
       "      <td>-400.662186</td>\n",
       "      <td>23.434</td>\n",
       "      <td>-1603.471865</td>\n",
       "      <td>-1614.455155</td>\n",
       "      <td>-1623.345075</td>\n",
       "      <td>-1492.247150</td>\n",
       "    </tr>\n",
       "  </tbody>\n",
       "</table>\n",
       "<p>133885 rows × 19 columns</p>\n",
       "</div>"
      ],
      "text/plain": [
       "                A           B           C      mu  alpha    homo    lumo  \\\n",
       "0       157.71180  157.709970  157.706990  0.0000  13.21 -0.3877  0.1171   \n",
       "1       293.60975  293.541110  191.393970  1.6256   9.46 -0.2570  0.0829   \n",
       "2       799.58812  437.903860  282.945450  1.8511   6.31 -0.2928  0.0687   \n",
       "3         0.00000   35.610036   35.610036  0.0000  16.28 -0.2845  0.0506   \n",
       "4         0.00000   44.593883   44.593883  2.8937  12.99 -0.3604  0.0191   \n",
       "...           ...         ...         ...     ...    ...     ...     ...   \n",
       "133880    3.59483    2.198990    1.904230  1.6637  69.37 -0.2254  0.0588   \n",
       "133881    3.65648    2.142370    1.904390  1.2976  69.52 -0.2393  0.0608   \n",
       "133882    3.67118    2.143140    1.895010  1.2480  73.60 -0.2233  0.0720   \n",
       "133883    3.52845    2.151310    1.865820  1.9576  77.40 -0.2122  0.0881   \n",
       "133884    3.64015    2.217640    1.937930  0.8626  69.48 -0.2316  0.0742   \n",
       "\n",
       "           gap        r2      zpve          u0        u298        h298  \\\n",
       "0       0.5048   35.3641  0.044749  -40.478930  -40.476062  -40.475117   \n",
       "1       0.3399   26.1563  0.034358  -56.525887  -56.523026  -56.522082   \n",
       "2       0.3615   19.0002  0.021375  -76.404702  -76.401867  -76.400922   \n",
       "3       0.3351   59.5248  0.026841  -77.308427  -77.305527  -77.304583   \n",
       "4       0.3796   48.7476  0.016601  -93.411888  -93.409370  -93.408425   \n",
       "...        ...       ...       ...         ...         ...         ...   \n",
       "133880  0.2842  760.7472  0.127406 -400.633868 -400.628599 -400.627654   \n",
       "133881  0.3002  762.6354  0.127495 -400.629713 -400.624444 -400.623500   \n",
       "133882  0.2953  780.3553  0.140458 -380.753918 -380.748619 -380.747675   \n",
       "133883  0.3003  803.1904  0.152222 -364.720374 -364.714974 -364.714030   \n",
       "133884  0.3058  756.3557  0.127862 -400.633052 -400.627892 -400.626948   \n",
       "\n",
       "              g298      cv      u0_atom    u298_atom    h298_atom    g298_atom  \n",
       "0       -40.498597   6.469  -395.999595  -398.643290  -401.014647  -372.471772  \n",
       "1       -56.544961   6.316  -276.861363  -278.620271  -280.399259  -259.338802  \n",
       "2       -76.422349   6.002  -213.087624  -213.974294  -215.159658  -201.407171  \n",
       "3       -77.327429   8.574  -385.501997  -387.237686  -389.016047  -365.800724  \n",
       "4       -93.431246   6.278  -301.820534  -302.906752  -304.091489  -288.720028  \n",
       "...            ...     ...          ...          ...          ...          ...  \n",
       "133880 -400.663098  23.658 -1603.983913 -1614.898804 -1623.788097 -1492.819438  \n",
       "133881 -400.658942  23.697 -1601.376613 -1612.291504 -1621.181424 -1490.211511  \n",
       "133882 -380.783148  23.972 -1667.045429 -1678.830048 -1688.312964 -1549.143391  \n",
       "133883 -364.749650  24.796 -1794.600439 -1807.210860 -1817.286772 -1670.349892  \n",
       "133884 -400.662186  23.434 -1603.471865 -1614.455155 -1623.345075 -1492.247150  \n",
       "\n",
       "[133885 rows x 19 columns]"
      ]
     },
     "execution_count": 98,
     "metadata": {},
     "output_type": "execute_result"
    }
   ],
   "source": [
    "y"
   ]
  },
  {
   "cell_type": "code",
   "execution_count": 114,
   "metadata": {},
   "outputs": [
    {
     "name": "stdout",
     "output_type": "stream",
     "text": [
      "Analyzing A\n",
      "\n",
      "0.0%\t: 0.00\n",
      "5.0%\t: 2.09\n",
      "10.0%\t: 2.24\n",
      "15.0%\t: 2.36\n",
      "20.0%\t: 2.46\n",
      "25.0%\t: 2.55\n",
      "30.0%\t: 2.65\n",
      "35.0%\t: 2.76\n",
      "40.0%\t: 2.87\n",
      "45.0%\t: 2.98\n",
      "50.0%\t: 3.09\n",
      "55.0%\t: 3.20\n",
      "60.0%\t: 3.31\n",
      "65.0%\t: 3.45\n",
      "70.0%\t: 3.63\n",
      "75.0%\t: 3.84\n",
      "80.0%\t: 4.08\n",
      "85.0%\t: 4.43\n",
      "90.0%\t: 4.96\n",
      "95.0%\t: 5.90\n",
      "100.0%\t: 619867.68\n",
      "iqr: 1.2813899999999996\n",
      "Scale: 5\n",
      "Num outliers: 574\n"
     ]
    },
    {
     "data": {
      "image/png": "[encoded data removed]",
      "text/plain": [
       "<Figure size 432x288 with 1 Axes>"
      ]
     },
     "metadata": {
      "needs_background": "light"
     },
     "output_type": "display_data"
    },
    {
     "name": "stdout",
     "output_type": "stream",
     "text": [
      "Analyzing log A\n",
      "\n",
      "0.0%\t: 0.00\n",
      "5.0%\t: 1.13\n",
      "10.0%\t: 1.18\n",
      "15.0%\t: 1.21\n",
      "20.0%\t: 1.24\n",
      "25.0%\t: 1.27\n",
      "30.0%\t: 1.30\n",
      "35.0%\t: 1.32\n",
      "40.0%\t: 1.35\n",
      "45.0%\t: 1.38\n",
      "50.0%\t: 1.41\n",
      "55.0%\t: 1.43\n",
      "60.0%\t: 1.46\n",
      "65.0%\t: 1.49\n",
      "70.0%\t: 1.53\n",
      "75.0%\t: 1.58\n",
      "80.0%\t: 1.63\n",
      "85.0%\t: 1.69\n",
      "90.0%\t: 1.79\n",
      "95.0%\t: 1.93\n",
      "100.0%\t: 13.34\n",
      "iqr: 0.3078559983691391\n",
      "Scale: 5\n",
      "Num outliers: 76\n"
     ]
    },
    {
     "data": {
      "image/png": "[encoded data removed]",
      "text/plain": [
       "<Figure size 432x288 with 1 Axes>"
      ]
     },
     "metadata": {
      "needs_background": "light"
     },
     "output_type": "display_data"
    },
    {
     "name": "stdout",
     "output_type": "stream",
     "text": [
      "Analyzing B\n",
      "\n",
      "0.0%\t: 0.34\n",
      "5.0%\t: 0.73\n",
      "10.0%\t: 0.86\n",
      "15.0%\t: 0.95\n",
      "20.0%\t: 1.03\n",
      "25.0%\t: 1.09\n",
      "30.0%\t: 1.16\n",
      "35.0%\t: 1.22\n",
      "40.0%\t: 1.27\n",
      "45.0%\t: 1.32\n",
      "50.0%\t: 1.37\n",
      "55.0%\t: 1.42\n",
      "60.0%\t: 1.48\n",
      "65.0%\t: 1.54\n",
      "70.0%\t: 1.59\n",
      "75.0%\t: 1.65\n",
      "80.0%\t: 1.72\n",
      "85.0%\t: 1.81\n",
      "90.0%\t: 1.91\n",
      "95.0%\t: 2.11\n",
      "100.0%\t: 437.90\n",
      "iqr: 0.5623500000000001\n",
      "Scale: 5\n",
      "Num outliers: 123\n"
     ]
    },
    {
     "data": {
      "image/png": "[encoded data removed]",
      "text/plain": [
       "<Figure size 432x288 with 1 Axes>"
      ]
     },
     "metadata": {
      "needs_background": "light"
     },
     "output_type": "display_data"
    },
    {
     "name": "stdout",
     "output_type": "stream",
     "text": [
      "Analyzing log B\n",
      "\n",
      "0.0%\t: 0.29\n",
      "5.0%\t: 0.55\n",
      "10.0%\t: 0.62\n",
      "15.0%\t: 0.67\n",
      "20.0%\t: 0.71\n",
      "25.0%\t: 0.74\n",
      "30.0%\t: 0.77\n",
      "35.0%\t: 0.80\n",
      "40.0%\t: 0.82\n",
      "45.0%\t: 0.84\n",
      "50.0%\t: 0.86\n",
      "55.0%\t: 0.89\n",
      "60.0%\t: 0.91\n",
      "65.0%\t: 0.93\n",
      "70.0%\t: 0.95\n",
      "75.0%\t: 0.98\n",
      "80.0%\t: 1.00\n",
      "85.0%\t: 1.03\n",
      "90.0%\t: 1.07\n",
      "95.0%\t: 1.13\n",
      "100.0%\t: 6.08\n",
      "iqr: 0.23811673377098552\n",
      "Scale: 5\n",
      "Num outliers: 43\n"
     ]
    },
    {
     "data": {
      "image/png": "[encoded data removed]",
      "text/plain": [
       "<Figure size 432x288 with 1 Axes>"
      ]
     },
     "metadata": {
      "needs_background": "light"
     },
     "output_type": "display_data"
    },
    {
     "name": "stdout",
     "output_type": "stream",
     "text": [
      "Analyzing C\n",
      "\n",
      "0.0%\t: 0.33\n",
      "5.0%\t: 0.66\n",
      "10.0%\t: 0.76\n",
      "15.0%\t: 0.83\n",
      "20.0%\t: 0.87\n",
      "25.0%\t: 0.91\n",
      "30.0%\t: 0.95\n",
      "35.0%\t: 0.98\n",
      "40.0%\t: 1.01\n",
      "45.0%\t: 1.04\n",
      "50.0%\t: 1.08\n",
      "55.0%\t: 1.11\n",
      "60.0%\t: 1.15\n",
      "65.0%\t: 1.19\n",
      "70.0%\t: 1.23\n",
      "75.0%\t: 1.28\n",
      "80.0%\t: 1.34\n",
      "85.0%\t: 1.41\n",
      "90.0%\t: 1.51\n",
      "95.0%\t: 1.67\n",
      "100.0%\t: 282.95\n",
      "iqr: 0.36905999999999994\n",
      "Scale: 5\n",
      "Num outliers: 190\n"
     ]
    },
    {
     "data": {
      "image/png": "[encoded data removed]",
      "text/plain": [
       "<Figure size 432x288 with 1 Axes>"
      ]
     },
     "metadata": {
      "needs_background": "light"
     },
     "output_type": "display_data"
    },
    {
     "name": "stdout",
     "output_type": "stream",
     "text": [
      "Analyzing log C\n",
      "\n",
      "0.0%\t: 0.29\n",
      "5.0%\t: 0.51\n",
      "10.0%\t: 0.57\n",
      "15.0%\t: 0.60\n",
      "20.0%\t: 0.63\n",
      "25.0%\t: 0.65\n",
      "30.0%\t: 0.67\n",
      "35.0%\t: 0.68\n",
      "40.0%\t: 0.70\n",
      "45.0%\t: 0.71\n",
      "50.0%\t: 0.73\n",
      "55.0%\t: 0.75\n",
      "60.0%\t: 0.77\n",
      "65.0%\t: 0.78\n",
      "70.0%\t: 0.80\n",
      "75.0%\t: 0.82\n",
      "80.0%\t: 0.85\n",
      "85.0%\t: 0.88\n",
      "90.0%\t: 0.92\n",
      "95.0%\t: 0.98\n",
      "100.0%\t: 5.65\n",
      "iqr: 0.17661914883896057\n",
      "Scale: 5\n",
      "Num outliers: 58\n"
     ]
    },
    {
     "data": {
      "image/png": "[encoded data removed]",
      "text/plain": [
       "<Figure size 432x288 with 1 Axes>"
      ]
     },
     "metadata": {
      "needs_background": "light"
     },
     "output_type": "display_data"
    },
    {
     "name": "stdout",
     "output_type": "stream",
     "text": [
      "Analyzing mu\n",
      "\n",
      "0.0%\t: 0.00\n",
      "5.0%\t: 0.66\n",
      "10.0%\t: 1.04\n",
      "15.0%\t: 1.27\n",
      "20.0%\t: 1.43\n",
      "25.0%\t: 1.59\n",
      "30.0%\t: 1.74\n",
      "35.0%\t: 1.90\n",
      "40.0%\t: 2.09\n",
      "45.0%\t: 2.29\n",
      "50.0%\t: 2.50\n",
      "55.0%\t: 2.71\n",
      "60.0%\t: 2.91\n",
      "65.0%\t: 3.14\n",
      "70.0%\t: 3.38\n",
      "75.0%\t: 3.64\n",
      "80.0%\t: 3.92\n",
      "85.0%\t: 4.24\n",
      "90.0%\t: 4.66\n",
      "95.0%\t: 5.30\n",
      "100.0%\t: 29.56\n",
      "iqr: 2.0473999999999997\n",
      "Scale: 5\n",
      "Num outliers: 116\n"
     ]
    },
    {
     "data": {
      "image/png": "[encoded data removed]",
      "text/plain": [
       "<Figure size 432x288 with 1 Axes>"
      ]
     },
     "metadata": {
      "needs_background": "light"
     },
     "output_type": "display_data"
    },
    {
     "name": "stdout",
     "output_type": "stream",
     "text": [
      "Analyzing log mu\n",
      "\n",
      "0.0%\t: 0.00\n",
      "5.0%\t: 0.51\n",
      "10.0%\t: 0.71\n",
      "15.0%\t: 0.82\n",
      "20.0%\t: 0.89\n",
      "25.0%\t: 0.95\n",
      "30.0%\t: 1.01\n",
      "35.0%\t: 1.07\n",
      "40.0%\t: 1.13\n",
      "45.0%\t: 1.19\n",
      "50.0%\t: 1.25\n",
      "55.0%\t: 1.31\n",
      "60.0%\t: 1.36\n",
      "65.0%\t: 1.42\n",
      "70.0%\t: 1.48\n",
      "75.0%\t: 1.53\n",
      "80.0%\t: 1.59\n",
      "85.0%\t: 1.66\n",
      "90.0%\t: 1.73\n",
      "95.0%\t: 1.84\n",
      "100.0%\t: 3.42\n",
      "iqr: 0.5827176763638755\n",
      "Scale: 5\n",
      "Num outliers: 0\n"
     ]
    },
    {
     "data": {
      "image/png": "[encoded data removed]",
      "text/plain": [
       "<Figure size 432x288 with 1 Axes>"
      ]
     },
     "metadata": {
      "needs_background": "light"
     },
     "output_type": "display_data"
    },
    {
     "name": "stdout",
     "output_type": "stream",
     "text": [
      "Analyzing alpha\n",
      "\n",
      "0.0%\t: 6.31\n",
      "5.0%\t: 61.34\n",
      "10.0%\t: 65.08\n",
      "15.0%\t: 67.37\n",
      "20.0%\t: 68.91\n",
      "25.0%\t: 70.38\n",
      "30.0%\t: 71.56\n",
      "35.0%\t: 72.57\n",
      "40.0%\t: 73.63\n",
      "45.0%\t: 74.59\n",
      "50.0%\t: 75.50\n",
      "55.0%\t: 76.47\n",
      "60.0%\t: 77.46\n",
      "65.0%\t: 78.39\n",
      "70.0%\t: 79.36\n",
      "75.0%\t: 80.52\n",
      "80.0%\t: 81.77\n",
      "85.0%\t: 83.16\n",
      "90.0%\t: 85.04\n",
      "95.0%\t: 87.90\n",
      "100.0%\t: 196.62\n",
      "iqr: 10.14\n",
      "Scale: 5\n",
      "Num outliers: 12\n"
     ]
    },
    {
     "data": {
      "image/png": "[encoded data removed]",
      "text/plain": [
       "<Figure size 432x288 with 1 Axes>"
      ]
     },
     "metadata": {
      "needs_background": "light"
     },
     "output_type": "display_data"
    },
    {
     "name": "stdout",
     "output_type": "stream",
     "text": [
      "Analyzing log alpha\n",
      "\n",
      "0.0%\t: 1.99\n",
      "5.0%\t: 4.13\n",
      "10.0%\t: 4.19\n",
      "15.0%\t: 4.22\n",
      "20.0%\t: 4.25\n",
      "25.0%\t: 4.27\n",
      "30.0%\t: 4.28\n",
      "35.0%\t: 4.30\n",
      "40.0%\t: 4.31\n",
      "45.0%\t: 4.33\n",
      "50.0%\t: 4.34\n",
      "55.0%\t: 4.35\n",
      "60.0%\t: 4.36\n",
      "65.0%\t: 4.37\n",
      "70.0%\t: 4.39\n",
      "75.0%\t: 4.40\n",
      "80.0%\t: 4.42\n",
      "85.0%\t: 4.43\n",
      "90.0%\t: 4.45\n",
      "95.0%\t: 4.49\n",
      "100.0%\t: 5.29\n",
      "iqr: 0.1328306708524556\n",
      "Scale: 5\n",
      "Num outliers: 67\n"
     ]
    },
    {
     "data": {
      "image/png": "[encoded data removed]",
      "text/plain": [
       "<Figure size 432x288 with 1 Axes>"
      ]
     },
     "metadata": {
      "needs_background": "light"
     },
     "output_type": "display_data"
    },
    {
     "name": "stdout",
     "output_type": "stream",
     "text": [
      "Analyzing homo\n",
      "\n",
      "0.0%\t: 0.10\n",
      "5.0%\t: 0.20\n",
      "10.0%\t: 0.21\n",
      "15.0%\t: 0.22\n",
      "20.0%\t: 0.23\n",
      "25.0%\t: 0.23\n",
      "30.0%\t: 0.23\n",
      "35.0%\t: 0.23\n",
      "40.0%\t: 0.24\n",
      "45.0%\t: 0.24\n",
      "50.0%\t: 0.24\n",
      "55.0%\t: 0.24\n",
      "60.0%\t: 0.25\n",
      "65.0%\t: 0.25\n",
      "70.0%\t: 0.25\n",
      "75.0%\t: 0.25\n",
      "80.0%\t: 0.26\n",
      "85.0%\t: 0.26\n",
      "90.0%\t: 0.27\n",
      "95.0%\t: 0.27\n",
      "100.0%\t: 0.43\n",
      "iqr: 0.023800000000000016\n",
      "Scale: 5\n",
      "Num outliers: 9\n"
     ]
    },
    {
     "data": {
      "image/png": "[encoded data removed]",
      "text/plain": [
       "<Figure size 432x288 with 1 Axes>"
      ]
     },
     "metadata": {
      "needs_background": "light"
     },
     "output_type": "display_data"
    },
    {
     "name": "stdout",
     "output_type": "stream",
     "text": [
      "Analyzing log homo\n",
      "\n",
      "0.0%\t: 0.10\n",
      "5.0%\t: 0.18\n",
      "10.0%\t: 0.19\n",
      "15.0%\t: 0.20\n",
      "20.0%\t: 0.20\n",
      "25.0%\t: 0.21\n",
      "30.0%\t: 0.21\n",
      "35.0%\t: 0.21\n",
      "40.0%\t: 0.21\n",
      "45.0%\t: 0.21\n",
      "50.0%\t: 0.22\n",
      "55.0%\t: 0.22\n",
      "60.0%\t: 0.22\n",
      "65.0%\t: 0.22\n",
      "70.0%\t: 0.22\n",
      "75.0%\t: 0.23\n",
      "80.0%\t: 0.23\n",
      "85.0%\t: 0.23\n",
      "90.0%\t: 0.24\n",
      "95.0%\t: 0.24\n",
      "100.0%\t: 0.36\n",
      "iqr: 0.019184854085494335\n",
      "Scale: 5\n",
      "Num outliers: 10\n"
     ]
    },
    {
     "data": {
      "image/png": "[encoded data removed]",
      "text/plain": [
       "<Figure size 432x288 with 1 Axes>"
      ]
     },
     "metadata": {
      "needs_background": "light"
     },
     "output_type": "display_data"
    },
    {
     "name": "stdout",
     "output_type": "stream",
     "text": [
      "Analyzing gap\n",
      "\n",
      "0.0%\t: 0.02\n",
      "5.0%\t: 0.17\n",
      "10.0%\t: 0.19\n",
      "15.0%\t: 0.20\n",
      "20.0%\t: 0.21\n",
      "25.0%\t: 0.22\n",
      "30.0%\t: 0.22\n",
      "35.0%\t: 0.23\n",
      "40.0%\t: 0.23\n",
      "45.0%\t: 0.24\n",
      "50.0%\t: 0.25\n",
      "55.0%\t: 0.26\n",
      "60.0%\t: 0.26\n",
      "65.0%\t: 0.27\n",
      "70.0%\t: 0.28\n",
      "75.0%\t: 0.29\n",
      "80.0%\t: 0.30\n",
      "85.0%\t: 0.31\n",
      "90.0%\t: 0.32\n",
      "95.0%\t: 0.33\n",
      "100.0%\t: 0.62\n",
      "iqr: 0.07190000000000002\n",
      "Scale: 5\n",
      "Num outliers: 0\n"
     ]
    },
    {
     "data": {
      "image/png": "[encoded data removed]",
      "text/plain": [
       "<Figure size 432x288 with 1 Axes>"
      ]
     },
     "metadata": {
      "needs_background": "light"
     },
     "output_type": "display_data"
    },
    {
     "name": "stdout",
     "output_type": "stream",
     "text": [
      "Analyzing log gap\n",
      "\n",
      "0.0%\t: 0.02\n",
      "5.0%\t: 0.16\n",
      "10.0%\t: 0.17\n",
      "15.0%\t: 0.18\n",
      "20.0%\t: 0.19\n",
      "25.0%\t: 0.20\n",
      "30.0%\t: 0.20\n",
      "35.0%\t: 0.20\n",
      "40.0%\t: 0.21\n",
      "45.0%\t: 0.22\n",
      "50.0%\t: 0.22\n",
      "55.0%\t: 0.23\n",
      "60.0%\t: 0.23\n",
      "65.0%\t: 0.24\n",
      "70.0%\t: 0.25\n",
      "75.0%\t: 0.25\n",
      "80.0%\t: 0.26\n",
      "85.0%\t: 0.27\n",
      "90.0%\t: 0.27\n",
      "95.0%\t: 0.28\n",
      "100.0%\t: 0.48\n",
      "iqr: 0.057432431488399716\n",
      "Scale: 5\n",
      "Num outliers: 0\n"
     ]
    },
    {
     "data": {
      "image/png": "[encoded data removed]",
      "text/plain": [
       "<Figure size 432x288 with 1 Axes>"
      ]
     },
     "metadata": {
      "needs_background": "light"
     },
     "output_type": "display_data"
    },
    {
     "name": "stdout",
     "output_type": "stream",
     "text": [
      "Analyzing r2\n",
      "\n",
      "0.0%\t: 19.00\n",
      "5.0%\t: 827.45\n",
      "10.0%\t: 902.63\n",
      "15.0%\t: 950.05\n",
      "20.0%\t: 987.28\n",
      "25.0%\t: 1018.32\n",
      "30.0%\t: 1046.44\n",
      "35.0%\t: 1072.68\n",
      "40.0%\t: 1097.65\n",
      "45.0%\t: 1122.27\n",
      "50.0%\t: 1147.59\n",
      "55.0%\t: 1173.53\n",
      "60.0%\t: 1201.55\n",
      "65.0%\t: 1231.99\n",
      "70.0%\t: 1267.09\n",
      "75.0%\t: 1308.82\n",
      "80.0%\t: 1360.09\n",
      "85.0%\t: 1428.34\n",
      "90.0%\t: 1530.13\n",
      "95.0%\t: 1712.37\n",
      "100.0%\t: 3374.75\n",
      "iqr: 290.49400000000014\n",
      "Scale: 5\n",
      "Num outliers: 95\n"
     ]
    },
    {
     "data": {
      "image/png": "[encoded data removed]",
      "text/plain": [
       "<Figure size 432x288 with 1 Axes>"
      ]
     },
     "metadata": {
      "needs_background": "light"
     },
     "output_type": "display_data"
    },
    {
     "name": "stdout",
     "output_type": "stream",
     "text": [
      "Analyzing log r2\n",
      "\n",
      "0.0%\t: 3.00\n",
      "5.0%\t: 6.72\n",
      "10.0%\t: 6.81\n",
      "15.0%\t: 6.86\n",
      "20.0%\t: 6.90\n",
      "25.0%\t: 6.93\n",
      "30.0%\t: 6.95\n",
      "35.0%\t: 6.98\n",
      "40.0%\t: 7.00\n",
      "45.0%\t: 7.02\n",
      "50.0%\t: 7.05\n",
      "55.0%\t: 7.07\n",
      "60.0%\t: 7.09\n",
      "65.0%\t: 7.12\n",
      "70.0%\t: 7.15\n",
      "75.0%\t: 7.18\n",
      "80.0%\t: 7.22\n",
      "85.0%\t: 7.26\n",
      "90.0%\t: 7.33\n",
      "95.0%\t: 7.45\n",
      "100.0%\t: 8.12\n",
      "iqr: 0.25074883838683437\n",
      "Scale: 5\n",
      "Num outliers: 49\n"
     ]
    },
    {
     "data": {
      "image/png": "[encoded data removed]",
      "text/plain": [
       "<Figure size 432x288 with 1 Axes>"
      ]
     },
     "metadata": {
      "needs_background": "light"
     },
     "output_type": "display_data"
    },
    {
     "name": "stdout",
     "output_type": "stream",
     "text": [
      "Analyzing zpve\n",
      "\n",
      "0.0%\t: 0.02\n",
      "5.0%\t: 0.09\n",
      "10.0%\t: 0.11\n",
      "15.0%\t: 0.11\n",
      "20.0%\t: 0.12\n",
      "25.0%\t: 0.13\n",
      "30.0%\t: 0.13\n",
      "35.0%\t: 0.14\n",
      "40.0%\t: 0.14\n",
      "45.0%\t: 0.15\n",
      "50.0%\t: 0.15\n",
      "55.0%\t: 0.15\n",
      "60.0%\t: 0.16\n",
      "65.0%\t: 0.16\n",
      "70.0%\t: 0.17\n",
      "75.0%\t: 0.17\n",
      "80.0%\t: 0.18\n",
      "85.0%\t: 0.18\n",
      "90.0%\t: 0.19\n",
      "95.0%\t: 0.20\n",
      "100.0%\t: 0.27\n",
      "iqr: 0.045860999999999985\n",
      "Scale: 5\n",
      "Num outliers: 0\n"
     ]
    },
    {
     "data": {
      "image/png": "[encoded data removed]",
      "text/plain": [
       "<Figure size 432x288 with 1 Axes>"
      ]
     },
     "metadata": {
      "needs_background": "light"
     },
     "output_type": "display_data"
    },
    {
     "name": "stdout",
     "output_type": "stream",
     "text": [
      "Analyzing log zpve\n",
      "\n",
      "0.0%\t: 0.02\n",
      "5.0%\t: 0.09\n",
      "10.0%\t: 0.10\n",
      "15.0%\t: 0.11\n",
      "20.0%\t: 0.12\n",
      "25.0%\t: 0.12\n",
      "30.0%\t: 0.12\n",
      "35.0%\t: 0.13\n",
      "40.0%\t: 0.13\n",
      "45.0%\t: 0.14\n",
      "50.0%\t: 0.14\n",
      "55.0%\t: 0.14\n",
      "60.0%\t: 0.15\n",
      "65.0%\t: 0.15\n",
      "70.0%\t: 0.15\n",
      "75.0%\t: 0.16\n",
      "80.0%\t: 0.16\n",
      "85.0%\t: 0.17\n",
      "90.0%\t: 0.18\n",
      "95.0%\t: 0.19\n",
      "100.0%\t: 0.24\n",
      "iqr: 0.039946280501810275\n",
      "Scale: 5\n",
      "Num outliers: 0\n"
     ]
    },
    {
     "data": {
      "image/png": "[encoded data removed]",
      "text/plain": [
       "<Figure size 432x288 with 1 Axes>"
      ]
     },
     "metadata": {
      "needs_background": "light"
     },
     "output_type": "display_data"
    },
    {
     "name": "stdout",
     "output_type": "stream",
     "text": [
      "Analyzing u0\n",
      "\n",
      "0.0%\t: 40.48\n",
      "5.0%\t: 347.79\n",
      "10.0%\t: 362.65\n",
      "15.0%\t: 378.39\n",
      "20.0%\t: 384.61\n",
      "25.0%\t: 387.05\n",
      "30.0%\t: 388.32\n",
      "35.0%\t: 400.70\n",
      "40.0%\t: 401.98\n",
      "45.0%\t: 404.29\n",
      "50.0%\t: 417.86\n",
      "55.0%\t: 419.69\n",
      "60.0%\t: 422.98\n",
      "65.0%\t: 424.22\n",
      "70.0%\t: 434.08\n",
      "75.0%\t: 437.91\n",
      "80.0%\t: 440.22\n",
      "85.0%\t: 453.97\n",
      "90.0%\t: 458.96\n",
      "95.0%\t: 473.83\n",
      "100.0%\t: 714.57\n",
      "iqr: 50.86477000000002\n",
      "Scale: 5\n",
      "Num outliers: 13\n"
     ]
    },
    {
     "data": {
      "image/png": "[encoded data removed]",
      "text/plain": [
       "<Figure size 432x288 with 1 Axes>"
      ]
     },
     "metadata": {
      "needs_background": "light"
     },
     "output_type": "display_data"
    },
    {
     "name": "stdout",
     "output_type": "stream",
     "text": [
      "Analyzing log u0\n",
      "\n",
      "0.0%\t: 3.73\n",
      "5.0%\t: 5.85\n",
      "10.0%\t: 5.90\n",
      "15.0%\t: 5.94\n",
      "20.0%\t: 5.95\n",
      "25.0%\t: 5.96\n",
      "30.0%\t: 5.96\n",
      "35.0%\t: 6.00\n",
      "40.0%\t: 6.00\n",
      "45.0%\t: 6.00\n",
      "50.0%\t: 6.04\n",
      "55.0%\t: 6.04\n",
      "60.0%\t: 6.05\n",
      "65.0%\t: 6.05\n",
      "70.0%\t: 6.08\n",
      "75.0%\t: 6.08\n",
      "80.0%\t: 6.09\n",
      "85.0%\t: 6.12\n",
      "90.0%\t: 6.13\n",
      "95.0%\t: 6.16\n",
      "100.0%\t: 6.57\n",
      "iqr: 0.12317130020738087\n",
      "Scale: 5\n",
      "Num outliers: 58\n"
     ]
    },
    {
     "data": {
      "image/png": "[encoded data removed]",
      "text/plain": [
       "<Figure size 432x288 with 1 Axes>"
      ]
     },
     "metadata": {
      "needs_background": "light"
     },
     "output_type": "display_data"
    },
    {
     "name": "stdout",
     "output_type": "stream",
     "text": [
      "Analyzing u298\n",
      "\n",
      "0.0%\t: 40.48\n",
      "5.0%\t: 347.79\n",
      "10.0%\t: 362.64\n",
      "15.0%\t: 378.38\n",
      "20.0%\t: 384.60\n",
      "25.0%\t: 387.04\n",
      "30.0%\t: 388.31\n",
      "35.0%\t: 400.69\n",
      "40.0%\t: 401.97\n",
      "45.0%\t: 404.28\n",
      "50.0%\t: 417.86\n",
      "55.0%\t: 419.69\n",
      "60.0%\t: 422.98\n",
      "65.0%\t: 424.21\n",
      "70.0%\t: 434.07\n",
      "75.0%\t: 437.91\n",
      "80.0%\t: 440.21\n",
      "85.0%\t: 453.96\n",
      "90.0%\t: 458.95\n",
      "95.0%\t: 473.82\n",
      "100.0%\t: 714.56\n",
      "iqr: 50.866196\n",
      "Scale: 5\n",
      "Num outliers: 12\n"
     ]
    },
    {
     "data": {
      "image/png": "[encoded data removed]",
      "text/plain": [
       "<Figure size 432x288 with 1 Axes>"
      ]
     },
     "metadata": {
      "needs_background": "light"
     },
     "output_type": "display_data"
    },
    {
     "name": "stdout",
     "output_type": "stream",
     "text": [
      "Analyzing log u298\n",
      "\n",
      "0.0%\t: 3.73\n",
      "5.0%\t: 5.85\n",
      "10.0%\t: 5.90\n",
      "15.0%\t: 5.94\n",
      "20.0%\t: 5.95\n",
      "25.0%\t: 5.96\n",
      "30.0%\t: 5.96\n",
      "35.0%\t: 6.00\n",
      "40.0%\t: 6.00\n",
      "45.0%\t: 6.00\n",
      "50.0%\t: 6.04\n",
      "55.0%\t: 6.04\n",
      "60.0%\t: 6.05\n",
      "65.0%\t: 6.05\n",
      "70.0%\t: 6.08\n",
      "75.0%\t: 6.08\n",
      "80.0%\t: 6.09\n",
      "85.0%\t: 6.12\n",
      "90.0%\t: 6.13\n",
      "95.0%\t: 6.16\n",
      "100.0%\t: 6.57\n",
      "iqr: 0.12317736247280298\n",
      "Scale: 5\n",
      "Num outliers: 58\n"
     ]
    },
    {
     "data": {
      "image/png": "[encoded data removed]",
      "text/plain": [
       "<Figure size 432x288 with 1 Axes>"
      ]
     },
     "metadata": {
      "needs_background": "light"
     },
     "output_type": "display_data"
    },
    {
     "name": "stdout",
     "output_type": "stream",
     "text": [
      "Analyzing h298\n",
      "\n",
      "0.0%\t: 40.48\n",
      "5.0%\t: 347.79\n",
      "10.0%\t: 362.64\n",
      "15.0%\t: 378.38\n",
      "20.0%\t: 384.60\n",
      "25.0%\t: 387.04\n",
      "30.0%\t: 388.31\n",
      "35.0%\t: 400.69\n",
      "40.0%\t: 401.97\n",
      "45.0%\t: 404.28\n",
      "50.0%\t: 417.86\n",
      "55.0%\t: 419.69\n",
      "60.0%\t: 422.97\n",
      "65.0%\t: 424.21\n",
      "70.0%\t: 434.07\n",
      "75.0%\t: 437.90\n",
      "80.0%\t: 440.21\n",
      "85.0%\t: 453.96\n",
      "90.0%\t: 458.95\n",
      "95.0%\t: 473.82\n",
      "100.0%\t: 714.56\n",
      "iqr: 50.866195000000005\n",
      "Scale: 5\n",
      "Num outliers: 12\n"
     ]
    },
    {
     "data": {
      "image/png": "[encoded data removed]",
      "text/plain": [
       "<Figure size 432x288 with 1 Axes>"
      ]
     },
     "metadata": {
      "needs_background": "light"
     },
     "output_type": "display_data"
    },
    {
     "name": "stdout",
     "output_type": "stream",
     "text": [
      "Analyzing log h298\n",
      "\n",
      "0.0%\t: 3.73\n",
      "5.0%\t: 5.85\n",
      "10.0%\t: 5.90\n",
      "15.0%\t: 5.94\n",
      "20.0%\t: 5.95\n",
      "25.0%\t: 5.96\n",
      "30.0%\t: 5.96\n",
      "35.0%\t: 6.00\n",
      "40.0%\t: 6.00\n",
      "45.0%\t: 6.00\n",
      "50.0%\t: 6.04\n",
      "55.0%\t: 6.04\n",
      "60.0%\t: 6.05\n",
      "65.0%\t: 6.05\n",
      "70.0%\t: 6.08\n",
      "75.0%\t: 6.08\n",
      "80.0%\t: 6.09\n",
      "85.0%\t: 6.12\n",
      "90.0%\t: 6.13\n",
      "95.0%\t: 6.16\n",
      "100.0%\t: 6.57\n",
      "iqr: 0.12317764213303128\n",
      "Scale: 5\n",
      "Num outliers: 58\n"
     ]
    },
    {
     "data": {
      "image/png": "[encoded data removed]",
      "text/plain": [
       "<Figure size 432x288 with 1 Axes>"
      ]
     },
     "metadata": {
      "needs_background": "light"
     },
     "output_type": "display_data"
    },
    {
     "name": "stdout",
     "output_type": "stream",
     "text": [
      "Analyzing g298\n",
      "\n",
      "0.0%\t: 40.50\n",
      "5.0%\t: 347.83\n",
      "10.0%\t: 362.68\n",
      "15.0%\t: 378.42\n",
      "20.0%\t: 384.64\n",
      "25.0%\t: 387.08\n",
      "30.0%\t: 388.35\n",
      "35.0%\t: 400.73\n",
      "40.0%\t: 402.01\n",
      "45.0%\t: 404.32\n",
      "50.0%\t: 417.90\n",
      "55.0%\t: 419.72\n",
      "60.0%\t: 423.02\n",
      "65.0%\t: 424.25\n",
      "70.0%\t: 434.11\n",
      "75.0%\t: 437.95\n",
      "80.0%\t: 440.25\n",
      "85.0%\t: 454.00\n",
      "90.0%\t: 459.00\n",
      "95.0%\t: 473.86\n",
      "100.0%\t: 714.60\n",
      "iqr: 50.86440300000004\n",
      "Scale: 5\n",
      "Num outliers: 13\n"
     ]
    },
    {
     "data": {
      "image/png": "[encoded data removed]",
      "text/plain": [
       "<Figure size 432x288 with 1 Axes>"
      ]
     },
     "metadata": {
      "needs_background": "light"
     },
     "output_type": "display_data"
    },
    {
     "name": "stdout",
     "output_type": "stream",
     "text": [
      "Analyzing log g298\n",
      "\n",
      "0.0%\t: 3.73\n",
      "5.0%\t: 5.85\n",
      "10.0%\t: 5.90\n",
      "15.0%\t: 5.94\n",
      "20.0%\t: 5.95\n",
      "25.0%\t: 5.96\n",
      "30.0%\t: 5.96\n",
      "35.0%\t: 6.00\n",
      "40.0%\t: 6.00\n",
      "45.0%\t: 6.00\n",
      "50.0%\t: 6.04\n",
      "55.0%\t: 6.04\n",
      "60.0%\t: 6.05\n",
      "65.0%\t: 6.05\n",
      "70.0%\t: 6.08\n",
      "75.0%\t: 6.08\n",
      "80.0%\t: 6.09\n",
      "85.0%\t: 6.12\n",
      "90.0%\t: 6.13\n",
      "95.0%\t: 6.16\n",
      "100.0%\t: 6.57\n",
      "iqr: 0.12316027738451396\n",
      "Scale: 5\n",
      "Num outliers: 58\n"
     ]
    },
    {
     "data": {
      "image/png": "[encoded data removed]",
      "text/plain": [
       "<Figure size 432x288 with 1 Axes>"
      ]
     },
     "metadata": {
      "needs_background": "light"
     },
     "output_type": "display_data"
    },
    {
     "name": "stdout",
     "output_type": "stream",
     "text": [
      "Analyzing cv\n",
      "\n",
      "0.0%\t: 6.00\n",
      "5.0%\t: 25.06\n",
      "10.0%\t: 26.58\n",
      "15.0%\t: 27.56\n",
      "20.0%\t: 28.30\n",
      "25.0%\t: 28.94\n",
      "30.0%\t: 29.51\n",
      "35.0%\t: 30.05\n",
      "40.0%\t: 30.56\n",
      "45.0%\t: 31.06\n",
      "50.0%\t: 31.55\n",
      "55.0%\t: 32.05\n",
      "60.0%\t: 32.57\n",
      "65.0%\t: 33.10\n",
      "70.0%\t: 33.67\n",
      "75.0%\t: 34.28\n",
      "80.0%\t: 34.97\n",
      "85.0%\t: 35.78\n",
      "90.0%\t: 36.78\n",
      "95.0%\t: 38.29\n",
      "100.0%\t: 46.97\n",
      "iqr: 5.334\n",
      "Scale: 5\n",
      "Num outliers: 0\n"
     ]
    },
    {
     "data": {
      "image/png": "[encoded data removed]",
      "text/plain": [
       "<Figure size 432x288 with 1 Axes>"
      ]
     },
     "metadata": {
      "needs_background": "light"
     },
     "output_type": "display_data"
    },
    {
     "name": "stdout",
     "output_type": "stream",
     "text": [
      "Analyzing log cv\n",
      "\n",
      "0.0%\t: 1.95\n",
      "5.0%\t: 3.26\n",
      "10.0%\t: 3.32\n",
      "15.0%\t: 3.35\n",
      "20.0%\t: 3.38\n",
      "25.0%\t: 3.40\n",
      "30.0%\t: 3.42\n",
      "35.0%\t: 3.44\n",
      "40.0%\t: 3.45\n",
      "45.0%\t: 3.47\n",
      "50.0%\t: 3.48\n",
      "55.0%\t: 3.50\n",
      "60.0%\t: 3.51\n",
      "65.0%\t: 3.53\n",
      "70.0%\t: 3.55\n",
      "75.0%\t: 3.56\n",
      "80.0%\t: 3.58\n",
      "85.0%\t: 3.61\n",
      "90.0%\t: 3.63\n",
      "95.0%\t: 3.67\n",
      "100.0%\t: 3.87\n",
      "iqr: 0.1639406689982894\n",
      "Scale: 5\n",
      "Num outliers: 26\n"
     ]
    },
    {
     "data": {
      "image/png": "[encoded data removed]",
      "text/plain": [
       "<Figure size 432x288 with 1 Axes>"
      ]
     },
     "metadata": {
      "needs_background": "light"
     },
     "output_type": "display_data"
    },
    {
     "name": "stdout",
     "output_type": "stream",
     "text": [
      "Analyzing u0_atom\n",
      "\n",
      "0.0%\t: 213.09\n",
      "5.0%\t: 1350.95\n",
      "10.0%\t: 1449.38\n",
      "15.0%\t: 1510.77\n",
      "20.0%\t: 1558.39\n",
      "25.0%\t: 1596.87\n",
      "30.0%\t: 1632.66\n",
      "35.0%\t: 1665.45\n",
      "40.0%\t: 1698.79\n",
      "45.0%\t: 1726.91\n",
      "50.0%\t: 1753.46\n",
      "55.0%\t: 1782.34\n",
      "60.0%\t: 1814.66\n",
      "65.0%\t: 1845.21\n",
      "70.0%\t: 1875.19\n",
      "75.0%\t: 1904.77\n",
      "80.0%\t: 1949.26\n",
      "85.0%\t: 1999.00\n",
      "90.0%\t: 2044.32\n",
      "95.0%\t: 2147.17\n",
      "100.0%\t: 2608.45\n",
      "iqr: 307.90109604810004\n",
      "Scale: 5\n",
      "Num outliers: 0\n"
     ]
    },
    {
     "data": {
      "image/png": "[encoded data removed]",
      "text/plain": [
       "<Figure size 432x288 with 1 Axes>"
      ]
     },
     "metadata": {
      "needs_background": "light"
     },
     "output_type": "display_data"
    },
    {
     "name": "stdout",
     "output_type": "stream",
     "text": [
      "Analyzing log u0_atom\n",
      "\n",
      "0.0%\t: 5.37\n",
      "5.0%\t: 7.21\n",
      "10.0%\t: 7.28\n",
      "15.0%\t: 7.32\n",
      "20.0%\t: 7.35\n",
      "25.0%\t: 7.38\n",
      "30.0%\t: 7.40\n",
      "35.0%\t: 7.42\n",
      "40.0%\t: 7.44\n",
      "45.0%\t: 7.45\n",
      "50.0%\t: 7.47\n",
      "55.0%\t: 7.49\n",
      "60.0%\t: 7.50\n",
      "65.0%\t: 7.52\n",
      "70.0%\t: 7.54\n",
      "75.0%\t: 7.55\n",
      "80.0%\t: 7.58\n",
      "85.0%\t: 7.60\n",
      "90.0%\t: 7.62\n",
      "95.0%\t: 7.67\n",
      "100.0%\t: 7.87\n",
      "iqr: 0.17621509814241332\n",
      "Scale: 5\n",
      "Num outliers: 24\n"
     ]
    },
    {
     "data": {
      "image/png": "[encoded data removed]",
      "text/plain": [
       "<Figure size 432x288 with 1 Axes>"
      ]
     },
     "metadata": {
      "needs_background": "light"
     },
     "output_type": "display_data"
    },
    {
     "name": "stdout",
     "output_type": "stream",
     "text": [
      "Analyzing u298_atom\n",
      "\n",
      "0.0%\t: 213.97\n",
      "5.0%\t: 1358.16\n",
      "10.0%\t: 1457.03\n",
      "15.0%\t: 1519.20\n",
      "20.0%\t: 1567.24\n",
      "25.0%\t: 1606.11\n",
      "30.0%\t: 1642.22\n",
      "35.0%\t: 1675.17\n",
      "40.0%\t: 1709.05\n",
      "45.0%\t: 1737.36\n",
      "50.0%\t: 1764.09\n",
      "55.0%\t: 1793.33\n",
      "60.0%\t: 1825.83\n",
      "65.0%\t: 1856.71\n",
      "70.0%\t: 1886.85\n",
      "75.0%\t: 1916.98\n",
      "80.0%\t: 1961.71\n",
      "85.0%\t: 2011.96\n",
      "90.0%\t: 2057.80\n",
      "95.0%\t: 2161.23\n",
      "100.0%\t: 2626.41\n",
      "iqr: 310.8723511631001\n",
      "Scale: 5\n",
      "Num outliers: 0\n"
     ]
    },
    {
     "data": {
      "image/png": "[encoded data removed]",
      "text/plain": [
       "<Figure size 432x288 with 1 Axes>"
      ]
     },
     "metadata": {
      "needs_background": "light"
     },
     "output_type": "display_data"
    },
    {
     "name": "stdout",
     "output_type": "stream",
     "text": [
      "Analyzing log u298_atom\n",
      "\n",
      "0.0%\t: 5.37\n",
      "5.0%\t: 7.21\n",
      "10.0%\t: 7.28\n",
      "15.0%\t: 7.33\n",
      "20.0%\t: 7.36\n",
      "25.0%\t: 7.38\n",
      "30.0%\t: 7.40\n",
      "35.0%\t: 7.42\n",
      "40.0%\t: 7.44\n",
      "45.0%\t: 7.46\n",
      "50.0%\t: 7.48\n",
      "55.0%\t: 7.49\n",
      "60.0%\t: 7.51\n",
      "65.0%\t: 7.53\n",
      "70.0%\t: 7.54\n",
      "75.0%\t: 7.56\n",
      "80.0%\t: 7.58\n",
      "85.0%\t: 7.61\n",
      "90.0%\t: 7.63\n",
      "95.0%\t: 7.68\n",
      "100.0%\t: 7.87\n",
      "iqr: 0.17683637513627914\n",
      "Scale: 5\n",
      "Num outliers: 23\n"
     ]
    },
    {
     "data": {
      "image/png": "[encoded data removed]",
      "text/plain": [
       "<Figure size 432x288 with 1 Axes>"
      ]
     },
     "metadata": {
      "needs_background": "light"
     },
     "output_type": "display_data"
    },
    {
     "name": "stdout",
     "output_type": "stream",
     "text": [
      "Analyzing h298_atom\n",
      "\n",
      "0.0%\t: 215.16\n",
      "5.0%\t: 1365.44\n",
      "10.0%\t: 1464.84\n",
      "15.0%\t: 1527.50\n",
      "20.0%\t: 1575.86\n",
      "25.0%\t: 1615.07\n",
      "30.0%\t: 1651.34\n",
      "35.0%\t: 1684.58\n",
      "40.0%\t: 1718.73\n",
      "45.0%\t: 1747.19\n",
      "50.0%\t: 1774.15\n",
      "55.0%\t: 1803.56\n",
      "60.0%\t: 1836.34\n",
      "65.0%\t: 1867.47\n",
      "70.0%\t: 1897.77\n",
      "75.0%\t: 1928.18\n",
      "80.0%\t: 1973.15\n",
      "85.0%\t: 2023.85\n",
      "90.0%\t: 2069.94\n",
      "95.0%\t: 2174.33\n",
      "100.0%\t: 2643.01\n",
      "iqr: 313.115068329\n",
      "Scale: 5\n",
      "Num outliers: 0\n"
     ]
    },
    {
     "data": {
      "image/png": "[encoded data removed]",
      "text/plain": [
       "<Figure size 432x288 with 1 Axes>"
      ]
     },
     "metadata": {
      "needs_background": "light"
     },
     "output_type": "display_data"
    },
    {
     "name": "stdout",
     "output_type": "stream",
     "text": [
      "Analyzing log h298_atom\n",
      "\n",
      "0.0%\t: 5.38\n",
      "5.0%\t: 7.22\n",
      "10.0%\t: 7.29\n",
      "15.0%\t: 7.33\n",
      "20.0%\t: 7.36\n",
      "25.0%\t: 7.39\n",
      "30.0%\t: 7.41\n",
      "35.0%\t: 7.43\n",
      "40.0%\t: 7.45\n",
      "45.0%\t: 7.47\n",
      "50.0%\t: 7.48\n",
      "55.0%\t: 7.50\n",
      "60.0%\t: 7.52\n",
      "65.0%\t: 7.53\n",
      "70.0%\t: 7.55\n",
      "75.0%\t: 7.56\n",
      "80.0%\t: 7.59\n",
      "85.0%\t: 7.61\n",
      "90.0%\t: 7.64\n",
      "95.0%\t: 7.68\n",
      "100.0%\t: 7.88\n",
      "iqr: 0.17710076004451913\n",
      "Scale: 5\n",
      "Num outliers: 23\n"
     ]
    },
    {
     "data": {
      "image/png": "[encoded data removed]",
      "text/plain": [
       "<Figure size 432x288 with 1 Axes>"
      ]
     },
     "metadata": {
      "needs_background": "light"
     },
     "output_type": "display_data"
    },
    {
     "name": "stdout",
     "output_type": "stream",
     "text": [
      "Analyzing g298_atom\n",
      "\n",
      "0.0%\t: 201.41\n",
      "5.0%\t: 1261.61\n",
      "10.0%\t: 1352.02\n",
      "15.0%\t: 1409.04\n",
      "20.0%\t: 1452.85\n",
      "25.0%\t: 1488.29\n",
      "30.0%\t: 1520.95\n",
      "35.0%\t: 1551.18\n",
      "40.0%\t: 1580.99\n",
      "45.0%\t: 1607.42\n",
      "50.0%\t: 1632.22\n",
      "55.0%\t: 1658.77\n",
      "60.0%\t: 1688.09\n",
      "65.0%\t: 1716.45\n",
      "70.0%\t: 1744.32\n",
      "75.0%\t: 1771.35\n",
      "80.0%\t: 1812.82\n",
      "85.0%\t: 1856.89\n",
      "90.0%\t: 1900.05\n",
      "95.0%\t: 1992.85\n",
      "100.0%\t: 2417.12\n",
      "iqr: 283.0592697559998\n",
      "Scale: 5\n",
      "Num outliers: 0\n"
     ]
    },
    {
     "data": {
      "image/png": "[encoded data removed]",
      "text/plain": [
       "<Figure size 432x288 with 1 Axes>"
      ]
     },
     "metadata": {
      "needs_background": "light"
     },
     "output_type": "display_data"
    },
    {
     "name": "stdout",
     "output_type": "stream",
     "text": [
      "Analyzing log g298_atom\n",
      "\n",
      "0.0%\t: 5.31\n",
      "5.0%\t: 7.14\n",
      "10.0%\t: 7.21\n",
      "15.0%\t: 7.25\n",
      "20.0%\t: 7.28\n",
      "25.0%\t: 7.31\n",
      "30.0%\t: 7.33\n",
      "35.0%\t: 7.35\n",
      "40.0%\t: 7.37\n",
      "45.0%\t: 7.38\n",
      "50.0%\t: 7.40\n",
      "55.0%\t: 7.41\n",
      "60.0%\t: 7.43\n",
      "65.0%\t: 7.45\n",
      "70.0%\t: 7.46\n",
      "75.0%\t: 7.48\n",
      "80.0%\t: 7.50\n",
      "85.0%\t: 7.53\n",
      "90.0%\t: 7.55\n",
      "95.0%\t: 7.60\n",
      "100.0%\t: 7.79\n",
      "iqr: 0.17400629829531233\n",
      "Scale: 5\n",
      "Num outliers: 25\n"
     ]
    },
    {
     "data": {
      "image/png": "[encoded data removed]",
      "text/plain": [
       "<Figure size 432x288 with 1 Axes>"
      ]
     },
     "metadata": {
      "needs_background": "light"
     },
     "output_type": "display_data"
    }
   ],
   "source": [
    "def percentiles_and_hist(data, prop, bins=20, outlier_scale=5):\n",
    "    print(f\"Analyzing {prop}\")\n",
    "    print()\n",
    "    percentiles = np.percentile(data, [100/bins*i for i in range(bins+1)])\n",
    "    for i in range(bins+1):\n",
    "        print(f\"{100/bins*i}%\\t: {percentiles[i]:.2f}\")\n",
    "    \n",
    "    first_quartile = np.percentile(data, 25)\n",
    "    third_quartile = np.percentile(data, 75)\n",
    "    iqr = third_quartile - first_quartile\n",
    "    print(f\"iqr: {iqr}\")\n",
    "    scale = 5\n",
    "    min_threshold = first_quartile - scale*iqr\n",
    "    max_threshold = third_quartile + scale*iqr\n",
    "    \n",
    "    outlier_mask = []\n",
    "    for elem in data:\n",
    "        outlier_mask.append(elem < min_threshold or elem > max_threshold)\n",
    "    outliers = data[outlier_mask]\n",
    "    print(f\"Scale: {scale}\")\n",
    "    print(f\"Num outliers: {len(outliers)}\")\n",
    "    \n",
    "    plt.hist(data, bins=bins, range=(np.percentile(data, 0.1), np.percentile(data, 99.9)))\n",
    "    plt.title(f\"{prop}\")\n",
    "    plt.show()\n",
    "\n",
    "for prop in y:\n",
    "    # lumo contains both positive and negative values\n",
    "    # so we have to analyze this separately\n",
    "    if prop == 'lumo':\n",
    "        continue\n",
    "    data = y[[prop]].values\n",
    "    data = np.abs(data)\n",
    "    percentiles_and_hist(data, prop)\n",
    "    \n",
    "    log_data = np.log(1+data)\n",
    "    percentiles_and_hist(log_data, f\"log {prop}\")"
   ]
  },
  {
   "cell_type": "code",
   "execution_count": 107,
   "metadata": {},
   "outputs": [
    {
     "data": {
      "text/html": [
       "<div>\n",
       "<style scoped>\n",
       "    .dataframe tbody tr th:only-of-type {\n",
       "        vertical-align: middle;\n",
       "    }\n",
       "\n",
       "    .dataframe tbody tr th {\n",
       "        vertical-align: top;\n",
       "    }\n",
       "\n",
       "    .dataframe thead th {\n",
       "        text-align: right;\n",
       "    }\n",
       "</style>\n",
       "<table border=\"1\" class=\"dataframe\">\n",
       "  <thead>\n",
       "    <tr style=\"text-align: right;\">\n",
       "      <th></th>\n",
       "      <th>y_skew</th>\n",
       "      <th>log_y_skew</th>\n",
       "    </tr>\n",
       "  </thead>\n",
       "  <tbody>\n",
       "    <tr>\n",
       "      <th>A</th>\n",
       "      <td>316.140528</td>\n",
       "      <td>2.830201</td>\n",
       "    </tr>\n",
       "    <tr>\n",
       "      <th>B</th>\n",
       "      <td>210.868023</td>\n",
       "      <td>0.775441</td>\n",
       "    </tr>\n",
       "    <tr>\n",
       "      <th>C</th>\n",
       "      <td>189.148704</td>\n",
       "      <td>1.526087</td>\n",
       "    </tr>\n",
       "    <tr>\n",
       "      <th>mu</th>\n",
       "      <td>1.459371</td>\n",
       "      <td>-0.311538</td>\n",
       "    </tr>\n",
       "    <tr>\n",
       "      <th>alpha</th>\n",
       "      <td>-0.381855</td>\n",
       "      <td>-1.221500</td>\n",
       "    </tr>\n",
       "    <tr>\n",
       "      <th>homo</th>\n",
       "      <td>0.267262</td>\n",
       "      <td>-0.364500</td>\n",
       "    </tr>\n",
       "    <tr>\n",
       "      <th>lumo</th>\n",
       "      <td>-0.182335</td>\n",
       "      <td>0.489463</td>\n",
       "    </tr>\n",
       "    <tr>\n",
       "      <th>gap</th>\n",
       "      <td>-0.005183</td>\n",
       "      <td>-0.087988</td>\n",
       "    </tr>\n",
       "    <tr>\n",
       "      <th>r2</th>\n",
       "      <td>1.293073</td>\n",
       "      <td>-0.171910</td>\n",
       "    </tr>\n",
       "    <tr>\n",
       "      <th>zpve</th>\n",
       "      <td>0.011602</td>\n",
       "      <td>-0.075524</td>\n",
       "    </tr>\n",
       "    <tr>\n",
       "      <th>u0</th>\n",
       "      <td>0.315269</td>\n",
       "      <td>-1.196769</td>\n",
       "    </tr>\n",
       "    <tr>\n",
       "      <th>u298</th>\n",
       "      <td>0.315242</td>\n",
       "      <td>-1.196744</td>\n",
       "    </tr>\n",
       "    <tr>\n",
       "      <th>h298</th>\n",
       "      <td>0.315242</td>\n",
       "      <td>-1.196750</td>\n",
       "    </tr>\n",
       "    <tr>\n",
       "      <th>g298</th>\n",
       "      <td>0.315305</td>\n",
       "      <td>-1.196711</td>\n",
       "    </tr>\n",
       "    <tr>\n",
       "      <th>cv</th>\n",
       "      <td>-0.063012</td>\n",
       "      <td>-0.647991</td>\n",
       "    </tr>\n",
       "    <tr>\n",
       "      <th>u0_atom</th>\n",
       "      <td>0.172466</td>\n",
       "      <td>-0.822076</td>\n",
       "    </tr>\n",
       "    <tr>\n",
       "      <th>u298_atom</th>\n",
       "      <td>0.170796</td>\n",
       "      <td>-0.819956</td>\n",
       "    </tr>\n",
       "    <tr>\n",
       "      <th>h298_atom</th>\n",
       "      <td>0.169592</td>\n",
       "      <td>-0.818610</td>\n",
       "    </tr>\n",
       "    <tr>\n",
       "      <th>g298_atom</th>\n",
       "      <td>0.180630</td>\n",
       "      <td>-0.829339</td>\n",
       "    </tr>\n",
       "  </tbody>\n",
       "</table>\n",
       "</div>"
      ],
      "text/plain": [
       "               y_skew  log_y_skew\n",
       "A          316.140528    2.830201\n",
       "B          210.868023    0.775441\n",
       "C          189.148704    1.526087\n",
       "mu           1.459371   -0.311538\n",
       "alpha       -0.381855   -1.221500\n",
       "homo         0.267262   -0.364500\n",
       "lumo        -0.182335    0.489463\n",
       "gap         -0.005183   -0.087988\n",
       "r2           1.293073   -0.171910\n",
       "zpve         0.011602   -0.075524\n",
       "u0           0.315269   -1.196769\n",
       "u298         0.315242   -1.196744\n",
       "h298         0.315242   -1.196750\n",
       "g298         0.315305   -1.196711\n",
       "cv          -0.063012   -0.647991\n",
       "u0_atom      0.172466   -0.822076\n",
       "u298_atom    0.170796   -0.819956\n",
       "h298_atom    0.169592   -0.818610\n",
       "g298_atom    0.180630   -0.829339"
      ]
     },
     "execution_count": 107,
     "metadata": {},
     "output_type": "execute_result"
    }
   ],
   "source": [
    "skew_df = pd.concat({'y_skew': y.skew(axis=0), 'log_y_skew': np.log(1+np.abs(y)).skew(axis=0)}, axis=1)\n",
    "skew_df"
   ]
  },
  {
   "cell_type": "code",
   "execution_count": null,
   "metadata": {},
   "outputs": [],
   "source": []
  }
 ],
 "metadata": {
  "kernelspec": {
   "display_name": "Python 3",
   "language": "python",
   "name": "python3"
  },
  "language_info": {
   "codemirror_mode": {
    "name": "ipython",
    "version": 3
   },
   "file_extension": ".py",
   "mimetype": "text/x-python",
   "name": "python",
   "nbconvert_exporter": "python",
   "pygments_lexer": "ipython3",
   "version": "3.7.7"
  }
 },
 "nbformat": 4,
 "nbformat_minor": 4
}
