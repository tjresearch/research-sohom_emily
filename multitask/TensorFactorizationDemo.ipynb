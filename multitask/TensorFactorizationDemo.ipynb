{
 "cells": [
  {
   "cell_type": "code",
   "execution_count": 1,
   "metadata": {},
   "outputs": [],
   "source": [
    "import numpy as np\n",
    "import tensorflow as tf\n",
    "from scipy.linalg.interpolative import svd\n",
    "\n",
    "from tensorflow.nn import xw_plus_b, sigmoid"
   ]
  },
  {
   "cell_type": "markdown",
   "metadata": {},
   "source": [
    "## Set up tensor manipulation functions"
   ]
  },
  {
   "cell_type": "code",
   "execution_count": 2,
   "metadata": {},
   "outputs": [],
   "source": [
    "'''\n",
    "SVD generalizes spectral decomposition to n by m matrices\n",
    "U and V are orthogonal matrices, S is a diagonal (rectangular) matrix\n",
    "'''\n",
    "\n",
    "def my_svd(A, eps_or_k=0.01):\n",
    "    if A.dtype != np.float64:\n",
    "        A = A.astype(np.float64)\n",
    "    U, S, V = svd(A, eps_or_k, rand=False)\n",
    "    return U, S, V.T"
   ]
  },
  {
   "cell_type": "code",
   "execution_count": 3,
   "metadata": {},
   "outputs": [],
   "source": [
    "def t_unfold(A, k):\n",
    "    A = np.transpose(A, np.hstack([k, np.delete(np.arange(A.ndim), k)]))\n",
    "    A = np.reshape(A, [A.shape[0], np.prod(A.shape[1:])])\n",
    "    return A"
   ]
  },
  {
   "cell_type": "code",
   "execution_count": 4,
   "metadata": {},
   "outputs": [],
   "source": [
    "def t_dot(A, B, axes=(-1, 0)):\n",
    "    return np.tensordot(A, B, axes)"
   ]
  },
  {
   "cell_type": "code",
   "execution_count": 5,
   "metadata": {},
   "outputs": [],
   "source": [
    "def tt_dcmp(A, eps_or_k=0.01):\n",
    "    d = A.ndim\n",
    "    n = A.shape\n",
    "    max_rank = [min(np.prod(n[:i + 1]), np.prod(n[i + 1:])) for i in range(d - 1)]\n",
    "\n",
    "    if np.any(np.array(eps_or_k) > np.array(max_rank)):\n",
    "        raise ValueError('the rank is up to %s' % str(max_rank))\n",
    "    if not isinstance(eps_or_k, list):\n",
    "        eps_or_k = [eps_or_k] * (d - 1)\n",
    "\n",
    "    r = [1] * (d + 1)\n",
    "    TT = []\n",
    "    C = A.copy()\n",
    "\n",
    "    for k in range(d - 1):\n",
    "        C = C.reshape((r[k] * n[k], C.size / (r[k] * n[k])))\n",
    "        (U, S, V) = my_svd(C, eps_or_k[k])\n",
    "        r[k + 1] = U.shape[1]\n",
    "        TT.append(U[:, :r[k + 1]].reshape((r[k], n[k], r[k + 1])))\n",
    "        C = np.dot(np.diag(S[:r[k + 1]]), V[:r[k + 1], :])\n",
    "    TT.append(C.reshape(r[k + 1], n[k + 1], 1))\n",
    "    return TT"
   ]
  },
  {
   "cell_type": "code",
   "execution_count": 6,
   "metadata": {},
   "outputs": [],
   "source": [
    "def tucker_dcmp(A, eps_or_k=0.01):\n",
    "    d = A.ndim\n",
    "    n = A.shape\n",
    "    max_rank = list(n)\n",
    "\n",
    "    if np.any(np.array(eps_or_k) > np.array(max_rank)):\n",
    "        raise ValueError('the rank is up to %s' % str(max_rank))\n",
    "    if not isinstance(eps_or_k, list):\n",
    "        eps_or_k = [eps_or_k] * d\n",
    "\n",
    "    U = [my_svd(t_unfold(A, k), eps_or_k[k])[0] for k in range(d)]\n",
    "    S = A\n",
    "    for i in range(d):\n",
    "        S = t_dot(S, U[i], (0, 0))\n",
    "    return U, S"
   ]
  },
  {
   "cell_type": "code",
   "execution_count": 7,
   "metadata": {},
   "outputs": [],
   "source": [
    "def tt_cnst(A):\n",
    "    S = A[0]\n",
    "    for i in range(len(A) - 1):\n",
    "        S = t_dot(S, A[i + 1])\n",
    "    return np.squeeze(S, axis=(0, -1))"
   ]
  },
  {
   "cell_type": "code",
   "execution_count": 8,
   "metadata": {},
   "outputs": [],
   "source": [
    "def tucker_cnst(U, S):\n",
    "    for i in range(len(U)):\n",
    "        S = t_dot(S, U[i], (0, 1))\n",
    "    return S"
   ]
  },
  {
   "cell_type": "code",
   "execution_count": 9,
   "metadata": {},
   "outputs": [],
   "source": [
    "def TensorUnfold(A, k):\n",
    "    tmp_arr = np.arange(A.get_shape().ndims)\n",
    "    A = tf.transpose(A, [tmp_arr[k]] + np.delete(tmp_arr, k).tolist())\n",
    "    shapeA = A.get_shape().as_list()\n",
    "    A = tf.reshape(A, [shapeA[0], np.prod(shapeA[1:])])\n",
    "    return A"
   ]
  },
  {
   "cell_type": "code",
   "execution_count": 10,
   "metadata": {},
   "outputs": [],
   "source": [
    "def TensorProduct(A, B, axes=(-1, 0)):\n",
    "    shapeA = A.get_shape().as_list()\n",
    "    shapeB = B.get_shape().as_list()\n",
    "    shapeR = np.delete(shapeA, axes[0]).tolist() + np.delete(shapeB, axes[1]).tolist()\n",
    "    result = tf.matmul(tf.transpose(TensorUnfold(A, axes[0])), TensorUnfold(B, axes[1]))\n",
    "    return tf.reshape(result, shapeR)"
   ]
  },
  {
   "cell_type": "code",
   "execution_count": 11,
   "metadata": {},
   "outputs": [],
   "source": [
    "def TTTensorProducer(A):\n",
    "    S = A[0]\n",
    "    for i in range(len(A) - 1):\n",
    "        S = TensorProduct(S, A[i + 1])\n",
    "    return tf.squeeze(S, squeeze_dims=[0, -1])"
   ]
  },
  {
   "cell_type": "code",
   "execution_count": 12,
   "metadata": {},
   "outputs": [],
   "source": [
    "def TuckerTensorProducer(U, S):\n",
    "    for i in range(len(U)):\n",
    "        S = TensorProduct(S, U[i], (0, 1))\n",
    "    return S"
   ]
  },
  {
   "cell_type": "code",
   "execution_count": 13,
   "metadata": {},
   "outputs": [],
   "source": [
    "def TensorProducer(X, method, eps_or_k=0.01, datatype=np.float32, return_true_var=False):\n",
    "    if method == 'Tucker':\n",
    "        U, S = tucker_dcmp(X, eps_or_k)\n",
    "        U = [tf.Variable(i.astype(datatype)) for i in U]\n",
    "        S = tf.Variable(S.astype(datatype))\n",
    "        W = TuckerTensorProducer(U, S)\n",
    "        param_dict = {'U': U, 'S': S}\n",
    "    elif method == 'TT':\n",
    "        A = tt_dcmp(X, eps_or_k)\n",
    "        A = [tf.Variable(i.astype(datatype)) for i in A]\n",
    "        W = TTTensorProducer(A)\n",
    "        param_dict = {'U': A}\n",
    "    elif method == 'LAF':\n",
    "        U, S, V = my_svd(np.transpose(t_unfold(X, -1)), eps_or_k)\n",
    "        U = tf.Variable(U.astype(datatype))\n",
    "        V = tf.Variable(np.dot(np.diag(S), V).astype(datatype))\n",
    "        W = tf.reshape(tf.matmul(U, V), X.shape)\n",
    "        param_dict = {'U': U, 'V': V}\n",
    "    if return_true_var:\n",
    "        return W, param_dict\n",
    "    else:\n",
    "        return W"
   ]
  },
  {
   "cell_type": "code",
   "execution_count": 14,
   "metadata": {},
   "outputs": [],
   "source": [
    "T = 3 # number of tasks, len(O)\n",
    "O = [3, 2, 5] # number of outputs for each task\n",
    "N = 100 # number of training sample\n",
    "D = 20 # dimension of feature vector, assumed to be the same for all tasks"
   ]
  },
  {
   "cell_type": "code",
   "execution_count": 15,
   "metadata": {},
   "outputs": [],
   "source": [
    "X = [np.random.randn(N, D) for _ in range(T)]\n",
    "Y = [x.dot(np.random.randn(D, o)) for x,o in zip(X, O)]"
   ]
  },
  {
   "cell_type": "code",
   "execution_count": 46,
   "metadata": {},
   "outputs": [
    {
     "name": "stdout",
     "output_type": "stream",
     "text": [
      "(100, 3)\n"
     ]
    }
   ],
   "source": [
    "print(Y[0].shape)"
   ]
  },
  {
   "cell_type": "markdown",
   "metadata": {},
   "source": [
    "## Training regression for each tasks independently"
   ]
  },
  {
   "cell_type": "code",
   "execution_count": 16,
   "metadata": {},
   "outputs": [],
   "source": [
    "sess = tf.InteractiveSession()"
   ]
  },
  {
   "cell_type": "code",
   "execution_count": 17,
   "metadata": {},
   "outputs": [],
   "source": [
    "# 3 layer network\n",
    "# hidden layer has 10 neurons\n",
    "H = 10\n",
    "W_input_to_hidden = [tf.Variable(tf.truncated_normal(shape=[D, H])) for _ in range(T)]\n",
    "b_input_to_hidden = [tf.Variable(tf.zeros(shape=[H])) for _ in range(T)]\n",
    "W_hidden_to_output = [tf.Variable(tf.truncated_normal(shape=[H, o])) for o in O]\n",
    "b_hidden_to_output = [tf.Variable(tf.zeros(shape=[o])) for o in O]"
   ]
  },
  {
   "cell_type": "code",
   "execution_count": 18,
   "metadata": {},
   "outputs": [],
   "source": [
    "X_placeholder = [tf.placeholder(tf.float32, shape=[None, D]) for _ in range(T)]\n",
    "Y_placeholder = [tf.placeholder(tf.float32, shape=[None, o]) for o in O]"
   ]
  },
  {
   "cell_type": "code",
   "execution_count": 19,
   "metadata": {},
   "outputs": [],
   "source": [
    "Y_hat = [xw_plus_b(sigmoid(xw_plus_b(x,w0,b0)),w1,b1) \n",
    "         for x,w0,b0,w1,b1 in zip(X_placeholder, W_input_to_hidden, b_input_to_hidden, W_hidden_to_output, b_hidden_to_output)]"
   ]
  },
  {
   "cell_type": "code",
   "execution_count": 20,
   "metadata": {},
   "outputs": [],
   "source": [
    "MSE = [tf.reduce_mean(tf.squared_difference(y,y_hat)) for y,y_hat in zip(Y_placeholder,Y_hat)]\n",
    "loss = tf.reduce_mean(MSE)\n",
    "opt = tf.train.AdamOptimizer(learning_rate=0.01)\n",
    "train = opt.minimize(loss)\n",
    "sess.run(tf.global_variables_initializer())"
   ]
  },
  {
   "cell_type": "code",
   "execution_count": 21,
   "metadata": {},
   "outputs": [],
   "source": [
    "feed_dict = dict(list(zip(X_placeholder,X))+list(zip(Y_placeholder,Y)))"
   ]
  },
  {
   "cell_type": "code",
   "execution_count": 22,
   "metadata": {},
   "outputs": [
    {
     "name": "stdout",
     "output_type": "stream",
     "text": [
      "20.087698\n",
      "5.5514207\n",
      "1.6607981\n",
      "0.84037286\n",
      "0.5585898\n",
      "0.4100879\n",
      "0.31203082\n",
      "0.24233873\n",
      "0.19026375\n",
      "0.14955209\n"
     ]
    }
   ],
   "source": [
    "for _ in range(1000):\n",
    "    train.run(feed_dict=feed_dict)\n",
    "    if _ % 100 == 0:\n",
    "        print(loss.eval(feed_dict=feed_dict))"
   ]
  },
  {
   "cell_type": "markdown",
   "metadata": {},
   "source": [
    "**'Shareable' layer is input-to-hidden layer.**"
   ]
  },
  {
   "cell_type": "code",
   "execution_count": 23,
   "metadata": {},
   "outputs": [],
   "source": [
    "# We can resue the parameters learned above for initialisation, though it is optional\n",
    "W_init = np.stack(sess.run(W_input_to_hidden))"
   ]
  },
  {
   "cell_type": "code",
   "execution_count": 24,
   "metadata": {},
   "outputs": [
    {
     "data": {
      "text/plain": [
       "(3, 20, 10)"
      ]
     },
     "execution_count": 24,
     "metadata": {},
     "output_type": "execute_result"
    }
   ],
   "source": [
    "W_init.shape"
   ]
  },
  {
   "cell_type": "code",
   "execution_count": 25,
   "metadata": {},
   "outputs": [
    {
     "name": "stdout",
     "output_type": "stream",
     "text": [
      "[<tf.Variable 'Variable:0' shape=(20, 10) dtype=float32_ref>, <tf.Variable 'Variable_1:0' shape=(20, 10) dtype=float32_ref>, <tf.Variable 'Variable_2:0' shape=(20, 10) dtype=float32_ref>]\n"
     ]
    }
   ],
   "source": [
    "print(W_input_to_hidden)"
   ]
  },
  {
   "cell_type": "code",
   "execution_count": 26,
   "metadata": {},
   "outputs": [],
   "source": [
    "# We put the task-axis in the last position\n",
    "W_init = np.transpose(W_init, axes=[1,2,0])"
   ]
  },
  {
   "cell_type": "code",
   "execution_count": 27,
   "metadata": {},
   "outputs": [
    {
     "data": {
      "text/plain": [
       "(20, 10, 3)"
      ]
     },
     "execution_count": 27,
     "metadata": {},
     "output_type": "execute_result"
    }
   ],
   "source": [
    "W_init.shape"
   ]
  },
  {
   "cell_type": "code",
   "execution_count": 28,
   "metadata": {},
   "outputs": [],
   "source": [
    "# The only thing that changes: we use \"TensorProducer\" to generate the trainable variables\n",
    "# TensorProducer has a few parameters:\n",
    "# The first one is the stacked parameters\n",
    "# The second one is factorisation method: 'LAF', 'Tucker', or 'TT'\n",
    "# 'eps_or_k' is the handpicked ranks or relative error\n",
    "# Read https://docs.scipy.org/doc/scipy/reference/generated/scipy.linalg.interpolative.svd.html for details\n",
    "# Set 'return_true_var' to be True if you want the factors (real parameters to learn); Default is False\n",
    "W_input_to_hidden, W_factors = TensorProducer(W_init, 'LAF', eps_or_k=0.1, return_true_var=True)\n",
    "W_input_to_hidden = [W_input_to_hidden[:,:,i] for i in range(T)]"
   ]
  },
  {
   "cell_type": "code",
   "execution_count": 29,
   "metadata": {},
   "outputs": [],
   "source": [
    "# Nothing changes for bias terms or unshared parameters\n",
    "b_input_to_hidden = [tf.Variable(tf.zeros(shape=[H])) for _ in range(T)]\n",
    "W_hidden_to_output = [tf.Variable(tf.truncated_normal(shape=[H, o])) for o in O]\n",
    "b_hidden_to_output = [tf.Variable(tf.zeros(shape=[o])) for o in O]"
   ]
  },
  {
   "cell_type": "code",
   "execution_count": 30,
   "metadata": {},
   "outputs": [],
   "source": [
    "\n",
    "# Build the network as usual\n",
    "X_placeholder = [tf.placeholder(tf.float32, shape=[None, D]) for _ in range(T)]\n",
    "Y_placeholder = [tf.placeholder(tf.float32, shape=[None, o]) for o in O]\n",
    "\n",
    "Y_hat = [tf.nn.xw_plus_b(tf.nn.sigmoid(tf.nn.xw_plus_b(x,w0,b0)),w1,b1) \n",
    "         for x,w0,b0,w1,b1 in zip(X_placeholder, W_input_to_hidden, b_input_to_hidden, W_hidden_to_output, b_hidden_to_output)]\n",
    "\n",
    "MSE = [tf.reduce_mean(tf.squared_difference(y,y_hat)) for y,y_hat in zip(Y_placeholder,Y_hat)]\n",
    "\n",
    "loss = tf.reduce_mean(MSE)\n",
    "\n",
    "opt = tf.train.AdamOptimizer(learning_rate=0.01)\n",
    "\n",
    "train = opt.minimize(loss)"
   ]
  },
  {
   "cell_type": "code",
   "execution_count": 31,
   "metadata": {},
   "outputs": [],
   "source": [
    "# Train the model as usual\n",
    "sess.run(tf.global_variables_initializer())"
   ]
  },
  {
   "cell_type": "code",
   "execution_count": 32,
   "metadata": {},
   "outputs": [],
   "source": [
    "feed_dict = dict(list(zip(X_placeholder,X))+list(zip(Y_placeholder,Y)))"
   ]
  },
  {
   "cell_type": "code",
   "execution_count": 33,
   "metadata": {},
   "outputs": [
    {
     "name": "stdout",
     "output_type": "stream",
     "text": [
      "20.986982\n",
      "3.7213852\n",
      "1.6735786\n",
      "1.0002509\n",
      "0.7184858\n",
      "0.5557379\n",
      "0.43352595\n",
      "0.349537\n",
      "0.29541144\n",
      "0.2536019\n"
     ]
    }
   ],
   "source": [
    "for _ in range(1000):\n",
    "    train.run(feed_dict=feed_dict)\n",
    "    if _ % 100 == 0:\n",
    "        print(loss.eval(feed_dict=feed_dict))"
   ]
  },
  {
   "cell_type": "code",
   "execution_count": 43,
   "metadata": {},
   "outputs": [],
   "source": [
    "sess.close()"
   ]
  },
  {
   "cell_type": "markdown",
   "metadata": {},
   "source": [
    "## We are using MNIST to try to replicate the results of the original paper before we apply it to our own research."
   ]
  },
  {
   "cell_type": "code",
   "execution_count": 23,
   "metadata": {},
   "outputs": [
    {
     "name": "stdout",
     "output_type": "stream",
     "text": [
      "1.14.0\n"
     ]
    }
   ],
   "source": [
    "from __future__ import absolute_import, division, print_function, unicode_literals\n",
    "\n",
    "import tensorflow as tf\n",
    "from tensorflow import keras\n",
    "\n",
    "import numpy as np\n",
    "import matplotlib.pyplot as plt\n",
    "\n",
    "print(tf.__version__)"
   ]
  },
  {
   "cell_type": "code",
   "execution_count": 24,
   "metadata": {},
   "outputs": [],
   "source": [
    "if sess in locals() or sess in globals():\n",
    "    sess.close()\n",
    "sess = tf.InteractiveSession()"
   ]
  },
  {
   "cell_type": "code",
   "execution_count": 25,
   "metadata": {},
   "outputs": [],
   "source": [
    "mnist = tf.keras.datasets.mnist\n",
    "\n",
    "(x_train, y_train), (x_test, y_test) = mnist.load_data()\n",
    "x_train, x_test = x_train/255.0, x_test/255.0"
   ]
  },
  {
   "cell_type": "code",
   "execution_count": 45,
   "metadata": {},
   "outputs": [
    {
     "name": "stdout",
     "output_type": "stream",
     "text": [
      "(60000,)\n"
     ]
    }
   ],
   "source": [
    "print(y_train.shape)"
   ]
  },
  {
   "cell_type": "code",
   "execution_count": 27,
   "metadata": {},
   "outputs": [
    {
     "name": "stdout",
     "output_type": "stream",
     "text": [
      "WARNING:tensorflow:From /home/sohompaul/psi4conda/lib/python3.6/site-packages/tensorflow/python/ops/init_ops.py:1251: calling VarianceScaling.__init__ (from tensorflow.python.ops.init_ops) with dtype is deprecated and will be removed in a future version.\n",
      "Instructions for updating:\n",
      "Call initializer instance with the dtype argument instead of passing it to the constructor\n"
     ]
    }
   ],
   "source": [
    "model = tf.keras.models.Sequential([\n",
    "    tf.keras.layers.Flatten(input_shape=(28, 28)),\n",
    "    tf.keras.layers.Dense(128, activation='relu'),\n",
    "#     tf.keras.layers.Dropout(0.2),\n",
    "    tf.keras.layers.Dense(10, activation='softmax')\n",
    "])\n",
    "\n",
    "model.compile(optimizer='adam',\n",
    "             loss='sparse_categorical_crossentropy',\n",
    "             metrics=['accuracy'])"
   ]
  },
  {
   "cell_type": "code",
   "execution_count": 28,
   "metadata": {},
   "outputs": [
    {
     "name": "stdout",
     "output_type": "stream",
     "text": [
      "Model: \"sequential\"\n",
      "_________________________________________________________________\n",
      "Layer (type)                 Output Shape              Param #   \n",
      "=================================================================\n",
      "flatten_1 (Flatten)          (None, 784)               0         \n",
      "_________________________________________________________________\n",
      "dense (Dense)                (None, 128)               100480    \n",
      "_________________________________________________________________\n",
      "dense_1 (Dense)              (None, 10)                1290      \n",
      "=================================================================\n",
      "Total params: 101,770\n",
      "Trainable params: 101,770\n",
      "Non-trainable params: 0\n",
      "_________________________________________________________________\n"
     ]
    }
   ],
   "source": [
    "model.summary()"
   ]
  },
  {
   "cell_type": "code",
   "execution_count": 29,
   "metadata": {},
   "outputs": [
    {
     "name": "stdout",
     "output_type": "stream",
     "text": [
      "Epoch 1/5\n",
      "60000/60000 [==============================] - 3s 54us/sample - loss: 0.2576 - acc: 0.9250\n",
      "Epoch 2/5\n",
      "60000/60000 [==============================] - 3s 47us/sample - loss: 0.1137 - acc: 0.9663\n",
      "Epoch 3/5\n",
      "60000/60000 [==============================] - 3s 47us/sample - loss: 0.0792 - acc: 0.9760\n",
      "Epoch 4/5\n",
      "60000/60000 [==============================] - 3s 48us/sample - loss: 0.0597 - acc: 0.9814\n",
      "Epoch 5/5\n",
      "60000/60000 [==============================] - 3s 48us/sample - loss: 0.0459 - acc: 0.9858\n",
      "10000/10000 - 0s - loss: 0.0777 - acc: 0.9767\n"
     ]
    },
    {
     "data": {
      "text/plain": [
       "[0.07771949775977992, 0.9767]"
      ]
     },
     "execution_count": 29,
     "metadata": {},
     "output_type": "execute_result"
    }
   ],
   "source": [
    "model.fit(x_train, y_train, epochs=5)\n",
    "model.evaluate(x_test, y_test, verbose=2)"
   ]
  },
  {
   "cell_type": "code",
   "execution_count": 32,
   "metadata": {},
   "outputs": [],
   "source": [
    "h = 128\n",
    "w_input_to_hidden = [tf.Variable(tf.truncated_normal(shape=[28*28, 128])) for _ in range(10)]\n",
    "sess.run(tf.global_variables_initializer())\n",
    "w_init = np.stack(sess.run(w_input_to_hidden))\n",
    "w_init = np.transpose(w_init, axes=[1, 2, 0])\n",
    "w_input_to_hidden, w_factors = TensorProducer(w_init, 'LAF', eps_or_k=0.1, return_true_var=True)\n",
    "w_input_to_hidden = [w_input_to_hidden[:,:,i] for i in range(10)]\n",
    "\n",
    "O = [1]*10\n",
    "b_input_to_hidden = [tf.Variable(tf.zeros(shape=[128])) for _ in range(10)]\n",
    "w_hidden_to_output = [tf.Variable(tf.truncated_normal(shape=[128, o])) for o in O]\n",
    "b_hidden_to_output = [tf.Variable(tf.zeros(shape=[o])) for o in O]"
   ]
  },
  {
   "cell_type": "code",
   "execution_count": 34,
   "metadata": {},
   "outputs": [],
   "source": [
    "x_placeholder = [tf.placeholder(tf.float32, shape=[None, 28*28]) for _ in range(10)]\n",
    "y_placeholder = [tf.placeholder(tf.float32, shape=[None, o]) for o in O]\n",
    "\n",
    "## THIS MUST BE CHANGED!!!\n",
    "y_hat = [tf.nn.xw_plus_b(tf.nn.sigmoid(tf.nn.xw_plus_b(x,w0,b0)),w1,b1) \n",
    "         for x,w0,b0,w1,b1 in zip(x_placeholder, w_input_to_hidden, b_input_to_hidden, w_hidden_to_output, b_hidden_to_output)]\n",
    "\n",
    "mse = [tf.reduce_mean(tf.squared_difference(y,y_hat)) for y,y_hat in zip(y_placeholder,y_hat)]\n",
    "loss = tf.reduce_mean(mse)\n",
    "opt = tf.train.AdamOptimizer(learning_rate=0.01)\n",
    "train = opt.minimize(loss)"
   ]
  },
  {
   "cell_type": "code",
   "execution_count": 60,
   "metadata": {},
   "outputs": [],
   "source": [
    "# X = [np.random.randn(N, D) for _ in range(T)]\n",
    "# Y = [x.dot(np.random.randn(D, o)) for x,o in zip(X, O)] # target shape is N, O\n",
    "# T = num tasks\n",
    "# N = num samples\n",
    "# D = feature vector size\n",
    "# O = number of outputs for each task # already handled\n",
    "x_train.shape = (60000, 28*28)\n",
    "x = [x_train for _ in range(10)]\n",
    "y = []\n",
    "for i in range(10):\n",
    "    temp = np.zeros((y_train.shape[0], 1), dtype=np.float64)\n",
    "    for ind in range(y_train.shape[0]):\n",
    "        if y_train[ind] == i:\n",
    "            temp[ind][0] = 1\n",
    "        else:\n",
    "            temp[ind][0] = 0\n",
    "    y.append(temp)"
   ]
  },
  {
   "cell_type": "code",
   "execution_count": 61,
   "metadata": {},
   "outputs": [
    {
     "name": "stdout",
     "output_type": "stream",
     "text": [
      "[0.         0.         0.         0.         0.         0.\n",
      " 0.         0.         0.         0.         0.         0.\n",
      " 0.         0.         0.         0.         0.         0.\n",
      " 0.         0.         0.         0.         0.         0.\n",
      " 0.         0.         0.         0.         0.         0.\n",
      " 0.         0.         0.         0.         0.         0.\n",
      " 0.         0.         0.         0.         0.         0.\n",
      " 0.         0.         0.         0.         0.         0.\n",
      " 0.         0.         0.         0.         0.         0.\n",
      " 0.         0.         0.         0.         0.         0.\n",
      " 0.         0.         0.         0.         0.         0.\n",
      " 0.         0.         0.         0.         0.         0.\n",
      " 0.         0.         0.         0.         0.         0.\n",
      " 0.         0.         0.         0.         0.         0.\n",
      " 0.         0.         0.         0.         0.         0.\n",
      " 0.         0.         0.         0.         0.         0.\n",
      " 0.         0.         0.         0.         0.         0.\n",
      " 0.         0.         0.         0.         0.         0.\n",
      " 0.         0.         0.         0.         0.         0.\n",
      " 0.         0.         0.         0.         0.         0.\n",
      " 0.         0.         0.         0.         0.         0.\n",
      " 0.         0.         0.         0.         0.         0.\n",
      " 0.         0.         0.         0.         0.         0.\n",
      " 0.         0.         0.         0.         0.         0.\n",
      " 0.         0.         0.         0.         0.         0.\n",
      " 0.         0.         0.01176471 0.07058824 0.07058824 0.07058824\n",
      " 0.49411765 0.53333333 0.68627451 0.10196078 0.65098039 1.\n",
      " 0.96862745 0.49803922 0.         0.         0.         0.\n",
      " 0.         0.         0.         0.         0.         0.\n",
      " 0.         0.         0.11764706 0.14117647 0.36862745 0.60392157\n",
      " 0.66666667 0.99215686 0.99215686 0.99215686 0.99215686 0.99215686\n",
      " 0.88235294 0.6745098  0.99215686 0.94901961 0.76470588 0.25098039\n",
      " 0.         0.         0.         0.         0.         0.\n",
      " 0.         0.         0.         0.         0.         0.19215686\n",
      " 0.93333333 0.99215686 0.99215686 0.99215686 0.99215686 0.99215686\n",
      " 0.99215686 0.99215686 0.99215686 0.98431373 0.36470588 0.32156863\n",
      " 0.32156863 0.21960784 0.15294118 0.         0.         0.\n",
      " 0.         0.         0.         0.         0.         0.\n",
      " 0.         0.         0.         0.07058824 0.85882353 0.99215686\n",
      " 0.99215686 0.99215686 0.99215686 0.99215686 0.77647059 0.71372549\n",
      " 0.96862745 0.94509804 0.         0.         0.         0.\n",
      " 0.         0.         0.         0.         0.         0.\n",
      " 0.         0.         0.         0.         0.         0.\n",
      " 0.         0.         0.31372549 0.61176471 0.41960784 0.99215686\n",
      " 0.99215686 0.80392157 0.04313725 0.         0.16862745 0.60392157\n",
      " 0.         0.         0.         0.         0.         0.\n",
      " 0.         0.         0.         0.         0.         0.\n",
      " 0.         0.         0.         0.         0.         0.\n",
      " 0.         0.05490196 0.00392157 0.60392157 0.99215686 0.35294118\n",
      " 0.         0.         0.         0.         0.         0.\n",
      " 0.         0.         0.         0.         0.         0.\n",
      " 0.         0.         0.         0.         0.         0.\n",
      " 0.         0.         0.         0.         0.         0.\n",
      " 0.         0.54509804 0.99215686 0.74509804 0.00784314 0.\n",
      " 0.         0.         0.         0.         0.         0.\n",
      " 0.         0.         0.         0.         0.         0.\n",
      " 0.         0.         0.         0.         0.         0.\n",
      " 0.         0.         0.         0.         0.         0.04313725\n",
      " 0.74509804 0.99215686 0.2745098  0.         0.         0.\n",
      " 0.         0.         0.         0.         0.         0.\n",
      " 0.         0.         0.         0.         0.         0.\n",
      " 0.         0.         0.         0.         0.         0.\n",
      " 0.         0.         0.         0.         0.1372549  0.94509804\n",
      " 0.88235294 0.62745098 0.42352941 0.00392157 0.         0.\n",
      " 0.         0.         0.         0.         0.         0.\n",
      " 0.         0.         0.         0.         0.         0.\n",
      " 0.         0.         0.         0.         0.         0.\n",
      " 0.         0.         0.         0.31764706 0.94117647 0.99215686\n",
      " 0.99215686 0.46666667 0.09803922 0.         0.         0.\n",
      " 0.         0.         0.         0.         0.         0.\n",
      " 0.         0.         0.         0.         0.         0.\n",
      " 0.         0.         0.         0.         0.         0.\n",
      " 0.         0.         0.17647059 0.72941176 0.99215686 0.99215686\n",
      " 0.58823529 0.10588235 0.         0.         0.         0.\n",
      " 0.         0.         0.         0.         0.         0.\n",
      " 0.         0.         0.         0.         0.         0.\n",
      " 0.         0.         0.         0.         0.         0.\n",
      " 0.         0.0627451  0.36470588 0.98823529 0.99215686 0.73333333\n",
      " 0.         0.         0.         0.         0.         0.\n",
      " 0.         0.         0.         0.         0.         0.\n",
      " 0.         0.         0.         0.         0.         0.\n",
      " 0.         0.         0.         0.         0.         0.\n",
      " 0.         0.97647059 0.99215686 0.97647059 0.25098039 0.\n",
      " 0.         0.         0.         0.         0.         0.\n",
      " 0.         0.         0.         0.         0.         0.\n",
      " 0.         0.         0.         0.         0.         0.\n",
      " 0.         0.         0.18039216 0.50980392 0.71764706 0.99215686\n",
      " 0.99215686 0.81176471 0.00784314 0.         0.         0.\n",
      " 0.         0.         0.         0.         0.         0.\n",
      " 0.         0.         0.         0.         0.         0.\n",
      " 0.         0.         0.         0.         0.15294118 0.58039216\n",
      " 0.89803922 0.99215686 0.99215686 0.99215686 0.98039216 0.71372549\n",
      " 0.         0.         0.         0.         0.         0.\n",
      " 0.         0.         0.         0.         0.         0.\n",
      " 0.         0.         0.         0.         0.         0.\n",
      " 0.09411765 0.44705882 0.86666667 0.99215686 0.99215686 0.99215686\n",
      " 0.99215686 0.78823529 0.30588235 0.         0.         0.\n",
      " 0.         0.         0.         0.         0.         0.\n",
      " 0.         0.         0.         0.         0.         0.\n",
      " 0.         0.         0.09019608 0.25882353 0.83529412 0.99215686\n",
      " 0.99215686 0.99215686 0.99215686 0.77647059 0.31764706 0.00784314\n",
      " 0.         0.         0.         0.         0.         0.\n",
      " 0.         0.         0.         0.         0.         0.\n",
      " 0.         0.         0.         0.         0.07058824 0.67058824\n",
      " 0.85882353 0.99215686 0.99215686 0.99215686 0.99215686 0.76470588\n",
      " 0.31372549 0.03529412 0.         0.         0.         0.\n",
      " 0.         0.         0.         0.         0.         0.\n",
      " 0.         0.         0.         0.         0.         0.\n",
      " 0.21568627 0.6745098  0.88627451 0.99215686 0.99215686 0.99215686\n",
      " 0.99215686 0.95686275 0.52156863 0.04313725 0.         0.\n",
      " 0.         0.         0.         0.         0.         0.\n",
      " 0.         0.         0.         0.         0.         0.\n",
      " 0.         0.         0.         0.         0.53333333 0.99215686\n",
      " 0.99215686 0.99215686 0.83137255 0.52941176 0.51764706 0.0627451\n",
      " 0.         0.         0.         0.         0.         0.\n",
      " 0.         0.         0.         0.         0.         0.\n",
      " 0.         0.         0.         0.         0.         0.\n",
      " 0.         0.         0.         0.         0.         0.\n",
      " 0.         0.         0.         0.         0.         0.\n",
      " 0.         0.         0.         0.         0.         0.\n",
      " 0.         0.         0.         0.         0.         0.\n",
      " 0.         0.         0.         0.         0.         0.\n",
      " 0.         0.         0.         0.         0.         0.\n",
      " 0.         0.         0.         0.         0.         0.\n",
      " 0.         0.         0.         0.         0.         0.\n",
      " 0.         0.         0.         0.         0.         0.\n",
      " 0.         0.         0.         0.         0.         0.\n",
      " 0.         0.         0.         0.         0.         0.\n",
      " 0.         0.         0.         0.         0.         0.\n",
      " 0.         0.         0.         0.         0.         0.\n",
      " 0.         0.         0.         0.        ]\n"
     ]
    }
   ],
   "source": [
    "print(x[0][0])"
   ]
  },
  {
   "cell_type": "code",
   "execution_count": null,
   "metadata": {},
   "outputs": [
    {
     "name": "stdout",
     "output_type": "stream",
     "text": [
      "913.4896\n",
      "0.22368667\n",
      "0.12075188\n"
     ]
    }
   ],
   "source": [
    "sess.run(tf.global_variables_initializer())\n",
    "feed_dict = dict(list(zip(x_placeholder, x)) + list(zip(y_placeholder, y)))\n",
    "for _ in range(1000):\n",
    "    train.run(feed_dict=feed_dict)\n",
    "    if _ % 100 == 0:\n",
    "        print(loss.eval(feed_dict=feed_dict))"
   ]
  },
  {
   "cell_type": "markdown",
   "metadata": {},
   "source": [
    "## Integrating with graph convolutional networks"
   ]
  },
  {
   "cell_type": "markdown",
   "metadata": {},
   "source": [
    "For sandboxing purposes, I'll be copy-pasting code from QM9GNN2_Multitask.ipynb"
   ]
  },
  {
   "cell_type": "code",
   "execution_count": null,
   "metadata": {},
   "outputs": [],
   "source": [
    "import numpy as np\n",
    "\n",
    "from keras.callbacks import EarlyStopping\n",
    "from keras.layers import Input, Dense\n",
    "from keras.models import Model\n",
    "from keras.optimizers import Adam\n",
    "from sklearn.model_selection import train_test_split\n",
    "from sklearn.preprocessing import StandardScaler\n",
    "from keras.backend import mean, square\n",
    "\n",
    "from spektral.datasets import qm9\n",
    "from spektral.layers import EdgeConditionedConv, GlobalAttentionPool\n",
    "from spektral.utils import label_to_one_hot"
   ]
  },
  {
   "cell_type": "code",
   "execution_count": null,
   "metadata": {},
   "outputs": [],
   "source": [
    "A_complete, X_complete, E_complete, y_complete = qm9.load_data(\n",
    "    return_type='numpy',\n",
    "    nf_keys='atomic_num',\n",
    "    ef_keys='type',\n",
    "    self_loops=True,\n",
    "    amount=None   # Set to None to train on whole dataset\n",
    ")\n",
    "# one-hot labeling of atoms\n",
    "uniq_X = np.unique(X_complete)\n",
    "X_complete = label_to_one_hot(X_complete, uniq_X)"
   ]
  },
  {
   "cell_type": "code",
   "execution_count": null,
   "metadata": {},
   "outputs": [],
   "source": [
    "A, X, E = list(), list(), list()\n",
    "y = y_complete.sample(10000)\n",
    "for index, row in y.iterrows():\n",
    "    A.append(A_complete[index])\n",
    "    X.append(X_complete[index])\n",
    "    E.append(E_complete[index])\n",
    "A = np.stack(A, axis=0)\n",
    "X = np.stack(X, axis=0)\n",
    "E = np.stack(E, axis=0)"
   ]
  },
  {
   "cell_type": "code",
   "execution_count": null,
   "metadata": {},
   "outputs": [],
   "source": [
    "tasks = list(y.columns)[1:]\n",
    "num_tasks = len(tasks)\n",
    "y_list = []\n",
    "for task in tasks:\n",
    "    y_list.append(y[[task]].values)\n",
    "    \n",
    "key_to_index = dict(zip(tasks, range(len(tasks))))\n",
    "key_to_mean = dict()\n",
    "key_to_std = dict()\n",
    "for task in tasks:\n",
    "    key_to_mean[task] = np.mean(y[[task]].values)\n",
    "    key_to_std[task] = np.std(y[[task]].values)\n",
    "\n",
    "# Transforms the output values to have mean 0 and variance 1\n",
    "for i in range(len(y_list)):\n",
    "    y_list[i] = StandardScaler().fit_transform(y_list[i]).reshape(-1, y_list[-1].shape[-1])"
   ]
  },
  {
   "cell_type": "code",
   "execution_count": null,
   "metadata": {},
   "outputs": [],
   "source": [
    "clusters = [['A', 'B', 'alpha'],\n",
    "            ['C', 'r2', 'u0'],\n",
    "            ['zpve', 'g298', 'cv'],\n",
    "            ['lumo', 'u298', 'h298'],\n",
    "            ['mu', 'homo']]"
   ]
  },
  {
   "cell_type": "code",
   "execution_count": null,
   "metadata": {},
   "outputs": [],
   "source": [
    "N = X.shape[-2]           # Number of nodes in the graphs\n",
    "F = X.shape[-1]           # Node features dimensionality\n",
    "S = E.shape[-1]           # Edge features dimensionality\n",
    "n_out = y_list[0].shape[-1]    # Dimensionality of the target\n",
    "learning_rate = 1e-3      # Learning rate for SGD\n",
    "epochs = 25               # Number of training epochs # formerly 25\n",
    "batch_size = 64           # Batch size\n",
    "es_patience = 5           # Patience fot early stopping\n",
    "soft = False\n",
    "soft_weight = 0.1"
   ]
  },
  {
   "cell_type": "code",
   "execution_count": null,
   "metadata": {},
   "outputs": [],
   "source": [
    "A_train, A_test, \\\n",
    "X_train, X_test, \\\n",
    "E_train, E_test, \\\n",
    "*y_train_test_list = train_test_split(A, X, E, *y_list, test_size = 0.1)\n",
    "\n",
    "y_train_list = y_train_test_list[::2]\n",
    "y_test_list = y_train_test_list[1::2]"
   ]
  },
  {
   "cell_type": "code",
   "execution_count": null,
   "metadata": {},
   "outputs": [],
   "source": [
    "X_in = Input(shape=(N, F))\n",
    "A_in = Input(shape=(N, N))\n",
    "E_in = Input(shape=(N, N, S))"
   ]
  },
  {
   "cell_type": "code",
   "execution_count": null,
   "metadata": {},
   "outputs": [],
   "source": []
  }
 ],
 "metadata": {
  "kernelspec": {
   "display_name": "Python 3",
   "language": "python",
   "name": "python3"
  },
  "language_info": {
   "codemirror_mode": {
    "name": "ipython",
    "version": 3
   },
   "file_extension": ".py",
   "mimetype": "text/x-python",
   "name": "python",
   "nbconvert_exporter": "python",
   "pygments_lexer": "ipython3",
   "version": "3.6.8"
  }
 },
 "nbformat": 4,
 "nbformat_minor": 2
}
