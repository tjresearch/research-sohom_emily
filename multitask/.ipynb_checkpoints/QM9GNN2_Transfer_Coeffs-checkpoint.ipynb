{
 "cells": [
  {
   "cell_type": "code",
   "execution_count": 1,
   "metadata": {},
   "outputs": [
    {
     "name": "stderr",
     "output_type": "stream",
     "text": [
      "Using TensorFlow backend.\n"
     ]
    }
   ],
   "source": [
    "import matplotlib.pyplot as plt\n",
    "import numpy as np\n",
    "from keras.callbacks import EarlyStopping\n",
    "from keras.layers import Input, Dense\n",
    "from keras.models import Model, Sequential\n",
    "from keras.optimizers import Adam\n",
    "from sklearn.model_selection import train_test_split\n",
    "from sklearn.preprocessing import StandardScaler\n",
    "from keras.backend import mean, square\n",
    "\n",
    "from spektral.datasets import qm9\n",
    "from spektral.layers import EdgeConditionedConv, GlobalAttentionPool\n",
    "from spektral.utils import label_to_one_hot"
   ]
  },
  {
   "cell_type": "code",
   "execution_count": 2,
   "metadata": {},
   "outputs": [
    {
     "name": "stdout",
     "output_type": "stream",
     "text": [
      "Loading QM9 dataset.\n",
      "Reading SDF\n"
     ]
    },
    {
     "name": "stderr",
     "output_type": "stream",
     "text": [
      "100%|██████████| 500/500 [00:00<00:00, 2826.41it/s]\n"
     ]
    }
   ],
   "source": [
    "A, X, E, y = qm9.load_data(return_type='numpy',\n",
    "                          nf_keys='atomic_num',\n",
    "                          ef_keys='type',\n",
    "                          self_loops=True,\n",
    "                          amount=500)\n",
    "uniq_X = np.unique(X)\n",
    "X = label_to_one_hot(X, uniq_X)"
   ]
  },
  {
   "cell_type": "code",
   "execution_count": 3,
   "metadata": {
    "scrolled": true
   },
   "outputs": [
    {
     "data": {
      "text/html": [
       "<div>\n",
       "<style scoped>\n",
       "    .dataframe tbody tr th:only-of-type {\n",
       "        vertical-align: middle;\n",
       "    }\n",
       "\n",
       "    .dataframe tbody tr th {\n",
       "        vertical-align: top;\n",
       "    }\n",
       "\n",
       "    .dataframe thead th {\n",
       "        text-align: right;\n",
       "    }\n",
       "</style>\n",
       "<table border=\"1\" class=\"dataframe\">\n",
       "  <thead>\n",
       "    <tr style=\"text-align: right;\">\n",
       "      <th></th>\n",
       "      <th>mol_id</th>\n",
       "      <th>A</th>\n",
       "      <th>B</th>\n",
       "      <th>C</th>\n",
       "      <th>mu</th>\n",
       "      <th>alpha</th>\n",
       "      <th>homo</th>\n",
       "      <th>lumo</th>\n",
       "      <th>gap</th>\n",
       "      <th>r2</th>\n",
       "      <th>zpve</th>\n",
       "      <th>u0</th>\n",
       "      <th>u298</th>\n",
       "      <th>h298</th>\n",
       "      <th>g298</th>\n",
       "      <th>cv</th>\n",
       "      <th>u0_atom</th>\n",
       "      <th>u298_atom</th>\n",
       "      <th>h298_atom</th>\n",
       "      <th>g298_atom</th>\n",
       "    </tr>\n",
       "  </thead>\n",
       "  <tbody>\n",
       "    <tr>\n",
       "      <td>0</td>\n",
       "      <td>gdb_1</td>\n",
       "      <td>157.71180</td>\n",
       "      <td>157.709970</td>\n",
       "      <td>157.706990</td>\n",
       "      <td>0.0000</td>\n",
       "      <td>13.21</td>\n",
       "      <td>-0.3877</td>\n",
       "      <td>0.1171</td>\n",
       "      <td>0.5048</td>\n",
       "      <td>35.3641</td>\n",
       "      <td>0.044749</td>\n",
       "      <td>-40.478930</td>\n",
       "      <td>-40.476062</td>\n",
       "      <td>-40.475117</td>\n",
       "      <td>-40.498597</td>\n",
       "      <td>6.469</td>\n",
       "      <td>-395.999595</td>\n",
       "      <td>-398.643290</td>\n",
       "      <td>-401.014647</td>\n",
       "      <td>-372.471772</td>\n",
       "    </tr>\n",
       "    <tr>\n",
       "      <td>1</td>\n",
       "      <td>gdb_2</td>\n",
       "      <td>293.60975</td>\n",
       "      <td>293.541110</td>\n",
       "      <td>191.393970</td>\n",
       "      <td>1.6256</td>\n",
       "      <td>9.46</td>\n",
       "      <td>-0.2570</td>\n",
       "      <td>0.0829</td>\n",
       "      <td>0.3399</td>\n",
       "      <td>26.1563</td>\n",
       "      <td>0.034358</td>\n",
       "      <td>-56.525887</td>\n",
       "      <td>-56.523026</td>\n",
       "      <td>-56.522082</td>\n",
       "      <td>-56.544961</td>\n",
       "      <td>6.316</td>\n",
       "      <td>-276.861363</td>\n",
       "      <td>-278.620271</td>\n",
       "      <td>-280.399259</td>\n",
       "      <td>-259.338802</td>\n",
       "    </tr>\n",
       "    <tr>\n",
       "      <td>2</td>\n",
       "      <td>gdb_3</td>\n",
       "      <td>799.58812</td>\n",
       "      <td>437.903860</td>\n",
       "      <td>282.945450</td>\n",
       "      <td>1.8511</td>\n",
       "      <td>6.31</td>\n",
       "      <td>-0.2928</td>\n",
       "      <td>0.0687</td>\n",
       "      <td>0.3615</td>\n",
       "      <td>19.0002</td>\n",
       "      <td>0.021375</td>\n",
       "      <td>-76.404702</td>\n",
       "      <td>-76.401867</td>\n",
       "      <td>-76.400922</td>\n",
       "      <td>-76.422349</td>\n",
       "      <td>6.002</td>\n",
       "      <td>-213.087624</td>\n",
       "      <td>-213.974294</td>\n",
       "      <td>-215.159658</td>\n",
       "      <td>-201.407171</td>\n",
       "    </tr>\n",
       "    <tr>\n",
       "      <td>3</td>\n",
       "      <td>gdb_4</td>\n",
       "      <td>0.00000</td>\n",
       "      <td>35.610036</td>\n",
       "      <td>35.610036</td>\n",
       "      <td>0.0000</td>\n",
       "      <td>16.28</td>\n",
       "      <td>-0.2845</td>\n",
       "      <td>0.0506</td>\n",
       "      <td>0.3351</td>\n",
       "      <td>59.5248</td>\n",
       "      <td>0.026841</td>\n",
       "      <td>-77.308427</td>\n",
       "      <td>-77.305527</td>\n",
       "      <td>-77.304583</td>\n",
       "      <td>-77.327429</td>\n",
       "      <td>8.574</td>\n",
       "      <td>-385.501997</td>\n",
       "      <td>-387.237686</td>\n",
       "      <td>-389.016047</td>\n",
       "      <td>-365.800724</td>\n",
       "    </tr>\n",
       "    <tr>\n",
       "      <td>4</td>\n",
       "      <td>gdb_5</td>\n",
       "      <td>0.00000</td>\n",
       "      <td>44.593883</td>\n",
       "      <td>44.593883</td>\n",
       "      <td>2.8937</td>\n",
       "      <td>12.99</td>\n",
       "      <td>-0.3604</td>\n",
       "      <td>0.0191</td>\n",
       "      <td>0.3796</td>\n",
       "      <td>48.7476</td>\n",
       "      <td>0.016601</td>\n",
       "      <td>-93.411888</td>\n",
       "      <td>-93.409370</td>\n",
       "      <td>-93.408425</td>\n",
       "      <td>-93.431246</td>\n",
       "      <td>6.278</td>\n",
       "      <td>-301.820534</td>\n",
       "      <td>-302.906752</td>\n",
       "      <td>-304.091489</td>\n",
       "      <td>-288.720028</td>\n",
       "    </tr>\n",
       "    <tr>\n",
       "      <td>...</td>\n",
       "      <td>...</td>\n",
       "      <td>...</td>\n",
       "      <td>...</td>\n",
       "      <td>...</td>\n",
       "      <td>...</td>\n",
       "      <td>...</td>\n",
       "      <td>...</td>\n",
       "      <td>...</td>\n",
       "      <td>...</td>\n",
       "      <td>...</td>\n",
       "      <td>...</td>\n",
       "      <td>...</td>\n",
       "      <td>...</td>\n",
       "      <td>...</td>\n",
       "      <td>...</td>\n",
       "      <td>...</td>\n",
       "      <td>...</td>\n",
       "      <td>...</td>\n",
       "      <td>...</td>\n",
       "      <td>...</td>\n",
       "    </tr>\n",
       "    <tr>\n",
       "      <td>495</td>\n",
       "      <td>gdb_496</td>\n",
       "      <td>20.93178</td>\n",
       "      <td>1.400360</td>\n",
       "      <td>1.363780</td>\n",
       "      <td>2.4084</td>\n",
       "      <td>48.12</td>\n",
       "      <td>-0.2740</td>\n",
       "      <td>-0.0464</td>\n",
       "      <td>0.2276</td>\n",
       "      <td>792.7020</td>\n",
       "      <td>0.083388</td>\n",
       "      <td>-285.313674</td>\n",
       "      <td>-285.307112</td>\n",
       "      <td>-285.306168</td>\n",
       "      <td>-285.344659</td>\n",
       "      <td>21.004</td>\n",
       "      <td>-1114.946069</td>\n",
       "      <td>-1120.604945</td>\n",
       "      <td>-1126.531767</td>\n",
       "      <td>-1045.635189</td>\n",
       "    </tr>\n",
       "    <tr>\n",
       "      <td>496</td>\n",
       "      <td>gdb_497</td>\n",
       "      <td>12.81085</td>\n",
       "      <td>1.748270</td>\n",
       "      <td>1.688220</td>\n",
       "      <td>3.3746</td>\n",
       "      <td>49.89</td>\n",
       "      <td>-0.2561</td>\n",
       "      <td>0.0191</td>\n",
       "      <td>0.2752</td>\n",
       "      <td>691.5345</td>\n",
       "      <td>0.083614</td>\n",
       "      <td>-285.276634</td>\n",
       "      <td>-285.270024</td>\n",
       "      <td>-285.269079</td>\n",
       "      <td>-285.307545</td>\n",
       "      <td>22.134</td>\n",
       "      <td>-1091.703135</td>\n",
       "      <td>-1097.331891</td>\n",
       "      <td>-1103.258086</td>\n",
       "      <td>-1022.345820</td>\n",
       "    </tr>\n",
       "    <tr>\n",
       "      <td>497</td>\n",
       "      <td>gdb_498</td>\n",
       "      <td>11.45832</td>\n",
       "      <td>1.833160</td>\n",
       "      <td>1.769770</td>\n",
       "      <td>3.6197</td>\n",
       "      <td>44.97</td>\n",
       "      <td>-0.2788</td>\n",
       "      <td>-0.0017</td>\n",
       "      <td>0.2772</td>\n",
       "      <td>652.2200</td>\n",
       "      <td>0.073313</td>\n",
       "      <td>-301.382062</td>\n",
       "      <td>-301.375865</td>\n",
       "      <td>-301.374920</td>\n",
       "      <td>-301.412562</td>\n",
       "      <td>20.073</td>\n",
       "      <td>-1009.255983</td>\n",
       "      <td>-1014.254719</td>\n",
       "      <td>-1019.587918</td>\n",
       "      <td>-946.018136</td>\n",
       "    </tr>\n",
       "    <tr>\n",
       "      <td>498</td>\n",
       "      <td>gdb_499</td>\n",
       "      <td>10.36100</td>\n",
       "      <td>1.925430</td>\n",
       "      <td>1.714020</td>\n",
       "      <td>3.7921</td>\n",
       "      <td>45.77</td>\n",
       "      <td>-0.2819</td>\n",
       "      <td>-0.0051</td>\n",
       "      <td>0.2768</td>\n",
       "      <td>660.5683</td>\n",
       "      <td>0.070779</td>\n",
       "      <td>-305.145002</td>\n",
       "      <td>-305.138580</td>\n",
       "      <td>-305.137636</td>\n",
       "      <td>-305.175765</td>\n",
       "      <td>20.964</td>\n",
       "      <td>-1021.373809</td>\n",
       "      <td>-1026.231984</td>\n",
       "      <td>-1031.565810</td>\n",
       "      <td>-958.661187</td>\n",
       "    </tr>\n",
       "    <tr>\n",
       "      <td>499</td>\n",
       "      <td>gdb_500</td>\n",
       "      <td>11.50390</td>\n",
       "      <td>1.861860</td>\n",
       "      <td>1.695590</td>\n",
       "      <td>3.8224</td>\n",
       "      <td>41.37</td>\n",
       "      <td>-0.3057</td>\n",
       "      <td>-0.0259</td>\n",
       "      <td>0.2797</td>\n",
       "      <td>649.8622</td>\n",
       "      <td>0.060309</td>\n",
       "      <td>-321.247305</td>\n",
       "      <td>-321.241236</td>\n",
       "      <td>-321.240291</td>\n",
       "      <td>-321.277891</td>\n",
       "      <td>19.010</td>\n",
       "      <td>-936.965691</td>\n",
       "      <td>-941.156196</td>\n",
       "      <td>-945.896399</td>\n",
       "      <td>-880.519374</td>\n",
       "    </tr>\n",
       "  </tbody>\n",
       "</table>\n",
       "<p>500 rows × 20 columns</p>\n",
       "</div>"
      ],
      "text/plain": [
       "      mol_id          A           B           C      mu  alpha    homo  \\\n",
       "0      gdb_1  157.71180  157.709970  157.706990  0.0000  13.21 -0.3877   \n",
       "1      gdb_2  293.60975  293.541110  191.393970  1.6256   9.46 -0.2570   \n",
       "2      gdb_3  799.58812  437.903860  282.945450  1.8511   6.31 -0.2928   \n",
       "3      gdb_4    0.00000   35.610036   35.610036  0.0000  16.28 -0.2845   \n",
       "4      gdb_5    0.00000   44.593883   44.593883  2.8937  12.99 -0.3604   \n",
       "..       ...        ...         ...         ...     ...    ...     ...   \n",
       "495  gdb_496   20.93178    1.400360    1.363780  2.4084  48.12 -0.2740   \n",
       "496  gdb_497   12.81085    1.748270    1.688220  3.3746  49.89 -0.2561   \n",
       "497  gdb_498   11.45832    1.833160    1.769770  3.6197  44.97 -0.2788   \n",
       "498  gdb_499   10.36100    1.925430    1.714020  3.7921  45.77 -0.2819   \n",
       "499  gdb_500   11.50390    1.861860    1.695590  3.8224  41.37 -0.3057   \n",
       "\n",
       "       lumo     gap        r2      zpve          u0        u298        h298  \\\n",
       "0    0.1171  0.5048   35.3641  0.044749  -40.478930  -40.476062  -40.475117   \n",
       "1    0.0829  0.3399   26.1563  0.034358  -56.525887  -56.523026  -56.522082   \n",
       "2    0.0687  0.3615   19.0002  0.021375  -76.404702  -76.401867  -76.400922   \n",
       "3    0.0506  0.3351   59.5248  0.026841  -77.308427  -77.305527  -77.304583   \n",
       "4    0.0191  0.3796   48.7476  0.016601  -93.411888  -93.409370  -93.408425   \n",
       "..      ...     ...       ...       ...         ...         ...         ...   \n",
       "495 -0.0464  0.2276  792.7020  0.083388 -285.313674 -285.307112 -285.306168   \n",
       "496  0.0191  0.2752  691.5345  0.083614 -285.276634 -285.270024 -285.269079   \n",
       "497 -0.0017  0.2772  652.2200  0.073313 -301.382062 -301.375865 -301.374920   \n",
       "498 -0.0051  0.2768  660.5683  0.070779 -305.145002 -305.138580 -305.137636   \n",
       "499 -0.0259  0.2797  649.8622  0.060309 -321.247305 -321.241236 -321.240291   \n",
       "\n",
       "           g298      cv      u0_atom    u298_atom    h298_atom    g298_atom  \n",
       "0    -40.498597   6.469  -395.999595  -398.643290  -401.014647  -372.471772  \n",
       "1    -56.544961   6.316  -276.861363  -278.620271  -280.399259  -259.338802  \n",
       "2    -76.422349   6.002  -213.087624  -213.974294  -215.159658  -201.407171  \n",
       "3    -77.327429   8.574  -385.501997  -387.237686  -389.016047  -365.800724  \n",
       "4    -93.431246   6.278  -301.820534  -302.906752  -304.091489  -288.720028  \n",
       "..          ...     ...          ...          ...          ...          ...  \n",
       "495 -285.344659  21.004 -1114.946069 -1120.604945 -1126.531767 -1045.635189  \n",
       "496 -285.307545  22.134 -1091.703135 -1097.331891 -1103.258086 -1022.345820  \n",
       "497 -301.412562  20.073 -1009.255983 -1014.254719 -1019.587918  -946.018136  \n",
       "498 -305.175765  20.964 -1021.373809 -1026.231984 -1031.565810  -958.661187  \n",
       "499 -321.277891  19.010  -936.965691  -941.156196  -945.896399  -880.519374  \n",
       "\n",
       "[500 rows x 20 columns]"
      ]
     },
     "execution_count": 3,
     "metadata": {},
     "output_type": "execute_result"
    }
   ],
   "source": [
    "y"
   ]
  },
  {
   "cell_type": "code",
   "execution_count": 4,
   "metadata": {},
   "outputs": [],
   "source": [
    "task_learned, task_transferred = 'zpve', 'h298_atom'\n",
    "y_learned = StandardScaler().fit_transform(y[[task_learned]].values).reshape(-1, y[[task_learned]].values.shape[-1])\n",
    "y_transferred = StandardScaler().fit_transform(y[[task_transferred]].values).reshape(-1, y[[task_transferred]].values.shape[-1])"
   ]
  },
  {
   "cell_type": "code",
   "execution_count": 5,
   "metadata": {},
   "outputs": [],
   "source": [
    "N = X.shape[-2]\n",
    "F = X.shape[-1]\n",
    "S = E.shape[-1]\n",
    "n_out = y_learned.shape[-1]\n",
    "learning_rate = 1e-3\n",
    "epochs = 3\n",
    "batch_size = 64\n",
    "es_patience = 5"
   ]
  },
  {
   "cell_type": "code",
   "execution_count": 6,
   "metadata": {},
   "outputs": [],
   "source": [
    "A_train, A_test, \\\n",
    "X_train, X_test, \\\n",
    "E_train, E_test, \\\n",
    "y_learned_train, \\\n",
    "y_learned_test, \\\n",
    "y_transferred_train, \\\n",
    "y_transferred_test = train_test_split(A, X, E, y_learned, y_transferred, test_size=0.1)"
   ]
  },
  {
   "cell_type": "code",
   "execution_count": 22,
   "metadata": {},
   "outputs": [],
   "source": [
    "X_in = Input(shape=(N, F))\n",
    "A_in = Input(shape=(N, N))\n",
    "E_in = Input(shape=(N, N, S))"
   ]
  },
  {
   "cell_type": "code",
   "execution_count": 13,
   "metadata": {},
   "outputs": [],
   "source": [
    "def create_model():\n",
    "    X_in = Input(shape=(N, F))\n",
    "    A_in = Input(shape=(N, N))\n",
    "    E_in = Input(shape=(N, N, S))\n",
    "    gc1 = EdgeConditionedConv(64, activation='relu')([X_in, A_in, E_in])\n",
    "    gc2 = EdgeConditionedConv(128, activation='relu')([gc1, A_in, E_in])\n",
    "    pool = GlobalAttentionPool(256)(gc2)\n",
    "    dense = Dense(256, activation='relu')(pool)\n",
    "    output = Dense(n_out)(dense)\n",
    "    return Model(inputs=[X_in, A_in, E_in], outputs=output) "
   ]
  },
  {
   "cell_type": "code",
   "execution_count": 30,
   "metadata": {},
   "outputs": [],
   "source": [
    "def train_and_save_model(model, X_train, A_train, E_train, y_train, y_test, filename):\n",
    "    model.compile(optimizer='adam', loss='mse')\n",
    "    es_callback = EarlyStopping(monitor='val_loss', patience=es_patience)\n",
    "    model.fit([X_train, A_train, E_train],\n",
    "              y_train,\n",
    "              batch_size=batch_size,\n",
    "              validation_split=0.1,\n",
    "              epochs=epochs,\n",
    "              callbacks=[es_callback])\n",
    "    model.save(path.join('single_task_trained_models', filename, '.h5'))"
   ]
  },
  {
   "cell_type": "code",
   "execution_count": 15,
   "metadata": {},
   "outputs": [
    {
     "name": "stdout",
     "output_type": "stream",
     "text": [
      "WARNING:tensorflow:From /home/sohompaul/psi4conda/lib/python3.6/site-packages/keras/backend/tensorflow_backend.py:4138: The name tf.random_uniform is deprecated. Please use tf.random.uniform instead.\n",
      "\n",
      "__________________________________________________________________________________________________\n",
      "Layer (type)                    Output Shape         Param #     Connected to                     \n",
      "==================================================================================================\n",
      "input_4 (InputLayer)            (None, 6, 5)         0                                            \n",
      "__________________________________________________________________________________________________\n",
      "input_5 (InputLayer)            (None, 6, 6)         0                                            \n",
      "__________________________________________________________________________________________________\n",
      "input_6 (InputLayer)            (None, 6, 6, 1)      0                                            \n",
      "__________________________________________________________________________________________________\n",
      "edge_conditioned_conv_1 (EdgeCo (None, 6, 64)        704         input_4[0][0]                    \n",
      "                                                                 input_5[0][0]                    \n",
      "                                                                 input_6[0][0]                    \n",
      "__________________________________________________________________________________________________\n",
      "edge_conditioned_conv_2 (EdgeCo (None, 6, 128)       16512       edge_conditioned_conv_1[0][0]    \n",
      "                                                                 input_5[0][0]                    \n",
      "                                                                 input_6[0][0]                    \n",
      "__________________________________________________________________________________________________\n",
      "global_attention_pool_1 (Global (None, 256)          66048       edge_conditioned_conv_2[0][0]    \n",
      "__________________________________________________________________________________________________\n",
      "dense_1 (Dense)                 (None, 256)          65792       global_attention_pool_1[0][0]    \n",
      "__________________________________________________________________________________________________\n",
      "dense_2 (Dense)                 (None, 1)            257         dense_1[0][0]                    \n",
      "==================================================================================================\n",
      "Total params: 149,313\n",
      "Trainable params: 149,313\n",
      "Non-trainable params: 0\n",
      "__________________________________________________________________________________________________\n",
      "WARNING:tensorflow:From /home/sohompaul/psi4conda/lib/python3.6/site-packages/keras/optimizers.py:790: The name tf.train.Optimizer is deprecated. Please use tf.compat.v1.train.Optimizer instead.\n",
      "\n"
     ]
    }
   ],
   "source": [
    "learned_model = create_model()\n",
    "learned_model.summary()\n",
    "learned_model.compile(optimizer='adam', loss='mse')"
   ]
  },
  {
   "cell_type": "code",
   "execution_count": 16,
   "metadata": {},
   "outputs": [
    {
     "name": "stdout",
     "output_type": "stream",
     "text": [
      "__________________________________________________________________________________________________\n",
      "Layer (type)                    Output Shape         Param #     Connected to                     \n",
      "==================================================================================================\n",
      "input_7 (InputLayer)            (None, 6, 5)         0                                            \n",
      "__________________________________________________________________________________________________\n",
      "input_8 (InputLayer)            (None, 6, 6)         0                                            \n",
      "__________________________________________________________________________________________________\n",
      "input_9 (InputLayer)            (None, 6, 6, 1)      0                                            \n",
      "__________________________________________________________________________________________________\n",
      "edge_conditioned_conv_3 (EdgeCo (None, 6, 64)        704         input_7[0][0]                    \n",
      "                                                                 input_8[0][0]                    \n",
      "                                                                 input_9[0][0]                    \n",
      "__________________________________________________________________________________________________\n",
      "edge_conditioned_conv_4 (EdgeCo (None, 6, 128)       16512       edge_conditioned_conv_3[0][0]    \n",
      "                                                                 input_8[0][0]                    \n",
      "                                                                 input_9[0][0]                    \n",
      "__________________________________________________________________________________________________\n",
      "global_attention_pool_2 (Global (None, 256)          66048       edge_conditioned_conv_4[0][0]    \n",
      "__________________________________________________________________________________________________\n",
      "dense_3 (Dense)                 (None, 256)          65792       global_attention_pool_2[0][0]    \n",
      "__________________________________________________________________________________________________\n",
      "dense_4 (Dense)                 (None, 1)            257         dense_3[0][0]                    \n",
      "==================================================================================================\n",
      "Total params: 149,313\n",
      "Trainable params: 149,313\n",
      "Non-trainable params: 0\n",
      "__________________________________________________________________________________________________\n"
     ]
    }
   ],
   "source": [
    "transferred_model = create_model()\n",
    "transferred_model.summary()\n",
    "transferred_model.compile(optimizer='adam', loss='mse')"
   ]
  },
  {
   "cell_type": "code",
   "execution_count": 17,
   "metadata": {},
   "outputs": [],
   "source": [
    "es_callback = EarlyStopping(monitor='val_loss', patience=es_patience)"
   ]
  },
  {
   "cell_type": "code",
   "execution_count": 18,
   "metadata": {},
   "outputs": [
    {
     "name": "stdout",
     "output_type": "stream",
     "text": [
      "WARNING:tensorflow:From /home/sohompaul/psi4conda/lib/python3.6/site-packages/keras/backend/tensorflow_backend.py:986: The name tf.assign_add is deprecated. Please use tf.compat.v1.assign_add instead.\n",
      "\n",
      "WARNING:tensorflow:From /home/sohompaul/psi4conda/lib/python3.6/site-packages/keras/backend/tensorflow_backend.py:973: The name tf.assign is deprecated. Please use tf.compat.v1.assign instead.\n",
      "\n",
      "Train on 405 samples, validate on 45 samples\n",
      "Epoch 1/3\n",
      "405/405 [==============================] - 8s 20ms/step - loss: 0.9825 - val_loss: 0.9678\n",
      "Epoch 2/3\n",
      "405/405 [==============================] - 4s 10ms/step - loss: 0.7674 - val_loss: 0.7252\n",
      "Epoch 3/3\n",
      "405/405 [==============================] - 4s 9ms/step - loss: 0.5941 - val_loss: 0.6113\n"
     ]
    },
    {
     "data": {
      "text/plain": [
       "<keras.callbacks.History at 0x7fa374a13ac8>"
      ]
     },
     "execution_count": 18,
     "metadata": {},
     "output_type": "execute_result"
    }
   ],
   "source": [
    "learned_model.fit([X_train, A_train, E_train],\n",
    "                          y_learned_train,\n",
    "                          batch_size=batch_size,\n",
    "                          validation_split=0.1,\n",
    "                          epochs=epochs,\n",
    "                          callbacks=[es_callback])"
   ]
  },
  {
   "cell_type": "code",
   "execution_count": 19,
   "metadata": {},
   "outputs": [
    {
     "name": "stdout",
     "output_type": "stream",
     "text": [
      "Train on 405 samples, validate on 45 samples\n",
      "Epoch 1/3\n",
      "405/405 [==============================] - 7s 18ms/step - loss: 1.0082 - val_loss: 0.8501\n",
      "Epoch 2/3\n",
      "405/405 [==============================] - 4s 11ms/step - loss: 0.8583 - val_loss: 0.7227\n",
      "Epoch 3/3\n",
      "405/405 [==============================] - 5s 12ms/step - loss: 0.7046 - val_loss: 0.6799\n"
     ]
    },
    {
     "data": {
      "text/plain": [
       "<keras.callbacks.History at 0x7fa3746f66d8>"
      ]
     },
     "execution_count": 19,
     "metadata": {},
     "output_type": "execute_result"
    }
   ],
   "source": [
    "transferred_model.fit([X_train, A_train, E_train],\n",
    "                              y_transferred_train,\n",
    "                              batch_size=batch_size,\n",
    "                              validation_split=0.1,\n",
    "                              epochs=epochs,\n",
    "                              callbacks=[es_callback])"
   ]
  },
  {
   "cell_type": "code",
   "execution_count": 20,
   "metadata": {},
   "outputs": [
    {
     "name": "stdout",
     "output_type": "stream",
     "text": [
      "50/50 [==============================] - 0s 1ms/step\n",
      "Done.\n",
      "Test loss: 0.816130518913269\n"
     ]
    }
   ],
   "source": [
    "eval_results = transferred_model.evaluate([X_test, A_test, E_test],\n",
    "                              y_transferred_test,\n",
    "                              batch_size=batch_size)\n",
    "print('Done.\\n'\n",
    "      'Test loss: {}'.format(eval_results))"
   ]
  },
  {
   "cell_type": "code",
   "execution_count": 23,
   "metadata": {},
   "outputs": [
    {
     "name": "stdout",
     "output_type": "stream",
     "text": [
      "(64,)\n",
      "(1, 320)\n",
      "(320,)\n",
      "(128,)\n",
      "(1, 8192)\n",
      "(8192,)\n",
      "(128, 256)\n",
      "(256,)\n",
      "(128, 256)\n",
      "(256,)\n",
      "(256, 256)\n",
      "(256,)\n",
      "(256, 1)\n",
      "(1,)\n"
     ]
    },
    {
     "data": {
      "text/plain": [
       "(256, 256)"
      ]
     },
     "execution_count": 23,
     "metadata": {},
     "output_type": "execute_result"
    }
   ],
   "source": [
    "learned_layers = learned_model.get_weights()\n",
    "for layer in learned_layers:\n",
    "    print(layer.shape)\n",
    "learned_layers[10].shape"
   ]
  },
  {
   "cell_type": "code",
   "execution_count": 26,
   "metadata": {},
   "outputs": [
    {
     "name": "stdout",
     "output_type": "stream",
     "text": [
      "(64,)\n",
      "(1, 320)\n",
      "(320,)\n",
      "(128,)\n",
      "(1, 8192)\n",
      "(8192,)\n",
      "(128, 256)\n",
      "(256,)\n",
      "(128, 256)\n",
      "(256,)\n",
      "(256, 256)\n",
      "(256,)\n",
      "(256, 1)\n",
      "(1,)\n"
     ]
    }
   ],
   "source": [
    "transferred_layers = transferred_model.get_weights()\n",
    "transferred_layers = learned_layers[:10] + transferred_layers[10:]\n",
    "for layer in transferred_layers:\n",
    "    print(layer.shape)\n",
    "transferred_model.set_weights(transferred_layers)"
   ]
  },
  {
   "cell_type": "code",
   "execution_count": 32,
   "metadata": {},
   "outputs": [
    {
     "name": "stdout",
     "output_type": "stream",
     "text": [
      "50/50 [==============================] - 1s 19ms/step\n",
      "Done.\n",
      "Test loss: 0.8942722082138062\n",
      "\n",
      "0.8942722082138062\n"
     ]
    }
   ],
   "source": [
    "eval_results = transferred_model.evaluate([X_test, A_test, E_test],\n",
    "                              y_transferred_test,\n",
    "                              batch_size=batch_size)\n",
    "print('Done.\\n'\n",
    "      'Test loss: {}'.format(eval_results))"
   ]
  },
  {
   "cell_type": "code",
   "execution_count": null,
   "metadata": {},
   "outputs": [],
   "source": []
  }
 ],
 "metadata": {
  "kernelspec": {
   "display_name": "Python 3",
   "language": "python",
   "name": "python3"
  },
  "language_info": {
   "codemirror_mode": {
    "name": "ipython",
    "version": 3
   },
   "file_extension": ".py",
   "mimetype": "text/x-python",
   "name": "python",
   "nbconvert_exporter": "python",
   "pygments_lexer": "ipython3",
   "version": "3.6.8"
  }
 },
 "nbformat": 4,
 "nbformat_minor": 2
}
