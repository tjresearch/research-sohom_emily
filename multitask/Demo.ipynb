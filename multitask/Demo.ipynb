{
 "cells": [
  {
   "cell_type": "code",
   "execution_count": 1,
   "metadata": {},
   "outputs": [],
   "source": [
    "import psi4\n",
    "import os\n",
    "import time"
   ]
  },
  {
   "cell_type": "code",
   "execution_count": 25,
   "metadata": {},
   "outputs": [],
   "source": [
    "def get_molecule_from_file(filenum):\n",
    "    filepath = os.path.join(os.getcwd(), '..', '..','dsgdb9nsd', \n",
    "                           'dsgdb9nsd_' + str(filenum).zfill(6) + '.xyz')\n",
    "    f = open(filepath, 'r')\n",
    "    lines = f.readlines()\n",
    "    f.close()\n",
    "    num_atoms = int(lines[0])\n",
    "    atom_list = lines[2:2+num_atoms]\n",
    "    for i in range(len(atom_list)):\n",
    "        atom_list[i] = atom_list[i][:atom_list[i].rfind(\"\\t\")] + \"\\n\"\n",
    "    return psi4.geometry(\"\".join(atom_list))"
   ]
  },
  {
   "cell_type": "code",
   "execution_count": 21,
   "metadata": {},
   "outputs": [],
   "source": [
    "def generate_output_file_path(filenum):\n",
    "    return os.path.join('psi4_output', 'output_'+str(filenum)+'.dat')"
   ]
  },
  {
   "cell_type": "code",
   "execution_count": 5,
   "metadata": {},
   "outputs": [],
   "source": [
    "def process_molecule(filenum, thermochemical=False):\n",
    "    psi4.core.set_output_file(generate_output_file_path(filenum), False)\n",
    "    psi4.set_memory('2 GB')\n",
    "    molecule = get_molecule_from_file(filenum)\n",
    "    if thermochemical:\n",
    "        e, wfn = psi4.freq('b3lyp/cc-pvqz', molecule=molecule, return_wfn=True)\n",
    "    else:\n",
    "        e, wfn = psi4.energy('b3lyp/cc-pvqz', molecule=molecule, return_wfn=True)\n",
    "    return wfn"
   ]
  },
  {
   "cell_type": "code",
   "execution_count": 7,
   "metadata": {},
   "outputs": [],
   "source": [
    "def extract_rotational_constants(filenum, wfn):\n",
    "    f = open(generate_output_file_path(filenum), 'r')\n",
    "    lines = f.readlines()\n",
    "    f.close()\n",
    "    for i in range(len(lines)):\n",
    "        if lines[i].find('Rotational constants:') > -1 and lines[i].find('[MHz]') > -1:\n",
    "            words = lines[i].split()\n",
    "            return float(words[4])/1000, float(words[7])/1000, float(words[10])/1000"
   ]
  },
  {
   "cell_type": "code",
   "execution_count": 8,
   "metadata": {},
   "outputs": [],
   "source": [
    "def extract_dipole_moment(filenum, wfn):\n",
    "    f = open(generate_output_file_path(filenum), 'r')\n",
    "    lines = f.readlines()\n",
    "    f.close()\n",
    "    for i in range(len(lines)):\n",
    "        if lines[i].find(\"Dipole Moment: [D]\") > -1:\n",
    "            return float(lines[i+1][lines[i+1].find(\"Total:\") + 6:])"
   ]
  },
  {
   "cell_type": "code",
   "execution_count": 9,
   "metadata": {},
   "outputs": [],
   "source": [
    "def extract_homo_lumo(filenum, wfn):\n",
    "    homo = wfn.epsilon_a_subset(\"AO\", \"ALL\").get(wfn.nalpha())\n",
    "    lumo = wfn.epsilon_a_subset(\"AO\", \"ALL\").get(wfn.nalpha() + 1)\n",
    "    return homo, lumo"
   ]
  },
  {
   "cell_type": "code",
   "execution_count": 32,
   "metadata": {},
   "outputs": [],
   "source": [
    "def extract_gap(filenum, wfn):\n",
    "    homo, lumo = extract_homo_lumo_gap(fileum, wfn)\n",
    "    return lumo - homo"
   ]
  },
  {
   "cell_type": "code",
   "execution_count": 10,
   "metadata": {},
   "outputs": [],
   "source": [
    "def extract_zpve(filenum, wfn):\n",
    "    f = open(generate_output_file_path(filenum), 'r')\n",
    "    lines = f.readlines()\n",
    "    f.close()\n",
    "    for i in range(len(lines)):\n",
    "        if lines[i].find(\"Total ZPE, Electronic energy at 0 [K]\") > -1:\n",
    "            words = lines[i].split()\n",
    "            return float(words[-2])"
   ]
  },
  {
   "cell_type": "code",
   "execution_count": 34,
   "metadata": {},
   "outputs": [],
   "source": [
    "def extract_internal_energy(filenum, wfn):\n",
    "    f = open(geneate_output_file_path(filenum), 'r')\n",
    "    lines = f.readlines()\n",
    "    f.close()\n",
    "    for i in range(len(lines)):\n",
    "        if lines[i].find(\"Total E, Electronic energy at  298.15 [K]\") > -1:\n",
    "            words = lines[i].split()\n",
    "            return float(words[-2])"
   ]
  },
  {
   "cell_type": "code",
   "execution_count": 11,
   "metadata": {},
   "outputs": [],
   "source": [
    "def extract_enthalpy(filenum, wfn):\n",
    "    f = open(generate_output_file_path(filenum), 'r')\n",
    "    lines = f.readlines()\n",
    "    f.close()\n",
    "    for i in range(len(lines)):\n",
    "        if lines[i].find(\"Total H, Enthalpy at  298.15 [K]\") > -1:\n",
    "            words = lines[i].split()\n",
    "            return float(words[-2])"
   ]
  },
  {
   "cell_type": "code",
   "execution_count": 12,
   "metadata": {},
   "outputs": [],
   "source": [
    "def extract_gibbs_free_energy(filenum, wfn):\n",
    "    f = open(generate_output_file_path(filenum), 'r')\n",
    "    lines = f.readline()\n",
    "    f.close()\n",
    "    for i in range(len(lines)):\n",
    "        if lines[i].find(\"Total G, Free enthalpy at  298.15 [K]\") > -1:\n",
    "            print(lines[i])\n",
    "            words = lines[i].split()\n",
    "            return float(words[-2])"
   ]
  },
  {
   "cell_type": "code",
   "execution_count": 33,
   "metadata": {},
   "outputs": [],
   "source": [
    "def extract_cv(filenum, wfn):\n",
    "    f = open(generate_output_file_path(filenum), 'r')\n",
    "    lines = f.readline()\n",
    "    f.close()\n",
    "    for i in range(len(lines)):\n",
    "        if lines[i].find('Total Cv') > -1:\n",
    "            words = lines[i].split()\n",
    "            return float(words[2])"
   ]
  },
  {
   "cell_type": "code",
   "execution_count": 13,
   "metadata": {},
   "outputs": [],
   "source": [
    "def batch_process(start_num, end_num, thermochemical=False):\n",
    "    f = open(\"output.csv\", \"w\")\n",
    "    output_header = \"Index,A,B,C,Dipole,HOMO,LUMO\"\n",
    "    if thermochemical:\n",
    "        output_header += \",zpve,H 298.15,G 298.15\"\n",
    "    output_header += \"\\n\"\n",
    "    f.write(output_header)\n",
    "    for filenum in range(start_num, end_num+1):\n",
    "        wfn = process_molecule(filenum, thermochemical=thermochemical)\n",
    "        a, b, c = extract_rotational_constants(filenum, wfn)\n",
    "        dipole = extract_dipole_moment(filenum, wfn)\n",
    "        homo, lumo = extract_homo_lumo(filenum, wfn)\n",
    "        output = str(filenum) + \",\" + str(a) + \",\" + str(b) + \",\" + str(c) + \",\" + str(dipole) + \",\" + str(homo) + \",\" + str(lumo)\n",
    "        if thermochemical:\n",
    "            zpve = extract_zpve(filenum, wfn)\n",
    "            enthalpy = extract_enthalpy(filenum, wfn)\n",
    "            gibbs_free_energy = extract_gibbs_free_energy(filenum, wfn)\n",
    "            output += \",\" + str(zpve) + \",\" + str(enthalpy) + \",\" + str(gibbs_free_energy)\n",
    "        output += \"\\n\" \n",
    "        f.write(output)\n",
    "    f.close()"
   ]
  },
  {
   "cell_type": "code",
   "execution_count": 31,
   "metadata": {},
   "outputs": [
    {
     "name": "stdout",
     "output_type": "stream",
     "text": [
      " 19 displacements needed.\n",
      " 1 2 3 4 5 6 7 8 9 10 11 12 13 14 15 16 17 18 19\n",
      " 13 displacements needed.\n",
      " 1 2 3 4 5 6 7 8 9 10 11 12 13\n",
      " 6 displacements needed.\n",
      " 1 2 3 4 5 6\n",
      "1377.6982970237732\n"
     ]
    }
   ],
   "source": [
    "start = time.time()\n",
    "batch_process(1, 3, thermochemical=True)\n",
    "end = time.time()\n",
    "print(end-start)"
   ]
  },
  {
   "cell_type": "code",
   "execution_count": 17,
   "metadata": {},
   "outputs": [
    {
     "data": {
      "text/plain": [
       "'/mnt/c/Users/Sohom/Documents/senior_research/research_shared/multitask/psi4_output/output_1.dat'"
      ]
     },
     "execution_count": 17,
     "metadata": {},
     "output_type": "execute_result"
    }
   ],
   "source": [
    "generate_output_file_path(1)"
   ]
  },
  {
   "cell_type": "code",
   "execution_count": 29,
   "metadata": {},
   "outputs": [],
   "source": [
    "psi4.core.set_output_file('psi4_output/output_1.dat')"
   ]
  },
  {
   "cell_type": "code",
   "execution_count": 30,
   "metadata": {},
   "outputs": [],
   "source": [
    "psi4.set_memory('2 GB')\n",
    "molecule = get_molecule_from_file(1)\n",
    "e, wfn = psi4.energy('b3lyp/cc-pvqz', molecule=molecule, return_wfn=True)"
   ]
  },
  {
   "cell_type": "code",
   "execution_count": null,
   "metadata": {},
   "outputs": [],
   "source": []
  }
 ],
 "metadata": {
  "kernelspec": {
   "display_name": "Python 3",
   "language": "python",
   "name": "python3"
  },
  "language_info": {
   "codemirror_mode": {
    "name": "ipython",
    "version": 3
   },
   "file_extension": ".py",
   "mimetype": "text/x-python",
   "name": "python",
   "nbconvert_exporter": "python",
   "pygments_lexer": "ipython3",
   "version": "3.6.8"
  }
 },
 "nbformat": 4,
 "nbformat_minor": 2
}
