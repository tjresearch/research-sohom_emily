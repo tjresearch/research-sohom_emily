{
 "cells": [
  {
   "cell_type": "markdown",
   "metadata": {},
   "source": [
    "2017 DeepCrystal Technologies - Patrick Hop\n",
    "\n",
    "Message Passing Neural Network SELU [MPNN-S] for Chemical Multigraphs\n",
    "\n",
    "MIT License - have fun!!"
   ]
  },
  {
   "cell_type": "code",
   "execution_count": 1,
   "metadata": {},
   "outputs": [
    {
     "name": "stdout",
     "output_type": "stream",
     "text": [
      "/home/sohompaul/psi4conda/envs/deepchempy2/bin/python\n",
      "2.7.17 |Anaconda, Inc.| (default, Oct 21 2019, 19:04:46) \n",
      "[GCC 7.3.0]\n",
      "sys.version_info(major=2, minor=7, micro=17, releaselevel='final', serial=0)\n"
     ]
    }
   ],
   "source": [
    "import sys\n",
    "print(sys.executable)\n",
    "print(sys.version)\n",
    "print(sys.version_info)"
   ]
  },
  {
   "cell_type": "code",
   "execution_count": 2,
   "metadata": {},
   "outputs": [],
   "source": [
    "import math"
   ]
  },
  {
   "cell_type": "code",
   "execution_count": 3,
   "metadata": {},
   "outputs": [],
   "source": [
    "import deepchem as dc\n",
    "from rdkit import Chem, DataStructs\n",
    "from rdkit.Chem import AllChem"
   ]
  },
  {
   "cell_type": "code",
   "execution_count": 4,
   "metadata": {},
   "outputs": [],
   "source": [
    "import torch\n",
    "import torch.nn as nn\n",
    "from torch.autograd import Variable\n",
    "import torch.optim as optim\n",
    "import torch.nn.functional as F"
   ]
  },
  {
   "cell_type": "code",
   "execution_count": 5,
   "metadata": {},
   "outputs": [],
   "source": [
    "from sklearn.metrics import r2_score\n",
    "from sklearn.ensemble import RandomForestRegressor\n",
    "from sklearn import preprocessing\n",
    "import numpy as np"
   ]
  },
  {
   "cell_type": "code",
   "execution_count": 6,
   "metadata": {},
   "outputs": [],
   "source": [
    "import random\n",
    "from collections import OrderedDict\n",
    "from scipy.stats import pearsonr"
   ]
  },
  {
   "cell_type": "code",
   "execution_count": 7,
   "metadata": {},
   "outputs": [],
   "source": [
    "import donkey"
   ]
  },
  {
   "cell_type": "code",
   "execution_count": 8,
   "metadata": {},
   "outputs": [],
   "source": [
    "random.seed(2)\n",
    "torch.manual_seed(2)\n",
    "np.random.seed(2)"
   ]
  },
  {
   "cell_type": "code",
   "execution_count": 9,
   "metadata": {},
   "outputs": [
    {
     "name": "stdout",
     "output_type": "stream",
     "text": [
      "az_ppb.csv\n"
     ]
    }
   ],
   "source": [
    "DATASET = 'az_ppb.csv'\n",
    "print(DATASET)"
   ]
  },
  {
   "cell_type": "code",
   "execution_count": 10,
   "metadata": {},
   "outputs": [],
   "source": [
    "T = 3\n",
    "BATCH_SIZE = 48\n",
    "MAXITER = 40000\n",
    "LIMIT = 0\n",
    "LR = 5e-4"
   ]
  },
  {
   "cell_type": "code",
   "execution_count": 11,
   "metadata": {},
   "outputs": [],
   "source": [
    "R = nn.Linear(150, 128)\n",
    "U = {0: nn.Linear(156, 75), 1: nn.Linear(156, 75), 2: nn.Linear(156, 75)}\n",
    "V = {0: nn.Linear(75, 75), 1: nn.Linear(75, 75), 2: nn.Linear(75, 75)}\n",
    "E = nn.Linear(6, 6)"
   ]
  },
  {
   "cell_type": "code",
   "execution_count": 12,
   "metadata": {},
   "outputs": [],
   "source": [
    "def adjust_learning_rate(optimizer, epoch):\n",
    "  \"\"\"Sets the learning rate to the initial LR decayed by .8 every 5 epochs\"\"\"\n",
    "  lr = LR * (0.9 ** (epoch // 10))\n",
    "  print('new lr [%.5f]' % lr)\n",
    "  for param_group in optimizer.param_groups:\n",
    "    param_group['lr'] = lr"
   ]
  },
  {
   "cell_type": "code",
   "execution_count": 13,
   "metadata": {},
   "outputs": [],
   "source": [
    "def load_dataset():\n",
    "  train_features, train_labels, val_features, val_labels = donkey.load_dataset(DATASET)\n",
    "\n",
    "  scaler = preprocessing.StandardScaler().fit(train_labels)\n",
    "  train_labels = scaler.transform(train_labels)\n",
    "  val_labels = scaler.transform(val_labels)\n",
    "\n",
    "  train_labels = Variable(torch.FloatTensor(train_labels), requires_grad=False)\n",
    "  val_labels = Variable(torch.FloatTensor(val_labels), requires_grad=False)\n",
    "  \n",
    "  return train_features, train_labels, val_features, val_labels"
   ]
  },
  {
   "cell_type": "code",
   "execution_count": 14,
   "metadata": {},
   "outputs": [],
   "source": [
    "def readout(h, h2):\n",
    "  catted_reads = map(lambda x: torch.cat([h[x[0]], h2[x[1]]], 1), zip(h2.keys(), h.keys()))\n",
    "  activated_reads = map(lambda x: F.selu( R(x) ), catted_reads)\n",
    "  readout = Variable(torch.zeros(1, 128))\n",
    "  for read in activated_reads:\n",
    "    readout = readout + read\n",
    "  return F.tanh( readout )"
   ]
  },
  {
   "cell_type": "code",
   "execution_count": 15,
   "metadata": {},
   "outputs": [],
   "source": [
    "def message_pass(g, h, k):\n",
    "  for v in g.keys():\n",
    "    neighbors = g[v]\n",
    "    for neighbor in neighbors:\n",
    "      e_vw = neighbor[0] # feature variable\n",
    "      w = neighbor[1]\n",
    "      \n",
    "      m_w = V[k](h[w])\n",
    "      m_e_vw = E(e_vw)\n",
    "      reshaped = torch.cat( (h[v], m_w, m_e_vw), 1)\n",
    "      h[v] = F.selu(U[k](reshaped))"
   ]
  },
  {
   "cell_type": "code",
   "execution_count": 16,
   "metadata": {},
   "outputs": [],
   "source": [
    "def construct_multigraph(smile):\n",
    "  g = OrderedDict({})\n",
    "  h = OrderedDict({})\n",
    "\n",
    "  molecule = Chem.MolFromSmiles(smile)\n",
    "  for i in xrange(0, molecule.GetNumAtoms()):\n",
    "    atom_i = molecule.GetAtomWithIdx(i)\n",
    "    h[i] = Variable(torch.FloatTensor(dc.feat.graph_features.atom_features(atom_i))).view(1, 75)\n",
    "    for j in xrange(0, molecule.GetNumAtoms()):\n",
    "      e_ij = molecule.GetBondBetweenAtoms(i, j)\n",
    "      if e_ij != None:\n",
    "        e_ij =  map(lambda x: 1 if x == True else 0, dc.feat.graph_features.bond_features(e_ij)) # ADDED edge feat\n",
    "        e_ij = Variable(torch.FloatTensor(e_ij).view(1, 6))\n",
    "        atom_j = molecule.GetAtomWithIdx(j)\n",
    "        if i not in g:\n",
    "          g[i] = []\n",
    "        g[i].append( (e_ij, j) )\n",
    "\n",
    "  return g, h"
   ]
  },
  {
   "cell_type": "code",
   "execution_count": 18,
   "metadata": {},
   "outputs": [
    {
     "name": "stdout",
     "output_type": "stream",
     "text": [
      "About to generate scaffolds\n",
      "Generating scaffold 0/1614\n"
     ]
    },
    {
     "ename": "ValueError",
     "evalue": "No molecule provided",
     "output_type": "error",
     "traceback": [
      "\u001b[0;31m---------------------------------------------------------------------------\u001b[0m",
      "\u001b[0;31mValueError\u001b[0m                                Traceback (most recent call last)",
      "\u001b[0;32m<ipython-input-18-c02ea85634e7>\u001b[0m in \u001b[0;36m<module>\u001b[0;34m()\u001b[0m\n\u001b[0;32m----> 1\u001b[0;31m \u001b[0mtrain_smiles\u001b[0m\u001b[0;34m,\u001b[0m \u001b[0mtrain_labels\u001b[0m\u001b[0;34m,\u001b[0m \u001b[0mval_smiles\u001b[0m\u001b[0;34m,\u001b[0m \u001b[0mval_labels\u001b[0m \u001b[0;34m=\u001b[0m \u001b[0mload_dataset\u001b[0m\u001b[0;34m(\u001b[0m\u001b[0;34m)\u001b[0m\u001b[0;34m\u001b[0m\u001b[0m\n\u001b[0m",
      "\u001b[0;32m<ipython-input-13-a648e6b551d0>\u001b[0m in \u001b[0;36mload_dataset\u001b[0;34m()\u001b[0m\n\u001b[1;32m      1\u001b[0m \u001b[0;32mdef\u001b[0m \u001b[0mload_dataset\u001b[0m\u001b[0;34m(\u001b[0m\u001b[0;34m)\u001b[0m\u001b[0;34m:\u001b[0m\u001b[0;34m\u001b[0m\u001b[0m\n\u001b[0;32m----> 2\u001b[0;31m   \u001b[0mtrain_features\u001b[0m\u001b[0;34m,\u001b[0m \u001b[0mtrain_labels\u001b[0m\u001b[0;34m,\u001b[0m \u001b[0mval_features\u001b[0m\u001b[0;34m,\u001b[0m \u001b[0mval_labels\u001b[0m \u001b[0;34m=\u001b[0m \u001b[0mdonkey\u001b[0m\u001b[0;34m.\u001b[0m\u001b[0mload_dataset\u001b[0m\u001b[0;34m(\u001b[0m\u001b[0mDATASET\u001b[0m\u001b[0;34m)\u001b[0m\u001b[0;34m\u001b[0m\u001b[0m\n\u001b[0m\u001b[1;32m      3\u001b[0m \u001b[0;34m\u001b[0m\u001b[0m\n\u001b[1;32m      4\u001b[0m   \u001b[0mscaler\u001b[0m \u001b[0;34m=\u001b[0m \u001b[0mpreprocessing\u001b[0m\u001b[0;34m.\u001b[0m\u001b[0mStandardScaler\u001b[0m\u001b[0;34m(\u001b[0m\u001b[0;34m)\u001b[0m\u001b[0;34m.\u001b[0m\u001b[0mfit\u001b[0m\u001b[0;34m(\u001b[0m\u001b[0mtrain_labels\u001b[0m\u001b[0;34m)\u001b[0m\u001b[0;34m\u001b[0m\u001b[0m\n\u001b[1;32m      5\u001b[0m   \u001b[0mtrain_labels\u001b[0m \u001b[0;34m=\u001b[0m \u001b[0mscaler\u001b[0m\u001b[0;34m.\u001b[0m\u001b[0mtransform\u001b[0m\u001b[0;34m(\u001b[0m\u001b[0mtrain_labels\u001b[0m\u001b[0;34m)\u001b[0m\u001b[0;34m\u001b[0m\u001b[0m\n",
      "\u001b[0;32m/mnt/c/Users/Sohom/Documents/senior_research/research_shared/mpnn/DeepChemMPNNTutorial/donkey.pyc\u001b[0m in \u001b[0;36mload_dataset\u001b[0;34m(filename, whiten)\u001b[0m\n\u001b[1;32m     92\u001b[0m   \u001b[0mlabels\u001b[0m \u001b[0;34m=\u001b[0m \u001b[0mnp\u001b[0m\u001b[0;34m.\u001b[0m\u001b[0marray\u001b[0m\u001b[0;34m(\u001b[0m\u001b[0mlabels\u001b[0m\u001b[0;34m,\u001b[0m \u001b[0mdtype\u001b[0m\u001b[0;34m=\u001b[0m\u001b[0;34m'float32'\u001b[0m\u001b[0;34m)\u001b[0m\u001b[0;34m.\u001b[0m\u001b[0mreshape\u001b[0m\u001b[0;34m(\u001b[0m\u001b[0;34m-\u001b[0m\u001b[0;36m1\u001b[0m\u001b[0;34m,\u001b[0m \u001b[0;36m1\u001b[0m\u001b[0;34m)\u001b[0m\u001b[0;34m\u001b[0m\u001b[0m\n\u001b[1;32m     93\u001b[0m \u001b[0;34m\u001b[0m\u001b[0m\n\u001b[0;32m---> 94\u001b[0;31m   \u001b[0mtrain_ind\u001b[0m\u001b[0;34m,\u001b[0m \u001b[0mval_ind\u001b[0m\u001b[0;34m,\u001b[0m \u001b[0mtest_ins\u001b[0m \u001b[0;34m=\u001b[0m \u001b[0msplit\u001b[0m\u001b[0;34m(\u001b[0m\u001b[0mfeatures\u001b[0m\u001b[0;34m)\u001b[0m\u001b[0;34m\u001b[0m\u001b[0m\n\u001b[0m\u001b[1;32m     95\u001b[0m \u001b[0;34m\u001b[0m\u001b[0m\n\u001b[1;32m     96\u001b[0m   \u001b[0mtrain_features\u001b[0m \u001b[0;34m=\u001b[0m \u001b[0mnp\u001b[0m\u001b[0;34m.\u001b[0m\u001b[0mtake\u001b[0m\u001b[0;34m(\u001b[0m\u001b[0mfeatures\u001b[0m\u001b[0;34m,\u001b[0m \u001b[0mtrain_ind\u001b[0m\u001b[0;34m)\u001b[0m\u001b[0;34m\u001b[0m\u001b[0m\n",
      "\u001b[0;32m/mnt/c/Users/Sohom/Documents/senior_research/research_shared/mpnn/DeepChemMPNNTutorial/donkey.pyc\u001b[0m in \u001b[0;36msplit\u001b[0;34m(dataset, frac_train, frac_valid, frac_test, log_every_n)\u001b[0m\n\u001b[1;32m     51\u001b[0m     \u001b[0;32mif\u001b[0m \u001b[0mind\u001b[0m \u001b[0;34m%\u001b[0m \u001b[0mlog_every_n\u001b[0m \u001b[0;34m==\u001b[0m \u001b[0;36m0\u001b[0m\u001b[0;34m:\u001b[0m\u001b[0;34m\u001b[0m\u001b[0m\n\u001b[1;32m     52\u001b[0m       \u001b[0mlog\u001b[0m\u001b[0;34m(\u001b[0m\u001b[0;34m\"Generating scaffold %d/%d\"\u001b[0m \u001b[0;34m%\u001b[0m \u001b[0;34m(\u001b[0m\u001b[0mind\u001b[0m\u001b[0;34m,\u001b[0m \u001b[0mdata_len\u001b[0m\u001b[0;34m)\u001b[0m\u001b[0;34m,\u001b[0m \u001b[0mTrue\u001b[0m\u001b[0;34m)\u001b[0m\u001b[0;34m\u001b[0m\u001b[0m\n\u001b[0;32m---> 53\u001b[0;31m     \u001b[0mscaffold\u001b[0m \u001b[0;34m=\u001b[0m \u001b[0mgenerate_scaffold\u001b[0m\u001b[0;34m(\u001b[0m\u001b[0msmiles\u001b[0m\u001b[0;34m)\u001b[0m\u001b[0;34m\u001b[0m\u001b[0m\n\u001b[0m\u001b[1;32m     54\u001b[0m     \u001b[0;32mif\u001b[0m \u001b[0mscaffold\u001b[0m \u001b[0;32mnot\u001b[0m \u001b[0;32min\u001b[0m \u001b[0mscaffolds\u001b[0m\u001b[0;34m:\u001b[0m\u001b[0;34m\u001b[0m\u001b[0m\n\u001b[1;32m     55\u001b[0m       \u001b[0mscaffolds\u001b[0m\u001b[0;34m[\u001b[0m\u001b[0mscaffold\u001b[0m\u001b[0;34m]\u001b[0m \u001b[0;34m=\u001b[0m \u001b[0;34m[\u001b[0m\u001b[0mind\u001b[0m\u001b[0;34m]\u001b[0m\u001b[0;34m\u001b[0m\u001b[0m\n",
      "\u001b[0;32m/mnt/c/Users/Sohom/Documents/senior_research/research_shared/mpnn/DeepChemMPNNTutorial/donkey.pyc\u001b[0m in \u001b[0;36mgenerate_scaffold\u001b[0;34m(smiles, include_chirality)\u001b[0m\n\u001b[1;32m     32\u001b[0m   \u001b[0mmol\u001b[0m \u001b[0;34m=\u001b[0m \u001b[0mChem\u001b[0m\u001b[0;34m.\u001b[0m\u001b[0mMolFromSmiles\u001b[0m\u001b[0;34m(\u001b[0m\u001b[0msmiles\u001b[0m\u001b[0;34m)\u001b[0m\u001b[0;34m\u001b[0m\u001b[0m\n\u001b[1;32m     33\u001b[0m   \u001b[0mengine\u001b[0m \u001b[0;34m=\u001b[0m \u001b[0mScaffoldGenerator\u001b[0m\u001b[0;34m(\u001b[0m\u001b[0minclude_chirality\u001b[0m\u001b[0;34m=\u001b[0m\u001b[0minclude_chirality\u001b[0m\u001b[0;34m)\u001b[0m\u001b[0;34m\u001b[0m\u001b[0m\n\u001b[0;32m---> 34\u001b[0;31m   \u001b[0mscaffold\u001b[0m \u001b[0;34m=\u001b[0m \u001b[0mengine\u001b[0m\u001b[0;34m.\u001b[0m\u001b[0mget_scaffold\u001b[0m\u001b[0;34m(\u001b[0m\u001b[0mmol\u001b[0m\u001b[0;34m)\u001b[0m\u001b[0;34m\u001b[0m\u001b[0m\n\u001b[0m\u001b[1;32m     35\u001b[0m   \u001b[0;32mreturn\u001b[0m \u001b[0mscaffold\u001b[0m\u001b[0;34m\u001b[0m\u001b[0m\n\u001b[1;32m     36\u001b[0m \u001b[0;34m\u001b[0m\u001b[0m\n",
      "\u001b[0;32m/home/sohompaul/psi4conda/envs/deepchempy2/lib/python2.7/site-packages/deepchem/utils/__init__.pyc\u001b[0m in \u001b[0;36mget_scaffold\u001b[0;34m(self, mol)\u001b[0m\n\u001b[1;32m    132\u001b[0m     \"\"\"\n\u001b[1;32m    133\u001b[0m     return MurckoScaffold.MurckoScaffoldSmiles(\n\u001b[0;32m--> 134\u001b[0;31m         mol=mol, includeChirality=self.include_chirality)\n\u001b[0m",
      "\u001b[0;32m/home/sohompaul/psi4conda/envs/deepchempy2/lib/python2.7/site-packages/rdkit/Chem/Scaffolds/MurckoScaffold.pyc\u001b[0m in \u001b[0;36mMurckoScaffoldSmiles\u001b[0;34m(smiles, mol, includeChirality)\u001b[0m\n\u001b[1;32m    106\u001b[0m     \u001b[0mmol\u001b[0m \u001b[0;34m=\u001b[0m \u001b[0mChem\u001b[0m\u001b[0;34m.\u001b[0m\u001b[0mMolFromSmiles\u001b[0m\u001b[0;34m(\u001b[0m\u001b[0msmiles\u001b[0m\u001b[0;34m)\u001b[0m\u001b[0;34m\u001b[0m\u001b[0m\n\u001b[1;32m    107\u001b[0m   \u001b[0;32mif\u001b[0m \u001b[0mmol\u001b[0m \u001b[0;32mis\u001b[0m \u001b[0mNone\u001b[0m\u001b[0;34m:\u001b[0m\u001b[0;34m\u001b[0m\u001b[0m\n\u001b[0;32m--> 108\u001b[0;31m     \u001b[0;32mraise\u001b[0m \u001b[0mValueError\u001b[0m\u001b[0;34m(\u001b[0m\u001b[0;34m'No molecule provided'\u001b[0m\u001b[0;34m)\u001b[0m\u001b[0;34m\u001b[0m\u001b[0m\n\u001b[0m\u001b[1;32m    109\u001b[0m   \u001b[0mscaffold\u001b[0m \u001b[0;34m=\u001b[0m \u001b[0mGetScaffoldForMol\u001b[0m\u001b[0;34m(\u001b[0m\u001b[0mmol\u001b[0m\u001b[0;34m)\u001b[0m\u001b[0;34m\u001b[0m\u001b[0m\n\u001b[1;32m    110\u001b[0m   \u001b[0;32mif\u001b[0m \u001b[0;32mnot\u001b[0m \u001b[0mscaffold\u001b[0m\u001b[0;34m:\u001b[0m\u001b[0;34m\u001b[0m\u001b[0m\n",
      "\u001b[0;31mValueError\u001b[0m: No molecule provided"
     ]
    }
   ],
   "source": [
    "train_smiles, train_labels, val_smiles, val_labels = load_dataset()"
   ]
  },
  {
   "cell_type": "code",
   "execution_count": null,
   "metadata": {},
   "outputs": [],
   "source": [
    "linear = nn.Linear(128, 1)\n",
    "params = [{'params': R.parameters()},\n",
    "         {'params': U[0].parameters()},\n",
    "         {'params': U[1].parameters()},\n",
    "         {'params': U[2].parameters()},\n",
    "         {'params': E.parameters()},\n",
    "         {'params': V[0].parameters()},\n",
    "         {'params': V[1].parameters()},\n",
    "         {'params': V[2].parameters()},\n",
    "         {'params': linear.parameters()}]"
   ]
  },
  {
   "cell_type": "code",
   "execution_count": null,
   "metadata": {},
   "outputs": [],
   "source": [
    "num_epoch = 0\n",
    "optimizer = optim.Adam(params, lr=LR, weight_decay=1e-4)\n",
    "for i in xrange(0, MAXITER):\n",
    "  optimizer.zero_grad()\n",
    "  train_loss = Variable(torch.zeros(1, 1))\n",
    "  y_hats_train = []\n",
    "  for j in xrange(0, BATCH_SIZE):\n",
    "    sample_index = random.randint(0, len(train_smiles) - 2)\n",
    "    smile = train_smiles[sample_index]\n",
    "    g, h = construct_multigraph(smile) # TODO: cache this\n",
    "\n",
    "    g2, h2 = construct_multigraph(smile)\n",
    "    \n",
    "    for k in xrange(0, T):\n",
    "      message_pass(g, h, k)\n",
    "\n",
    "    x = readout(h, h2)\n",
    "    #x = F.selu( fc(x) )\n",
    "    y_hat = linear(x)\n",
    "    y = train_labels[sample_index]\n",
    "\n",
    "    y_hats_train.append(y_hat)\n",
    "\n",
    "    error = (y_hat - y)*(y_hat - y) / Variable(torch.FloatTensor([BATCH_SIZE])).view(1, 1)\n",
    "    train_loss = train_loss + error\n",
    "\n",
    "  train_loss.backward()\n",
    "  optimizer.step()\n",
    "\n",
    "  if i % int(len(train_smiles) / BATCH_SIZE) == 0:\n",
    "    val_loss = Variable(torch.zeros(1, 1), requires_grad=False)\n",
    "    y_hats_val = []\n",
    "    for j in xrange(0, len(val_smiles)):\n",
    "      g, h = construct_multigraph(val_smiles[j])\n",
    "      g2, h2 = construct_multigraph(val_smiles[j])\n",
    "\n",
    "      for k in xrange(0, T):\n",
    "        message_pass(g, h, k)\n",
    "\n",
    "      x = readout(h, h2)\n",
    "      #x = F.selu( fc(x) )\n",
    "      y_hat = linear(x)\n",
    "      y = val_labels[j]\n",
    "\n",
    "      y_hats_val.append(y_hat)\n",
    "\n",
    "      error = (y_hat - y)*(y_hat - y) / Variable(torch.FloatTensor([len(val_smiles)])).view(1, 1)\n",
    "      val_loss = val_loss + error\n",
    "\n",
    "    y_hats_val = np.array(map(lambda x: x.data.numpy(), y_hats_val))\n",
    "    y_val = np.array(map(lambda x: x.data.numpy(), val_labels))\n",
    "    y_hats_val = y_hats_val.reshape(-1, 1)\n",
    "    y_val = y_val.reshape(-1, 1)\n",
    "    \n",
    "    r2_val_old = r2_score(y_val, y_hats_val)\n",
    "    r2_val_new = pearsonr(y_val, y_hats_val)[0]**2\n",
    "  \n",
    "    train_loss_ = train_loss.data.numpy()[0]\n",
    "    val_loss_ = val_loss.data.numpy()[0]\n",
    "    print 'epoch [%i/%i] train_loss [%f] val_loss [%f] r2_val_old [%.4f], r2_val_new [%.4f]' \\\n",
    "                  % (num_epoch, 100, train_loss_, val_loss_, r2_val_old, r2_val_new)\n",
    "    num_epoch += 1\n"
   ]
  }
 ],
 "metadata": {
  "anaconda-cloud": {},
  "kernelspec": {
   "display_name": "Python 2.7.17 64-bit ('deepchempy2': conda)",
   "language": "python",
   "name": "python271764bitdeepchempy2conda798ede0b2da849c2920070438cced349"
  },
  "language_info": {
   "codemirror_mode": {
    "name": "ipython",
    "version": 2
   },
   "file_extension": ".py",
   "mimetype": "text/x-python",
   "name": "python",
   "nbconvert_exporter": "python",
   "pygments_lexer": "ipython2",
   "version": "2.7.17"
  }
 },
 "nbformat": 4,
 "nbformat_minor": 1
}
