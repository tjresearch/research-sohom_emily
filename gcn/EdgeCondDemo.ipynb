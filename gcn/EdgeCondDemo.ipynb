{
 "cells": [
  {
   "cell_type": "code",
   "execution_count": 1,
   "metadata": {},
   "outputs": [
    {
     "name": "stderr",
     "output_type": "stream",
     "text": [
      "Using TensorFlow backend.\n",
      "/Users/em/anaconda3/envs/venv/lib/python3.7/importlib/_bootstrap.py:219: RuntimeWarning: compiletime version 3.6 of module 'tensorflow.python.framework.fast_tensor_util' does not match runtime version 3.7\n",
      "  return f(*args, **kwds)\n"
     ]
    }
   ],
   "source": [
    "import matplotlib.pyplot as plt\n",
    "import numpy as np\n",
    "from keras.callbacks import EarlyStopping\n",
    "from keras.layers import Input, Dense\n",
    "from keras.models import Model\n",
    "from keras.optimizers import Adam\n",
    "from sklearn.model_selection import train_test_split\n",
    "from sklearn.preprocessing import StandardScaler\n",
    "\n",
    "from spektral.datasets import qm9\n",
    "from spektral.layers import EdgeConditionedConv, GlobalAttentionPool\n",
    "from spektral.utils import label_to_one_hot\n",
    "\n",
    "import psi4\n",
    "from keras.models import load_model\n",
    "\n",
    "import time\n",
    "from os import path, getcwd"
   ]
  },
  {
   "cell_type": "code",
   "execution_count": 2,
   "metadata": {},
   "outputs": [
    {
     "name": "stdout",
     "output_type": "stream",
     "text": [
      "Loading QM9 dataset.\n",
      "Reading SDF\n"
     ]
    },
    {
     "name": "stderr",
     "output_type": "stream",
     "text": [
      "100%|██████████| 133885/133885 [00:33<00:00, 4053.43it/s]\n",
      "WARNING: Logging before flag parsing goes to stderr.\n",
      "W1219 11:06:01.995146 4632585664 deprecation_wrapper.py:119] From /Users/em/anaconda3/envs/venv/lib/python3.7/site-packages/keras/backend/tensorflow_backend.py:66: The name tf.get_default_graph is deprecated. Please use tf.compat.v1.get_default_graph instead.\n",
      "\n",
      "W1219 11:06:02.005418 4632585664 deprecation_wrapper.py:119] From /Users/em/anaconda3/envs/venv/lib/python3.7/site-packages/keras/backend/tensorflow_backend.py:541: The name tf.placeholder is deprecated. Please use tf.compat.v1.placeholder instead.\n",
      "\n"
     ]
    }
   ],
   "source": [
    "'''\n",
    "The following is setup code for the neural calculation\n",
    "as well as allowing for actual lookups to compare accuracies.\n",
    "'''\n",
    "\n",
    "A_complete, X_complete, E_complete, y_complete = qm9.load_data(return_type='numpy',\n",
    "                           nf_keys='atomic_num',\n",
    "                           ef_keys='type',\n",
    "                           self_loops=True,\n",
    "                           amount=None)  # Set to None to train on whole dataset\n",
    "# one-hot labeling of atoms\n",
    "uniq_X = np.unique(X_complete)\n",
    "X_complete = label_to_one_hot(X_complete, uniq_X)\n",
    "\n",
    "clusters = [['A', 'B', 'alpha'], \n",
    "               ['C', 'r2', 'u0'],\n",
    "               ['zpve', 'g298', 'cv'],\n",
    "               ['lumo', 'u298', 'h298'],\n",
    "               ['mu', 'homo']]\n",
    "\n",
    "N = X_complete.shape[-2]           # Number of nodes in the graphs\n",
    "F = X_complete.shape[-1]           # Node features dimensionality\n",
    "S = E_complete.shape[-1]           # Edge features dimensionality\n",
    "\n",
    "X_in = Input(shape=(N, F))\n",
    "A_in = Input(shape=(N, N))\n",
    "E_in = Input(shape=(N, N, S))"
   ]
  },
  {
   "cell_type": "code",
   "execution_count": 3,
   "metadata": {},
   "outputs": [],
   "source": [
    "def get_molecule_from_file(filenum):\n",
    "    # Assumes dataset is in sibling directory\n",
    "    f = open(\"/Users/em/2019-2020/Syslab/dsgdb9nsd.xyz/dsgdb9nsd_\" + str(filenum).zfill(6) + \".xyz\", \"r\")\n",
    "    lines = f.readlines()\n",
    "    f.close()\n",
    "    num_atoms = int(lines[0])\n",
    "    atom_list = lines[2:2+num_atoms]\n",
    "    for i in range(len(atom_list)):\n",
    "        atom_list[i] = atom_list[i][:atom_list[i].rfind(\"\\t\")] + \"\\n\"\n",
    "    return psi4.geometry(\"\".join(atom_list))"
   ]
  },
  {
   "cell_type": "code",
   "execution_count": 4,
   "metadata": {},
   "outputs": [],
   "source": [
    "def create_edge_cond_model():\n",
    "    gc1 = EdgeConditionedConv(64, activation='relu')([X_in, A_in, E_in])\n",
    "    gc2 = EdgeConditionedConv(128, activation='relu')([gc1, A_in, E_in])\n",
    "    pool = GlobalAttentionPool(256)(gc2)\n",
    "    dense1 = Dense(256, activation='relu')(pool)\n",
    "    output = Dense(1)(dense1)\n",
    "    return Model(inputs=[X_in, A_in, E_in], outputs=output)"
   ]
  },
  {
   "cell_type": "code",
   "execution_count": 5,
   "metadata": {},
   "outputs": [],
   "source": [
    "def generate_filename(task):\n",
    "    return path.join('gcnmodels', task + '.h5')"
   ]
  },
  {
   "cell_type": "code",
   "execution_count": 6,
   "metadata": {},
   "outputs": [],
   "source": [
    "def generate_model_helper_filename(task):\n",
    "    return path.join('demo_models', task + '.txt')"
   ]
  },
  {
   "cell_type": "code",
   "execution_count": 7,
   "metadata": {},
   "outputs": [],
   "source": [
    "def predict_property_neural(prop=None, mol_id=-1):\n",
    "    if mol_id == -1:\n",
    "        raise ValueError(\"ID must be between 1 and 133885\")\n",
    "    if prop == 'gap':\n",
    "        lumo = predict_property_neural(prop='lumo', mol_id=mol_id)\n",
    "        homo = predict_property_neural(prop='homo', mol_id=mol_id)\n",
    "        return lumo - homo\n",
    "    else:\n",
    "        model = create_edge_cond_model()\n",
    "        model.load_weights(generate_filename(prop))\n",
    "        model.compile(optimizer='adam', loss='mse')\n",
    "        predictions = model.predict([[X_complete[mol_id-1]], [A_complete[mol_id-1]], [E_complete[mol_id-1]]])\n",
    "        mean, std = 0, 1\n",
    "        with open(generate_model_helper_filename(prop), 'r') as f:\n",
    "            lines = f.readlines()\n",
    "            mean = float(lines[0].strip())\n",
    "            std = float(lines[1].strip())\n",
    "        prediction = mean + std * predictions\n",
    "        return prediction[0][0]\n",
    "    raise ValueError(\"Property was not found\")"
   ]
  },
  {
   "cell_type": "code",
   "execution_count": 8,
   "metadata": {},
   "outputs": [],
   "source": [
    "def generate_dft_output_file_path(filenum):\n",
    "    return path.join('psi4_output', 'output_'+str(filenum)+'.dat')"
   ]
  },
  {
   "cell_type": "code",
   "execution_count": 9,
   "metadata": {},
   "outputs": [],
   "source": [
    "def process_molecule(filenum, thermochemical=False):\n",
    "    psi4.core.set_output_file(generate_dft_output_file_path(filenum), False)\n",
    "    psi4.set_memory('2 GB')\n",
    "    molecule = get_molecule_from_file(filenum)\n",
    "    if thermochemical:\n",
    "        e, wfn = psi4.freq('b3lyp/cc-pvqz', molecule=molecule, return_wfn=True)\n",
    "    else:\n",
    "        e, wfn = psi4.energy('b3lyp/cc-pvqz', molecule=molecule, return_wfn=True)\n",
    "    return wfn"
   ]
  },
  {
   "cell_type": "code",
   "execution_count": 10,
   "metadata": {},
   "outputs": [],
   "source": [
    "def extract_rotational_constants(filenum, wfn):\n",
    "    f = open(generate_dft_output_file_path(filenum), 'r')\n",
    "    lines = f.readlines()\n",
    "    f.close()\n",
    "    for i in range(len(lines)-1, -1, -1):\n",
    "        if lines[i].find('Rotational constants:') > -1 and lines[i].find('[MHz]') > -1:\n",
    "            words = lines[i].split()\n",
    "            rot_constants = []\n",
    "            for const in [words[4], words[7], words[10]]:     \n",
    "                if const.isnumeric():\n",
    "                    rot_constants.append(float(const)/1000)\n",
    "                else:\n",
    "                    rot_constants.append(0)\n",
    "            return rot_constants\n",
    "    return None, None, None"
   ]
  },
  {
   "cell_type": "code",
   "execution_count": 11,
   "metadata": {},
   "outputs": [],
   "source": [
    "def extract_dipole_moment(filenum, wfn):\n",
    "    f = open(generate_dft_output_file_path(filenum), 'r')\n",
    "    lines = f.readlines()\n",
    "    f.close()\n",
    "    for i in range(len(lines)-1, -1, -1):\n",
    "        if lines[i].find(\"Dipole Moment: [D]\") > -1:\n",
    "            return lines[i+1][lines[i+1].find(\"Total:\") + 6:]"
   ]
  },
  {
   "cell_type": "code",
   "execution_count": 12,
   "metadata": {},
   "outputs": [],
   "source": [
    "def extract_homo_lumo(filenum, wfn):\n",
    "    homo = wfn.epsilon_a_subset(\"AO\", \"ALL\").get(wfn.nalpha())\n",
    "    lumo = wfn.epsilon_a_subset(\"AO\", \"ALL\").get(wfn.nalpha() + 1)\n",
    "    return homo, lumo"
   ]
  },
  {
   "cell_type": "code",
   "execution_count": 13,
   "metadata": {},
   "outputs": [],
   "source": [
    "def extract_gap(filenum, wfn):\n",
    "    homo, lumo = extract_homo_lumo_gap(fileum, wfn)\n",
    "    return lumo - homo"
   ]
  },
  {
   "cell_type": "code",
   "execution_count": 14,
   "metadata": {},
   "outputs": [],
   "source": [
    "def extract_zpve(filenum, wfn):\n",
    "    f = open(generate_dft_output_file_path(filenum), 'r')\n",
    "    lines = f.readlines()\n",
    "    f.close()\n",
    "    for i in range(len(lines)-1, -1, -1):\n",
    "        if lines[i].find(\"Total ZPE, Electronic energy at 0 [K]\") > -1:\n",
    "            words = lines[i].split()\n",
    "            return words[-2]"
   ]
  },
  {
   "cell_type": "code",
   "execution_count": 15,
   "metadata": {},
   "outputs": [],
   "source": [
    "def extract_zero_point_internal_energy(filenum, wfn):\n",
    "    f = open(generate_dft_output_file_path(filenum), 'r')\n",
    "    lines = f.readlines()\n",
    "    f.close()\n",
    "    for i in range(len(lines)-1, -1, -1):\n",
    "        if lines[i].find(\"Total E0, Electronic energy\") > -1:\n",
    "            words = lines[i].split()\n",
    "            return words[-2]"
   ]
  },
  {
   "cell_type": "code",
   "execution_count": 16,
   "metadata": {},
   "outputs": [],
   "source": [
    "def extract_internal_energy(filenum, wfn):\n",
    "    f = open(generate_dft_output_file_path(filenum), 'r')\n",
    "    lines = f.readlines()\n",
    "    f.close()\n",
    "    for i in range(len(lines)-1, -1, -1):\n",
    "        if lines[i].find(\"Total E, Electronic energy at  298.15 [K]\") > -1:\n",
    "            words = lines[i].split()\n",
    "            return words[-2]"
   ]
  },
  {
   "cell_type": "code",
   "execution_count": 17,
   "metadata": {},
   "outputs": [],
   "source": [
    "def extract_enthalpy(filenum, wfn):\n",
    "    f = open(generate_dft_output_file_path(filenum), 'r')\n",
    "    lines = f.readlines()\n",
    "    f.close()\n",
    "    for i in range(len(lines)-1, -1, -1):\n",
    "        if lines[i].find(\"Total H, Enthalpy at  298.15 [K]\") > -1:\n",
    "            words = lines[i].split()\n",
    "            return words[-2]"
   ]
  },
  {
   "cell_type": "code",
   "execution_count": 18,
   "metadata": {},
   "outputs": [],
   "source": [
    "def extract_gibbs_free_energy(filenum, wfn):\n",
    "    f = open(generate_dft_output_file_path(filenum), 'r')\n",
    "    lines = f.readlines()\n",
    "    f.close()\n",
    "    for i in range(len(lines)-1, -1, -1):\n",
    "        if lines[i].find(\"Total G,\") > -1:\n",
    "            words = lines[i].split()\n",
    "            return words[-2]"
   ]
  },
  {
   "cell_type": "code",
   "execution_count": 19,
   "metadata": {},
   "outputs": [],
   "source": [
    "def extract_cv(filenum, wfn):\n",
    "    f = open(generate_dft_output_file_path(filenum), 'r')\n",
    "    lines = f.readlines()\n",
    "    f.close()\n",
    "    for i in range(len(lines)-1, -1, -1):\n",
    "        if lines[i].find('Total Cv') > -1:\n",
    "            words = lines[i].split()\n",
    "            return words[2]"
   ]
  },
  {
   "cell_type": "code",
   "execution_count": 20,
   "metadata": {},
   "outputs": [],
   "source": [
    "def batch_process(start_num, end_num, thermochemical=False):\n",
    "    f = open(\"output.csv\", \"w\")\n",
    "    output_header = \"Index,A,B,C,Dipole,HOMO,LUMO\"\n",
    "    if thermochemical:\n",
    "        output_header += \",zpve,H 298.15,G 298.15\"\n",
    "    output_header += \"\\n\"\n",
    "    f.write(output_header)\n",
    "    for filenum in range(start_num, end_num+1):\n",
    "        wfn = process_molecule(filenum, thermochemical=thermochemical)\n",
    "        a, b, c = extract_rotational_constants(filenum, wfn)\n",
    "        dipole = extract_dipole_moment(filenum, wfn)\n",
    "        homo, lumo = extract_homo_lumo(filenum, wfn)\n",
    "        output = str(filenum) + \",\" + str(a) + \",\" + str(b) + \",\" + str(c) + \",\" + str(dipole) + \",\" + str(homo) + \",\" + str(lumo)\n",
    "        if thermochemical:\n",
    "            zpve = extract_zpve(filenum, wfn)\n",
    "            enthalpy = extract_enthalpy(filenum, wfn)\n",
    "            gibbs_free_energy = extract_gibbs_free_energy(filenum, wfn)\n",
    "            output += \",\" + str(zpve) + \",\" + str(enthalpy) + \",\" + str(gibbs_free_energy)\n",
    "        output += \"\\n\" \n",
    "        f.write(output)\n",
    "    f.close()"
   ]
  },
  {
   "cell_type": "code",
   "execution_count": 21,
   "metadata": {},
   "outputs": [],
   "source": [
    "def predict_all_properties_dft(filenum=-1, thermochemical=False):\n",
    "    if filenum == -1:\n",
    "        raise ValueError(\"Filenum must be between 1 and 133885\")\n",
    "    wfn = process_molecule(filenum, thermochemical=thermochemical)\n",
    "    a, b, c = extract_rotational_constants(filenum, wfn)\n",
    "    dipole = extract_dipole_moment(filenum, wfn)\n",
    "    homo, lumo = extract_homo_lumo(filenum, wfn)\n",
    "    ret_dict = dict()\n",
    "    ret_dict['A'] = a\n",
    "    ret_dict['B'] = b\n",
    "    ret_dict['C'] = c\n",
    "    ret_dict['mu'] = dipole\n",
    "    ret_dict['homo'] = homo\n",
    "    ret_dict['lumo'] = lumo\n",
    "    ret_dict['gap'] = lumo-homo\n",
    "    if thermochemical:\n",
    "        zpve = extract_zpve(filenum, wfn)\n",
    "        internal_energy = extract_internal_energy(filenum, wfn)\n",
    "        u0 = extract_zero_point_internal_energy(filenum, wfn)\n",
    "        enthalpy = extract_enthalpy(filenum, wfn)\n",
    "        gibbs_free_energy = extract_gibbs_free_energy(filenum, wfn)\n",
    "        cv = extract_cv(filenum, wfn)\n",
    "        ret_dict['zpve'] = zpve\n",
    "        ret_dict['u0'] = u0\n",
    "        ret_dict['u298'] = internal_energy\n",
    "        ret_dict['h298'] = enthalpy\n",
    "        ret_dict['g298'] = gibbs_free_energy\n",
    "        ret_dict['cv'] = cv\n",
    "    return ret_dict"
   ]
  },
  {
   "cell_type": "code",
   "execution_count": 22,
   "metadata": {},
   "outputs": [],
   "source": [
    "def lookup_property(prop=None, mol_id=-1):\n",
    "    return y_complete.loc[mol_id-1, prop]"
   ]
  },
  {
   "cell_type": "code",
   "execution_count": 23,
   "metadata": {},
   "outputs": [],
   "source": [
    "def prompt_user_for_calculation():\n",
    "    while True:\n",
    "        print()\n",
    "        num = -1\n",
    "        while num < 1 or num > 133885:\n",
    "            try:\n",
    "                num = int(input('Choose a molecule index (1-133885): '))\n",
    "            except ValueException:\n",
    "                print(\"Please provide a valid number\")\n",
    "                num = -1\n",
    "            \n",
    "        properties = ['A', 'B', 'C', 'mu', 'homo', 'lumo', 'gap', 'zpve', 'u0', 'u298', 'h298', 'g298', 'cv']\n",
    "        prop = None\n",
    "        while prop not in properties:\n",
    "            print(\"Choose an available property from the following:\")\n",
    "            print(\"A, B, C, mu, homo, lumo, gap, zpve, u0, u298, h298, g298, cv\")\n",
    "            prop = input('Choose a property: ')\n",
    "        \n",
    "        dft = None\n",
    "        while dft not in ['0', '1']:\n",
    "            print(\"Choose whether to use DFT or neural methods\")\n",
    "            print(\"0 for neural methods, 1 for DFT\")\n",
    "            dft = input('Calculation type: ')\n",
    "        \n",
    "        if dft == '1':\n",
    "            print('Beginning DFT calculation')\n",
    "            start = time.time()\n",
    "            thermochemical = prop in properties[7:]\n",
    "            ret_dict = predict_all_properties_dft(num, thermochemical=thermochemical)\n",
    "            print(ret_dict[prop])\n",
    "            end = time.time()\n",
    "            print('DFT calculation took', end-start, 'ms')\n",
    "        else:\n",
    "            print('Beginning neural calculation:')\n",
    "            start = time.time()\n",
    "            print(predict_property_neural(prop=prop, mol_id=num))\n",
    "            end = time.time()\n",
    "            print('Neural method took', end-start, 'ms')\n",
    "        print('Actual data:')\n",
    "        print(lookup_property(prop=prop, mol_id=num))"
   ]
  },
  {
   "cell_type": "code",
   "execution_count": null,
   "metadata": {},
   "outputs": [
    {
     "name": "stdout",
     "output_type": "stream",
     "text": [
      "\n",
      "Choose a molecule index (1-133885): 5\n",
      "Choose an available property from the following:\n",
      "A, B, C, mu, homo, lumo, gap, zpve, u0, u298, h298, g298, cv\n",
      "Choose a property: mu\n",
      "Choose whether to use DFT or neural methods\n",
      "0 for neural methods, 1 for DFT\n",
      "Calculation type: 0\n",
      "Beginning neural calculation:\n",
      "3.2109127\n",
      "Neural method took 0.36008286476135254 ms\n",
      "Actual data:\n",
      "2.8937\n",
      "\n",
      "Choose a molecule index (1-133885): 5\n",
      "Choose an available property from the following:\n",
      "A, B, C, mu, homo, lumo, gap, zpve, u0, u298, h298, g298, cv\n",
      "Choose a property: mu\n",
      "Choose whether to use DFT or neural methods\n",
      "0 for neural methods, 1 for DFT\n",
      "Calculation type: 1\n",
      "Beginning DFT calculation\n",
      "     3.0189\n",
      "\n",
      "DFT calculation took 2.9835851192474365 ms\n",
      "Actual data:\n",
      "2.8937\n",
      "\n",
      "Choose a molecule index (1-133885): 56443\n",
      "Choose an available property from the following:\n",
      "A, B, C, mu, homo, lumo, gap, zpve, u0, u298, h298, g298, cv\n",
      "Choose a property: mu\n",
      "Choose whether to use DFT or neural methods\n",
      "0 for neural methods, 1 for DFT\n",
      "Calculation type: 0\n",
      "Beginning neural calculation:\n",
      "3.5607023\n",
      "Neural method took 0.46315908432006836 ms\n",
      "Actual data:\n",
      "2.5125\n",
      "\n"
     ]
    }
   ],
   "source": [
    "prompt_user_for_calculation()"
   ]
  },
  {
   "cell_type": "code",
   "execution_count": null,
   "metadata": {},
   "outputs": [],
   "source": []
  }
 ],
 "metadata": {
  "kernelspec": {
   "display_name": "Python 3",
   "language": "python",
   "name": "python3"
  },
  "language_info": {
   "codemirror_mode": {
    "name": "ipython",
    "version": 3
   },
   "file_extension": ".py",
   "mimetype": "text/x-python",
   "name": "python",
   "nbconvert_exporter": "python",
   "pygments_lexer": "ipython3",
   "version": "3.7.4"
  }
 },
 "nbformat": 4,
 "nbformat_minor": 2
}
