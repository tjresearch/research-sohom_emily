{
 "cells": [
  {
   "cell_type": "code",
   "execution_count": 3,
   "metadata": {},
   "outputs": [],
   "source": [
    "import numpy as np\n",
    "import tensorflow as tf\n",
    "from scipy.linalg.interpolative import svd"
   ]
  },
  {
   "cell_type": "code",
   "execution_count": 4,
   "metadata": {},
   "outputs": [],
   "source": [
    "def my_svd(A, eps_or_k=0.01):\n",
    "    if A.dtype != np.float64:\n",
    "        A = A.astype(np.float64)\n",
    "    U, S, V = svd(A, eps_or_k, rand=False)\n",
    "\n",
    "    return U, S, V.T"
   ]
  },
  {
   "cell_type": "code",
   "execution_count": 5,
   "metadata": {},
   "outputs": [],
   "source": [
    "def t_unfold(A, k):\n",
    "    A = np.transpose(A, np.hstack([k, np.delete(np.arange(A.ndim), k)]))\n",
    "    A = np.reshape(A, [A.shape[0], np.prod(A.shape[1:])])\n",
    "\n",
    "    return A"
   ]
  },
  {
   "cell_type": "code",
   "execution_count": 6,
   "metadata": {},
   "outputs": [],
   "source": [
    "def t_dot(A, B, axes=(-1, 0)):\n",
    "    return np.tensordot(A, B, axes)"
   ]
  },
  {
   "cell_type": "code",
   "execution_count": 7,
   "metadata": {},
   "outputs": [],
   "source": [
    "def tt_dcmp(A, eps_or_k=0.01):\n",
    "    d = A.ndim\n",
    "    n = A.shape\n",
    "\n",
    "    max_rank = [min(np.prod(n[:i + 1]), np.prod(n[i + 1:])) for i in range(d - 1)]\n",
    "\n",
    "    if np.any(np.array(eps_or_k) > np.array(max_rank)):\n",
    "        raise ValueError('the rank is up to %s' % str(max_rank))\n",
    "\n",
    "    if not isinstance(eps_or_k, list):\n",
    "        eps_or_k = [eps_or_k] * (d - 1)\n",
    "\n",
    "    r = [1] * (d + 1)\n",
    "\n",
    "    TT = []\n",
    "    C = A.copy()\n",
    "\n",
    "    for k in range(d - 1):\n",
    "        C = C.reshape((r[k] * n[k], C.size / (r[k] * n[k])))\n",
    "        (U, S, V) = my_svd(C, eps_or_k[k])\n",
    "        r[k + 1] = U.shape[1]\n",
    "        TT.append(U[:, :r[k + 1]].reshape((r[k], n[k], r[k + 1])))\n",
    "        C = np.dot(np.diag(S[:r[k + 1]]), V[:r[k + 1], :])\n",
    "    TT.append(C.reshape(r[k + 1], n[k + 1], 1))\n",
    "\n",
    "    return TT"
   ]
  },
  {
   "cell_type": "code",
   "execution_count": 8,
   "metadata": {},
   "outputs": [],
   "source": [
    "def tucker_dcmp(A, eps_or_k=0.01):\n",
    "    d = A.ndim\n",
    "    n = A.shape\n",
    "\n",
    "    max_rank = list(n)\n",
    "\n",
    "    if np.any(np.array(eps_or_k) > np.array(max_rank)):\n",
    "        raise ValueError('the rank is up to %s' % str(max_rank))\n",
    "\n",
    "    if not isinstance(eps_or_k, list):\n",
    "        eps_or_k = [eps_or_k] * d\n",
    "\n",
    "    U = [my_svd(t_unfold(A, k), eps_or_k[k])[0] for k in range(d)]\n",
    "    S = A\n",
    "    for i in range(d):\n",
    "        S = t_dot(S, U[i], (0, 0))\n",
    "\n",
    "    return U, S"
   ]
  },
  {
   "cell_type": "code",
   "execution_count": 9,
   "metadata": {},
   "outputs": [],
   "source": [
    "def tt_cnst(A):\n",
    "    S = A[0]\n",
    "    for i in range(len(A) - 1):\n",
    "        S = t_dot(S, A[i + 1])\n",
    "\n",
    "    return np.squeeze(S, axis=(0, -1))"
   ]
  },
  {
   "cell_type": "code",
   "execution_count": 10,
   "metadata": {},
   "outputs": [],
   "source": [
    "def tucker_cnst(U, S):\n",
    "    for i in range(len(U)):\n",
    "        S = t_dot(S, U[i], (0, 1))\n",
    "\n",
    "    return S"
   ]
  },
  {
   "cell_type": "code",
   "execution_count": 11,
   "metadata": {},
   "outputs": [],
   "source": [
    "def TensorUnfold(A, k):\n",
    "    tmp_arr = np.arange(A.get_shape().ndims)\n",
    "    A = tf.transpose(A, [tmp_arr[k]] + np.delete(tmp_arr, k).tolist())\n",
    "    shapeA = A.get_shape().as_list()\n",
    "    A = tf.reshape(A, [shapeA[0], np.prod(shapeA[1:])])\n",
    "\n",
    "    return A"
   ]
  },
  {
   "cell_type": "code",
   "execution_count": 12,
   "metadata": {},
   "outputs": [],
   "source": [
    "def TensorProduct(A, B, axes=(-1, 0)):\n",
    "    shapeA = A.get_shape().as_list()\n",
    "    shapeB = B.get_shape().as_list()\n",
    "    shapeR = np.delete(shapeA, axes[0]).tolist() + np.delete(shapeB, axes[1]).tolist()\n",
    "    result = tf.matmul(tf.transpose(TensorUnfold(A, axes[0])), TensorUnfold(B, axes[1]))\n",
    "\n",
    "    return tf.reshape(result, shapeR)"
   ]
  },
  {
   "cell_type": "code",
   "execution_count": 13,
   "metadata": {},
   "outputs": [],
   "source": [
    "def TTTensorProducer(A):\n",
    "    S = A[0]\n",
    "    for i in range(len(A) - 1):\n",
    "        S = TensorProduct(S, A[i + 1])\n",
    "\n",
    "    return tf.squeeze(S, squeeze_dims=[0, -1])"
   ]
  },
  {
   "cell_type": "code",
   "execution_count": 14,
   "metadata": {},
   "outputs": [],
   "source": [
    "def TuckerTensorProducer(U, S):\n",
    "    for i in range(len(U)):\n",
    "        S = TensorProduct(S, U[i], (0, 1))\n",
    "\n",
    "    return S"
   ]
  },
  {
   "cell_type": "code",
   "execution_count": 15,
   "metadata": {},
   "outputs": [],
   "source": [
    "def TensorProducer(X, method, eps_or_k=0.01, datatype=np.float32, return_true_var=False):\n",
    "    if method == 'Tucker':\n",
    "        U, S = tucker_dcmp(X, eps_or_k)\n",
    "        U = [tf.Variable(i.astype(datatype)) for i in U]\n",
    "        S = tf.Variable(S.astype(datatype))\n",
    "        W = TuckerTensorProducer(U, S)\n",
    "        param_dict = {'U': U, 'S': S}\n",
    "    elif method == 'TT':\n",
    "        A = tt_dcmp(X, eps_or_k)\n",
    "        A = [tf.Variable(i.astype(datatype)) for i in A]\n",
    "        W = TTTensorProducer(A)\n",
    "        param_dict = {'U': A}\n",
    "    elif method == 'LAF':\n",
    "        U, S, V = my_svd(np.transpose(t_unfold(X, -1)), eps_or_k)\n",
    "        U = tf.Variable(U.astype(datatype))\n",
    "        V = tf.Variable(np.dot(np.diag(S), V).astype(datatype))\n",
    "        W = tf.reshape(tf.matmul(U, V), X.shape)\n",
    "        param_dict = {'U': U, 'V': V}\n",
    "    if return_true_var:\n",
    "        return W, param_dict\n",
    "    else:\n",
    "        return W"
   ]
  },
  {
   "cell_type": "code",
   "execution_count": 18,
   "metadata": {},
   "outputs": [],
   "source": [
    "T = 3 # number of tasks, len(O)\n",
    "O = [3, 2, 5] # number of outputs for each task\n",
    "N = 100 # number of training sample\n",
    "D = 20 # dimension of feature vector, assumed to be the same for all tasks"
   ]
  },
  {
   "cell_type": "code",
   "execution_count": 19,
   "metadata": {},
   "outputs": [],
   "source": [
    "X = [np.random.randn(N, D) for _ in range(T)]\n",
    "Y = [x.dot(np.random.randn(D, o)) for x,o in zip(X, O)]"
   ]
  },
  {
   "cell_type": "markdown",
   "metadata": {},
   "source": [
    "**Training regression for each tasks independently**"
   ]
  },
  {
   "cell_type": "code",
   "execution_count": 20,
   "metadata": {},
   "outputs": [],
   "source": [
    "sess = tf.InteractiveSession()"
   ]
  },
  {
   "cell_type": "code",
   "execution_count": 21,
   "metadata": {},
   "outputs": [],
   "source": [
    "# 3 layer network\n",
    "# hidden layer has 10 neurons\n",
    "H = 10\n",
    "W_input_to_hidden = [tf.Variable(tf.truncated_normal(shape=[D, H])) for _ in range(T)]\n",
    "b_input_to_hidden = [tf.Variable(tf.zeros(shape=[H])) for _ in range(T)]\n",
    "W_hidden_to_output = [tf.Variable(tf.truncated_normal(shape=[H, o])) for o in O]\n",
    "b_hidden_to_output = [tf.Variable(tf.zeros(shape=[o])) for o in O]"
   ]
  },
  {
   "cell_type": "code",
   "execution_count": 22,
   "metadata": {},
   "outputs": [],
   "source": [
    "X_placeholder = [tf.placeholder(tf.float32, shape=[None, D]) for _ in range(T)]\n",
    "Y_placeholder = [tf.placeholder(tf.float32, shape=[None, o]) for o in O]"
   ]
  },
  {
   "cell_type": "code",
   "execution_count": 23,
   "metadata": {},
   "outputs": [],
   "source": [
    "Y_hat = [tf.nn.xw_plus_b(tf.nn.sigmoid(tf.nn.xw_plus_b(x,w0,b0)),w1,b1) \n",
    "         for x,w0,b0,w1,b1 in zip(X_placeholder, W_input_to_hidden, b_input_to_hidden, W_hidden_to_output, b_hidden_to_output)]"
   ]
  },
  {
   "cell_type": "code",
   "execution_count": 25,
   "metadata": {},
   "outputs": [],
   "source": [
    "MSE = [tf.reduce_mean(tf.squared_difference(y,y_hat)) for y,y_hat in zip(Y_placeholder,Y_hat)]"
   ]
  },
  {
   "cell_type": "code",
   "execution_count": 27,
   "metadata": {},
   "outputs": [],
   "source": [
    "loss = tf.reduce_mean(MSE)"
   ]
  },
  {
   "cell_type": "code",
   "execution_count": 28,
   "metadata": {},
   "outputs": [],
   "source": [
    "opt = tf.train.AdamOptimizer(learning_rate=0.01)"
   ]
  },
  {
   "cell_type": "code",
   "execution_count": 29,
   "metadata": {},
   "outputs": [],
   "source": [
    "train = opt.minimize(loss)"
   ]
  },
  {
   "cell_type": "code",
   "execution_count": 30,
   "metadata": {},
   "outputs": [],
   "source": [
    "sess.run(tf.global_variables_initializer())"
   ]
  },
  {
   "cell_type": "code",
   "execution_count": 31,
   "metadata": {},
   "outputs": [],
   "source": [
    "feed_dict = dict(list(zip(X_placeholder,X))+list(zip(Y_placeholder,Y)))"
   ]
  },
  {
   "cell_type": "code",
   "execution_count": 32,
   "metadata": {},
   "outputs": [
    {
     "name": "stdout",
     "output_type": "stream",
     "text": [
      "23.779251\n",
      "7.4169793\n",
      "2.2905195\n",
      "1.0746982\n",
      "0.6570417\n",
      "0.45569625\n",
      "0.32902658\n",
      "0.24736142\n",
      "0.19520433\n",
      "0.15932886\n"
     ]
    }
   ],
   "source": [
    "for _ in range(1000):\n",
    "    train.run(feed_dict=feed_dict)\n",
    "    if _ % 100 == 0:\n",
    "        print(loss.eval(feed_dict=feed_dict))"
   ]
  },
  {
   "cell_type": "markdown",
   "metadata": {},
   "source": [
    "**'Shareable' layer is input-to-hidden layer.**"
   ]
  },
  {
   "cell_type": "code",
   "execution_count": 33,
   "metadata": {},
   "outputs": [],
   "source": [
    "# We can resue the parameters learned above for initialisation, though it is optional\n",
    "W_init = np.stack(sess.run(W_input_to_hidden))"
   ]
  },
  {
   "cell_type": "code",
   "execution_count": 34,
   "metadata": {},
   "outputs": [],
   "source": [
    "# We put the task-axis in the last position\n",
    "W_init = np.transpose(W_init, axes=[1,2,0])"
   ]
  },
  {
   "cell_type": "code",
   "execution_count": 35,
   "metadata": {},
   "outputs": [],
   "source": [
    "# The only thing that changes: we use \"TensorProducer\" to generate the trainable variables\n",
    "# TensorProducer has a few parameters:\n",
    "# The first one is the stacked parameters\n",
    "# The second one is factorisation method: 'LAF', 'Tucker', or 'TT'\n",
    "# 'eps_or_k' is the handpicked ranks or relative error\n",
    "# Read https://docs.scipy.org/doc/scipy/reference/generated/scipy.linalg.interpolative.svd.html for details\n",
    "# Set 'return_true_var' to be True if you want the factors (real parameters to learn); Default is False\n",
    "W_input_to_hidden, W_factors = TensorProducer(W_init, 'LAF', eps_or_k=0.1, return_true_var=True)\n",
    "W_input_to_hidden = [W_input_to_hidden[:,:,i] for i in range(T)]"
   ]
  },
  {
   "cell_type": "code",
   "execution_count": 36,
   "metadata": {},
   "outputs": [],
   "source": [
    "# Nothing changes for bias terms or unshared parameters\n",
    "b_input_to_hidden = [tf.Variable(tf.zeros(shape=[H])) for _ in range(T)]\n",
    "W_hidden_to_output = [tf.Variable(tf.truncated_normal(shape=[H, o])) for o in O]\n",
    "b_hidden_to_output = [tf.Variable(tf.zeros(shape=[o])) for o in O]"
   ]
  },
  {
   "cell_type": "code",
   "execution_count": 37,
   "metadata": {},
   "outputs": [],
   "source": [
    "\n",
    "# Build the network as usual\n",
    "X_placeholder = [tf.placeholder(tf.float32, shape=[None, D]) for _ in range(T)]\n",
    "Y_placeholder = [tf.placeholder(tf.float32, shape=[None, o]) for o in O]\n",
    "\n",
    "Y_hat = [tf.nn.xw_plus_b(tf.nn.sigmoid(tf.nn.xw_plus_b(x,w0,b0)),w1,b1) \n",
    "         for x,w0,b0,w1,b1 in zip(X_placeholder, W_input_to_hidden, b_input_to_hidden, W_hidden_to_output, b_hidden_to_output)]\n",
    "\n",
    "MSE = [tf.reduce_mean(tf.squared_difference(y,y_hat)) for y,y_hat in zip(Y_placeholder,Y_hat)]\n",
    "\n",
    "loss = tf.reduce_mean(MSE)\n",
    "\n",
    "opt = tf.train.AdamOptimizer(learning_rate=0.01)\n",
    "\n",
    "train = opt.minimize(loss)"
   ]
  },
  {
   "cell_type": "code",
   "execution_count": 41,
   "metadata": {},
   "outputs": [],
   "source": [
    "# Train the model as usual\n",
    "sess.run(tf.global_variables_initializer())"
   ]
  },
  {
   "cell_type": "code",
   "execution_count": 39,
   "metadata": {},
   "outputs": [],
   "source": [
    "feed_dict = dict(list(zip(X_placeholder,X))+list(zip(Y_placeholder,Y)))"
   ]
  },
  {
   "cell_type": "code",
   "execution_count": 40,
   "metadata": {},
   "outputs": [
    {
     "name": "stdout",
     "output_type": "stream",
     "text": [
      "19.385046\n",
      "2.932336\n",
      "1.3348275\n",
      "0.7552206\n",
      "0.50948447\n",
      "0.39846826\n",
      "0.32564265\n",
      "0.27077052\n",
      "0.2194042\n",
      "0.17648698\n"
     ]
    }
   ],
   "source": [
    "for _ in range(1000):\n",
    "    train.run(feed_dict=feed_dict)\n",
    "    if _ % 100 == 0:\n",
    "        print(loss.eval(feed_dict=feed_dict))"
   ]
  },
  {
   "cell_type": "code",
   "execution_count": null,
   "metadata": {},
   "outputs": [],
   "source": []
  }
 ],
 "metadata": {
  "kernelspec": {
   "display_name": "Python 3",
   "language": "python",
   "name": "python3"
  },
  "language_info": {
   "codemirror_mode": {
    "name": "ipython",
    "version": 3
   },
   "file_extension": ".py",
   "mimetype": "text/x-python",
   "name": "python",
   "nbconvert_exporter": "python",
   "pygments_lexer": "ipython3",
   "version": "3.6.8"
  }
 },
 "nbformat": 4,
 "nbformat_minor": 2
}
