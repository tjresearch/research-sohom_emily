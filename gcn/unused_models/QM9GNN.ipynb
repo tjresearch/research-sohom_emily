{
 "cells": [
  {
   "cell_type": "code",
   "execution_count": 1,
   "metadata": {},
   "outputs": [
    {
     "name": "stderr",
     "output_type": "stream",
     "text": [
      "Using TensorFlow backend.\n",
      "/Users/em/anaconda3/envs/venv/lib/python3.7/importlib/_bootstrap.py:219: RuntimeWarning: compiletime version 3.6 of module 'tensorflow.python.framework.fast_tensor_util' does not match runtime version 3.7\n",
      "  return f(*args, **kwds)\n"
     ]
    }
   ],
   "source": [
    "import keras.backend as K\n",
    "import numpy as np\n",
    "import tensorflow as tf\n",
    "from keras.layers import Input, Dense\n",
    "from keras.models import Model\n",
    "from keras.optimizers import Adam\n",
    "from sklearn.model_selection import train_test_split\n",
    "from sklearn.preprocessing import StandardScaler"
   ]
  },
  {
   "cell_type": "code",
   "execution_count": 2,
   "metadata": {},
   "outputs": [],
   "source": [
    "from spektral.datasets import qm9\n",
    "from spektral.layers import GraphConv, GlobalAvgPool\n",
    "from spektral.layers.ops import sp_matrix_to_sp_tensor_value\n",
    "from spektral.utils import Batch, batch_iterator\n",
    "from spektral.utils import label_to_one_hot"
   ]
  },
  {
   "cell_type": "code",
   "execution_count": 3,
   "metadata": {},
   "outputs": [
    {
     "data": {
      "text/plain": [
       "['type', 'stereo']"
      ]
     },
     "execution_count": 3,
     "metadata": {},
     "output_type": "execute_result"
    }
   ],
   "source": [
    "qm9.EDGE_FEATURES"
   ]
  },
  {
   "cell_type": "code",
   "execution_count": 4,
   "metadata": {},
   "outputs": [],
   "source": [
    "np.random.seed(0)\n",
    "SW_KEY = 'dense_2_sample_weights:0'  # Keras automatically creates a placeholder for sample weights, which must be fed"
   ]
  },
  {
   "cell_type": "code",
   "execution_count": 5,
   "metadata": {},
   "outputs": [
    {
     "name": "stdout",
     "output_type": "stream",
     "text": [
      "Loading QM9 dataset.\n",
      "Reading SDF\n"
     ]
    },
    {
     "name": "stderr",
     "output_type": "stream",
     "text": [
      "100%|██████████| 2000/2000 [00:00<00:00, 5462.48it/s]\n"
     ]
    }
   ],
   "source": [
    "# Load data\n",
    "A, X, _, y = qm9.load_data(return_type='numpy',\n",
    "                           nf_keys='atomic_num',\n",
    "                           ef_keys='type',\n",
    "                           self_loops=True,\n",
    "                           auto_pad=False,\n",
    "                           amount=2000)  # Set to None to train on whole dataset\n",
    "y = y[['cv']].values  # Heat capacity at 298.15K"
   ]
  },
  {
   "cell_type": "code",
   "execution_count": 6,
   "metadata": {},
   "outputs": [],
   "source": [
    "# Preprocessing\n",
    "uniq_X = np.unique([v for x in X for v in np.unique(x)])\n",
    "X = [label_to_one_hot(x, uniq_X) for x in X]\n",
    "y = StandardScaler().fit_transform(y).reshape(-1, y.shape[-1])"
   ]
  },
  {
   "cell_type": "code",
   "execution_count": 7,
   "metadata": {},
   "outputs": [],
   "source": [
    "# Parameters\n",
    "F = X[0].shape[-1]    # Dimension of node features\n",
    "n_out = y.shape[-1]   # Dimension of the target\n",
    "learning_rate = 1e-3  # Learning rate\n",
    "epochs = 25           # Number of training epochs\n",
    "batch_size = 128       # Batch size"
   ]
  },
  {
   "cell_type": "code",
   "execution_count": 8,
   "metadata": {},
   "outputs": [
    {
     "name": "stdout",
     "output_type": "stream",
     "text": [
      "4\n",
      "1\n"
     ]
    }
   ],
   "source": [
    "print(F)\n",
    "print(n_out)"
   ]
  },
  {
   "cell_type": "code",
   "execution_count": 9,
   "metadata": {},
   "outputs": [],
   "source": [
    "# Train/test split\n",
    "A_train, A_test, \\\n",
    "X_train, X_test, \\\n",
    "y_train, y_test = train_test_split(A, X, y, test_size=0.1)"
   ]
  },
  {
   "cell_type": "code",
   "execution_count": 10,
   "metadata": {},
   "outputs": [
    {
     "data": {
      "text/plain": [
       "(1800,)"
      ]
     },
     "execution_count": 10,
     "metadata": {},
     "output_type": "execute_result"
    }
   ],
   "source": [
    "A_train.shape"
   ]
  },
  {
   "cell_type": "code",
   "execution_count": 11,
   "metadata": {},
   "outputs": [
    {
     "data": {
      "text/plain": [
       "(200,)"
      ]
     },
     "execution_count": 11,
     "metadata": {},
     "output_type": "execute_result"
    }
   ],
   "source": [
    "A_test.shape"
   ]
  },
  {
   "cell_type": "code",
   "execution_count": 12,
   "metadata": {},
   "outputs": [
    {
     "data": {
      "text/plain": [
       "1800"
      ]
     },
     "execution_count": 12,
     "metadata": {},
     "output_type": "execute_result"
    }
   ],
   "source": [
    "len(X_train)"
   ]
  },
  {
   "cell_type": "code",
   "execution_count": 13,
   "metadata": {},
   "outputs": [
    {
     "data": {
      "text/plain": [
       "1800"
      ]
     },
     "execution_count": 13,
     "metadata": {},
     "output_type": "execute_result"
    }
   ],
   "source": [
    "len(y_train)"
   ]
  },
  {
   "cell_type": "code",
   "execution_count": 14,
   "metadata": {},
   "outputs": [
    {
     "name": "stderr",
     "output_type": "stream",
     "text": [
      "WARNING: Logging before flag parsing goes to stderr.\n",
      "W1007 23:34:50.975373 4617369024 deprecation_wrapper.py:119] From /Users/em/anaconda3/envs/venv/lib/python3.7/site-packages/keras/backend/tensorflow_backend.py:66: The name tf.get_default_graph is deprecated. Please use tf.compat.v1.get_default_graph instead.\n",
      "\n",
      "W1007 23:34:50.986185 4617369024 deprecation_wrapper.py:119] From /Users/em/anaconda3/envs/venv/lib/python3.7/site-packages/keras/backend/tensorflow_backend.py:541: The name tf.placeholder is deprecated. Please use tf.compat.v1.placeholder instead.\n",
      "\n",
      "W1007 23:34:50.988109 4617369024 deprecation_wrapper.py:119] From /Users/em/anaconda3/envs/venv/lib/python3.7/site-packages/keras/backend/tensorflow_backend.py:539: The name tf.sparse_placeholder is deprecated. Please use tf.compat.v1.sparse_placeholder instead.\n",
      "\n"
     ]
    }
   ],
   "source": [
    "# Model definition\n",
    "X_in = Input(batch_shape=(None, F))\n",
    "A_in = Input(batch_shape=(None, None), sparse=True)\n",
    "I_in = Input(batch_shape=(None, ), dtype='int64')\n",
    "target = Input(tensor=tf.placeholder(tf.float32, shape=(None, n_out), name='target'))"
   ]
  },
  {
   "cell_type": "code",
   "execution_count": 15,
   "metadata": {},
   "outputs": [
    {
     "name": "stderr",
     "output_type": "stream",
     "text": [
      "W1007 23:34:50.996334 4617369024 deprecation_wrapper.py:119] From /Users/em/anaconda3/envs/venv/lib/python3.7/site-packages/keras/backend/tensorflow_backend.py:4432: The name tf.random_uniform is deprecated. Please use tf.random.uniform instead.\n",
      "\n",
      "W1007 23:34:51.005481 4617369024 deprecation_wrapper.py:119] From /Users/em/anaconda3/envs/venv/lib/python3.7/site-packages/keras/backend/tensorflow_backend.py:1133: The name tf.sparse_tensor_dense_matmul is deprecated. Please use tf.sparse.sparse_dense_matmul instead.\n",
      "\n"
     ]
    }
   ],
   "source": [
    "gc1 = GraphConv(128, activation='relu')([X_in, A_in])\n",
    "gc2 = GraphConv(128, activation='relu')([gc1, A_in])\n",
    "pool = GlobalAvgPool()([gc2, I_in])\n",
    "dense1 = Dense(128, activation='relu')(pool)\n",
    "output = Dense(n_out)(dense1)"
   ]
  },
  {
   "cell_type": "code",
   "execution_count": 16,
   "metadata": {},
   "outputs": [
    {
     "name": "stderr",
     "output_type": "stream",
     "text": [
      "W1007 23:34:51.044615 4617369024 deprecation_wrapper.py:119] From /Users/em/anaconda3/envs/venv/lib/python3.7/site-packages/keras/optimizers.py:793: The name tf.train.Optimizer is deprecated. Please use tf.compat.v1.train.Optimizer instead.\n",
      "\n"
     ]
    },
    {
     "name": "stdout",
     "output_type": "stream",
     "text": [
      "Model: \"model_1\"\n",
      "__________________________________________________________________________________________________\n",
      "Layer (type)                    Output Shape         Param #     Connected to                     \n",
      "==================================================================================================\n",
      "input_1 (InputLayer)            (None, 4)            0                                            \n",
      "__________________________________________________________________________________________________\n",
      "input_2 (InputLayer)            (None, None)         0                                            \n",
      "__________________________________________________________________________________________________\n",
      "graph_conv_1 (GraphConv)        (None, 128)          640         input_1[0][0]                    \n",
      "                                                                 input_2[0][0]                    \n",
      "__________________________________________________________________________________________________\n",
      "graph_conv_2 (GraphConv)        (None, 128)          16512       graph_conv_1[0][0]               \n",
      "                                                                 input_2[0][0]                    \n",
      "__________________________________________________________________________________________________\n",
      "input_3 (InputLayer)            (None,)              0                                            \n",
      "__________________________________________________________________________________________________\n",
      "global_avg_pool_1 (GlobalAvgPoo (None, 128)          0           graph_conv_2[0][0]               \n",
      "                                                                 input_3[0][0]                    \n",
      "__________________________________________________________________________________________________\n",
      "dense_1 (Dense)                 (None, 128)          16512       global_avg_pool_1[0][0]          \n",
      "__________________________________________________________________________________________________\n",
      "dense_2 (Dense)                 (None, 1)            129         dense_1[0][0]                    \n",
      "==================================================================================================\n",
      "Total params: 33,793\n",
      "Trainable params: 33,793\n",
      "Non-trainable params: 0\n",
      "__________________________________________________________________________________________________\n"
     ]
    }
   ],
   "source": [
    "# Build model\n",
    "model = Model(inputs=[X_in, A_in, I_in], outputs=output)\n",
    "optimizer = Adam(lr=learning_rate)\n",
    "model.compile(optimizer=optimizer, loss='mse', target_tensors=target)\n",
    "model.summary()"
   ]
  },
  {
   "cell_type": "code",
   "execution_count": 17,
   "metadata": {},
   "outputs": [],
   "source": [
    "# Training setup\n",
    "sess = K.get_session()\n",
    "loss = model.total_loss\n",
    "opt = tf.train.AdamOptimizer(learning_rate=learning_rate)\n",
    "train_step = opt.minimize(loss)"
   ]
  },
  {
   "cell_type": "code",
   "execution_count": 18,
   "metadata": {},
   "outputs": [],
   "source": [
    "# Initialize all variables\n",
    "init_op = tf.global_variables_initializer()\n",
    "sess.run(init_op)"
   ]
  },
  {
   "cell_type": "code",
   "execution_count": 19,
   "metadata": {},
   "outputs": [],
   "source": [
    "batches_train = batch_iterator([A_train, X_train, y_train], batch_size=batch_size, epochs=epochs)\n",
    "model_loss = 0\n",
    "batch_index = 0\n",
    "batches_in_epoch = np.ceil(len(A_train) / batch_size)"
   ]
  },
  {
   "cell_type": "code",
   "execution_count": 20,
   "metadata": {},
   "outputs": [
    {
     "name": "stdout",
     "output_type": "stream",
     "text": [
      "Loss: 0.9131667256355286\n",
      "Loss: 0.8371170878410339\n",
      "Loss: 0.8244766672452291\n",
      "Loss: 0.8089590251445771\n",
      "Loss: 0.7913940072059631\n",
      "Loss: 0.8291654348373413\n",
      "Loss: 0.7925759275754293\n",
      "Loss: 0.7844207763671875\n",
      "Loss: 0.7973969737688701\n",
      "Loss: 0.8033288478851318\n",
      "Loss: 0.761223316192627\n",
      "Loss: 0.7833080410957336\n",
      "Loss: 0.8697772105534871\n",
      "Loss: 0.7430752694606781\n",
      "Loss: 0.758231536547343\n",
      "Loss: 0.7865867773691814\n",
      "Loss: 0.7563559055328369\n",
      "Loss: 0.7736682494481405\n",
      "Loss: 0.7291035215059917\n",
      "Loss: 0.729581892490387\n",
      "Loss: 0.731050948301951\n",
      "Loss: 0.7579889496167501\n",
      "Loss: 0.7058567722638448\n",
      "Loss: 0.6871962706247966\n",
      "Loss: 0.6932330509026845\n"
     ]
    }
   ],
   "source": [
    "# Training loop\n",
    "for b in batches_train:\n",
    "    batch = Batch(b[0], b[1])\n",
    "    X_, A_, I_ = batch.get('XAI')\n",
    "    y_ = b[2]\n",
    "    tr_feed_dict = {X_in: X_,\n",
    "                    A_in: sp_matrix_to_sp_tensor_value(A_),\n",
    "                    I_in: I_,\n",
    "                    target: y_,\n",
    "                    SW_KEY: np.ones((1,))}\n",
    "    outs = sess.run([train_step, loss], feed_dict=tr_feed_dict)\n",
    "    model_loss += outs[-1]\n",
    "\n",
    "    batch_index += 1\n",
    "    if batch_index == batches_in_epoch:\n",
    "        print('Loss: {}'.format(model_loss / batches_in_epoch))\n",
    "        model_loss = 0\n",
    "        batch_index = 0"
   ]
  },
  {
   "cell_type": "code",
   "execution_count": 21,
   "metadata": {},
   "outputs": [],
   "source": [
    "batches_test = batch_iterator([A_test, X_test, y_test], batch_size=batch_size)\n",
    "model_loss = 0\n",
    "batches_in_epoch = np.ceil(len(A_test) / batch_size)"
   ]
  },
  {
   "cell_type": "code",
   "execution_count": 22,
   "metadata": {},
   "outputs": [
    {
     "name": "stdout",
     "output_type": "stream",
     "text": [
      "Tensor(\"loss/mul:0\", shape=(), dtype=float32)\n",
      "Tensor(\"loss/mul:0\", shape=(), dtype=float32)\n",
      "---------------------------------------------\n",
      "Test loss: 0.8726409077644348\n"
     ]
    }
   ],
   "source": [
    "# Test loop\n",
    "for b in batches_test:\n",
    "    batch = Batch(b[0], b[1])\n",
    "    X_, A_, I_ = batch.get('XAI')\n",
    "    y_ = b[2]\n",
    "    tr_feed_dict = {X_in: X_,\n",
    "                    A_in: sp_matrix_to_sp_tensor_value(A_),\n",
    "                    I_in: I_,\n",
    "                    target: y_,\n",
    "                    SW_KEY: np.ones((1,))}\n",
    "    model_loss += sess.run([loss], feed_dict=tr_feed_dict)[0]\n",
    "print('---------------------------------------------')\n",
    "print('Test loss: {}'.format(model_loss / batches_in_epoch))"
   ]
  },
  {
   "cell_type": "code",
   "execution_count": 23,
   "metadata": {},
   "outputs": [
    {
     "ename": "NameError",
     "evalue": "name 'preds' is not defined",
     "output_type": "error",
     "traceback": [
      "\u001b[0;31m---------------------------------------------------------------------------\u001b[0m",
      "\u001b[0;31mNameError\u001b[0m                                 Traceback (most recent call last)",
      "\u001b[0;32m<ipython-input-23-9a3392a0b1a6>\u001b[0m in \u001b[0;36m<module>\u001b[0;34m\u001b[0m\n\u001b[0;32m----> 1\u001b[0;31m \u001b[0mprint\u001b[0m\u001b[0;34m(\u001b[0m\u001b[0mpreds\u001b[0m\u001b[0;34m)\u001b[0m\u001b[0;34m\u001b[0m\u001b[0;34m\u001b[0m\u001b[0m\n\u001b[0m",
      "\u001b[0;31mNameError\u001b[0m: name 'preds' is not defined"
     ]
    }
   ],
   "source": [
    "print(preds)"
   ]
  },
  {
   "cell_type": "code",
   "execution_count": null,
   "metadata": {},
   "outputs": [],
   "source": []
  }
 ],
 "metadata": {
  "kernelspec": {
   "display_name": "Python 3",
   "language": "python",
   "name": "python3"
  },
  "language_info": {
   "codemirror_mode": {
    "name": "ipython",
    "version": 3
   },
   "file_extension": ".py",
   "mimetype": "text/x-python",
   "name": "python",
   "nbconvert_exporter": "python",
   "pygments_lexer": "ipython3",
   "version": "3.7.4"
  }
 },
 "nbformat": 4,
 "nbformat_minor": 2
}
