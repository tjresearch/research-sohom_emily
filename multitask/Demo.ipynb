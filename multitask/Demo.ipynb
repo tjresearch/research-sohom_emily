{
 "cells": [
  {
   "cell_type": "code",
   "execution_count": 1,
   "metadata": {},
   "outputs": [],
   "source": [
    "import psi4\n",
    "import os\n",
    "import time"
   ]
  },
  {
   "cell_type": "code",
   "execution_count": 2,
   "metadata": {},
   "outputs": [],
   "source": [
    "def get_data_folder_path():\n",
    "    return os.path.join(os.getcwd(), '..', '..', 'dsgdb9nsd')"
   ]
  },
  {
   "cell_type": "code",
   "execution_count": 61,
   "metadata": {},
   "outputs": [],
   "source": [
    "def get_molecule_from_file(filenum):\n",
    "    filepath = os.path.join(get_data_folder_path(), \n",
    "                           'dsgdb9nsd_' + str(filenum).zfill(6) + '.xyz')\n",
    "    f = open(filepath, 'r')\n",
    "    lines = f.readlines()\n",
    "    f.close()\n",
    "    num_atoms = int(lines[0])\n",
    "    atom_list = lines[2:2+num_atoms]\n",
    "    for i in range(len(atom_list)):\n",
    "        atom_list[i] = atom_list[i][:atom_list[i].rfind(\"\\t\")] + \"\\n\"\n",
    "    return psi4.geometry(\"\".join(atom_list))"
   ]
  },
  {
   "cell_type": "code",
   "execution_count": 62,
   "metadata": {},
   "outputs": [],
   "source": [
    "def generate_output_file_path(filenum):\n",
    "    return os.path.join('psi4_output', 'output_'+str(filenum)+'.dat')"
   ]
  },
  {
   "cell_type": "code",
   "execution_count": 63,
   "metadata": {},
   "outputs": [],
   "source": [
    "def process_molecule(filenum, thermochemical=False):\n",
    "    psi4.core.set_output_file(generate_output_file_path(filenum), False)\n",
    "    psi4.set_memory('2 GB')\n",
    "    molecule = get_molecule_from_file(filenum)\n",
    "    if thermochemical:\n",
    "        e, wfn = psi4.freq('b3lyp/cc-pvqz', molecule=molecule, return_wfn=True)\n",
    "    else:\n",
    "        e, wfn = psi4.energy('b3lyp/cc-pvqz', molecule=molecule, return_wfn=True)\n",
    "    return wfn"
   ]
  },
  {
   "cell_type": "code",
   "execution_count": 64,
   "metadata": {},
   "outputs": [],
   "source": [
    "def extract_rotational_constants(filenum, wfn):\n",
    "    f = open(generate_output_file_path(filenum), 'r')\n",
    "    lines = f.readlines()\n",
    "    f.close()\n",
    "    for i in range(len(lines)-1, -1, -1):\n",
    "        if lines[i].find('Rotational constants:') > -1 and lines[i].find('[MHz]') > -1:\n",
    "            words = lines[i].split()\n",
    "            return float(words[4])/1000, float(words[7])/1000, float(words[10])/1000"
   ]
  },
  {
   "cell_type": "code",
   "execution_count": 65,
   "metadata": {},
   "outputs": [],
   "source": [
    "def extract_dipole_moment(filenum, wfn):\n",
    "    f = open(generate_output_file_path(filenum), 'r')\n",
    "    lines = f.readlines()\n",
    "    f.close()\n",
    "    for i in range(len(lines)-1, -1, -1):\n",
    "        if lines[i].find(\"Dipole Moment: [D]\") > -1:\n",
    "            return float(lines[i+1][lines[i+1].find(\"Total:\") + 6:])"
   ]
  },
  {
   "cell_type": "code",
   "execution_count": 66,
   "metadata": {},
   "outputs": [],
   "source": [
    "def extract_homo_lumo(filenum, wfn):\n",
    "    homo = wfn.epsilon_a_subset(\"AO\", \"ALL\").get(wfn.nalpha())\n",
    "    lumo = wfn.epsilon_a_subset(\"AO\", \"ALL\").get(wfn.nalpha() + 1)\n",
    "    return homo, lumo"
   ]
  },
  {
   "cell_type": "code",
   "execution_count": 67,
   "metadata": {},
   "outputs": [],
   "source": [
    "def extract_gap(filenum, wfn):\n",
    "    homo, lumo = extract_homo_lumo_gap(fileum, wfn)\n",
    "    return lumo - homo"
   ]
  },
  {
   "cell_type": "code",
   "execution_count": 68,
   "metadata": {},
   "outputs": [],
   "source": [
    "def extract_zpve(filenum, wfn):\n",
    "    f = open(generate_output_file_path(filenum), 'r')\n",
    "    lines = f.readlines()\n",
    "    f.close()\n",
    "    for i in range(len(lines)-1, -1, -1):\n",
    "        if lines[i].find(\"Total ZPE, Electronic energy at 0 [K]\") > -1:\n",
    "            words = lines[i].split()\n",
    "            return float(words[-2])"
   ]
  },
  {
   "cell_type": "code",
   "execution_count": 69,
   "metadata": {},
   "outputs": [],
   "source": [
    "def extract_zero_point_internal_energy(filenum, wfn):\n",
    "    f = open(generate_output_file_path(filenum), 'r')\n",
    "    lines = f.readlines()\n",
    "    f.close()\n",
    "    for i in range(len(lines)-1, -1, -1):\n",
    "        if lines[i].find(\"Total E0, Electronic energy\") > -1:\n",
    "            words = lines[i].split()\n",
    "            return float(words[-2])"
   ]
  },
  {
   "cell_type": "code",
   "execution_count": 70,
   "metadata": {},
   "outputs": [],
   "source": [
    "def extract_internal_energy(filenum, wfn):\n",
    "    f = open(generate_output_file_path(filenum), 'r')\n",
    "    lines = f.readlines()\n",
    "    f.close()\n",
    "    for i in range(len(lines)-1, -1, -1):\n",
    "        if lines[i].find(\"Total E, Electronic energy at  298.15 [K]\") > -1:\n",
    "            words = lines[i].split()\n",
    "            return float(words[-2])"
   ]
  },
  {
   "cell_type": "code",
   "execution_count": 71,
   "metadata": {},
   "outputs": [],
   "source": [
    "def extract_enthalpy(filenum, wfn):\n",
    "    f = open(generate_output_file_path(filenum), 'r')\n",
    "    lines = f.readlines()\n",
    "    f.close()\n",
    "    for i in range(len(lines)-1, -1, -1):\n",
    "        if lines[i].find(\"Total H, Enthalpy at  298.15 [K]\") > -1:\n",
    "            words = lines[i].split()\n",
    "            return float(words[-2])"
   ]
  },
  {
   "cell_type": "code",
   "execution_count": 72,
   "metadata": {},
   "outputs": [],
   "source": [
    "def extract_gibbs_free_energy(filenum, wfn):\n",
    "    f = open(generate_output_file_path(filenum), 'r')\n",
    "    lines = f.readlines()\n",
    "    f.close()\n",
    "    for i in range(len(lines)-1, -1, -1):\n",
    "        if lines[i].find(\"Total G,\") > -1:\n",
    "            words = lines[i].split()\n",
    "            return float(words[-2])"
   ]
  },
  {
   "cell_type": "code",
   "execution_count": 73,
   "metadata": {},
   "outputs": [],
   "source": [
    "def extract_cv(filenum, wfn):\n",
    "    f = open(generate_output_file_path(filenum), 'r')\n",
    "    lines = f.readlines()\n",
    "    f.close()\n",
    "    for i in range(len(lines)-1, -1, -1):\n",
    "        if lines[i].find('Total Cv') > -1:\n",
    "            words = lines[i].split()\n",
    "            return float(words[2])"
   ]
  },
  {
   "cell_type": "code",
   "execution_count": 74,
   "metadata": {},
   "outputs": [],
   "source": [
    "def batch_process(start_num, end_num, thermochemical=False):\n",
    "    f = open(\"output.csv\", \"w\")\n",
    "    output_header = \"Index,A,B,C,Dipole,HOMO,LUMO\"\n",
    "    if thermochemical:\n",
    "        output_header += \",zpve,H 298.15,G 298.15\"\n",
    "    output_header += \"\\n\"\n",
    "    f.write(output_header)\n",
    "    for filenum in range(start_num, end_num+1):\n",
    "        wfn = process_molecule(filenum, thermochemical=thermochemical)\n",
    "        a, b, c = extract_rotational_constants(filenum, wfn)\n",
    "        dipole = extract_dipole_moment(filenum, wfn)\n",
    "        homo, lumo = extract_homo_lumo(filenum, wfn)\n",
    "        output = str(filenum) + \",\" + str(a) + \",\" + str(b) + \",\" + str(c) + \",\" + str(dipole) + \",\" + str(homo) + \",\" + str(lumo)\n",
    "        if thermochemical:\n",
    "            zpve = extract_zpve(filenum, wfn)\n",
    "            enthalpy = extract_enthalpy(filenum, wfn)\n",
    "            gibbs_free_energy = extract_gibbs_free_energy(filenum, wfn)\n",
    "            output += \",\" + str(zpve) + \",\" + str(enthalpy) + \",\" + str(gibbs_free_energy)\n",
    "        output += \"\\n\" \n",
    "        f.write(output)\n",
    "    f.close()"
   ]
  },
  {
   "cell_type": "code",
   "execution_count": 78,
   "metadata": {},
   "outputs": [],
   "source": [
    "def predict_properties(filenum, thermochemical=False, print_output=True):\n",
    "    wfn = process_molecule(filenum, thermochemical=thermochemical)\n",
    "    a, b, c = extract_rotational_constants(filenum, wfn)\n",
    "    dipole = extract_dipole_moment(filenum, wfn)\n",
    "    homo, lumo = extract_homo_lumo(filenum, wfn)\n",
    "    if print_output:\n",
    "        print('A', a, '\\nB', b, '\\nC', c, '\\nDipole', dipole)\n",
    "        print('homo', homo, '\\nlumo', lumo, 'gap', lumo-homo)\n",
    "    ret_dict = dict()\n",
    "    ret_dict['a'] = a\n",
    "    ret_dict['b'] = b\n",
    "    ret_dict['c'] = c\n",
    "    ret_dict['mu'] = dipole\n",
    "    ret_dict['homo'] = homo\n",
    "    ret_dict['lumo'] = lumo\n",
    "    ret_dict['gap'] = lumo-homo\n",
    "    if thermochemical:\n",
    "        zpve = extract_zpve(filenum, wfn)\n",
    "        internal_energy = extract_internal_energy(filenum, wfn)\n",
    "        u0 = extract_zero_point_internal_energy(filenum, wfn)\n",
    "        enthalpy = extract_enthalpy(filenum, wfn)\n",
    "        gibbs_free_energy = extract_gibbs_free_energy(filenum, wfn)\n",
    "        cv = extract_cv(filenum, wfn)\n",
    "        if print_output:\n",
    "            print('zpve', zpve, '\\nU0', u0,'\\nU298', internal_energy, '\\nH298', enthalpy, '\\nG298', gibbs_free_energy, 'Cv', cv)\n",
    "        ret_dict['zpve'] = zpve\n",
    "        ret_dict['u0'] = u0\n",
    "        ret_dict['u298'] = internal_energy\n",
    "        ret_dict['h298'] = enthalpy\n",
    "        ret_dict['g298'] = gibbs_free_energy\n",
    "        ret_dict['cv'] = cv\n",
    "    return ret_dict"
   ]
  },
  {
   "cell_type": "code",
   "execution_count": 79,
   "metadata": {},
   "outputs": [],
   "source": [
    "def prompt_user_for_calculation():\n",
    "    num = -1\n",
    "    while num < 1 or num > 133885:\n",
    "        num = input('Choose a molecule index (1-133885): ')\n",
    "    properties = ['a', 'b', 'c', 'mu', 'homo', 'lumo', 'gap', 'zpve', 'u0', 'u298', 'h298', 'g298', 'cv']\n",
    "    prop = None\n",
    "    while prop not in properties:\n",
    "        prop = input('Choose a property: ')\n",
    "    \n",
    "    print('Beginning DFT calculation')\n",
    "    start = time.time()\n",
    "    thermochemical = prop in properties[7:]\n",
    "    ret_dict = predict_properties(num, thermochemical=thermochemical)\n",
    "    print(ret_dict[prop])\n",
    "    end = time.time()\n",
    "    print('DFT calculation took', end-start, 'ms')"
   ]
  },
  {
   "cell_type": "code",
   "execution_count": 76,
   "metadata": {},
   "outputs": [
    {
     "name": "stdout",
     "output_type": "stream",
     "text": [
      "4.315376281738281e-05\n"
     ]
    }
   ],
   "source": [
    "# FOR TESTING PURPOSES\n",
    "start = time.time()\n",
    "# batch_process(1, 3, thermochemical=True)\n",
    "# predict_properties(1, thermochemical=True)\n",
    "# end = time.time()\n",
    "print(end-start)"
   ]
  },
  {
   "cell_type": "code",
   "execution_count": 77,
   "metadata": {},
   "outputs": [
    {
     "name": "stdout",
     "output_type": "stream",
     "text": [
      "A 157.71179902 \n",
      "B 157.70996942000002 \n",
      "C 157.70699448 \n",
      "Dipole 0.0\n",
      "zpve -40.4971856\n",
      "U298 -40.49431803\n",
      "U0 -40.54146019 \n",
      "H298 -40.49337384 \n",
      "G298 -40.5168522 \n",
      "Cv 6.459\n"
     ]
    }
   ],
   "source": [
    "# FOR TESTING PURPOSES\n",
    "filenum = 1\n",
    "wfn = None\n",
    "a, b, c = extract_rotational_constants(filenum, wfn)\n",
    "dipole = extract_dipole_moment(filenum, wfn)\n",
    "# homo, lumo = extract_homo_lumo(filenum, wfn)\n",
    "print('A', a, '\\nB', b, '\\nC', c, '\\nDipole', dipole)\n",
    "# print('homo', homo, '\\nlumo', lumo, 'gap', lumo-homo)\n",
    "zpve = extract_zpve(filenum, wfn)\n",
    "print('zpve', zpve)\n",
    "internal_energy = extract_internal_energy(filenum, wfn)\n",
    "print('U298', internal_energy)\n",
    "u0 = extract_zero_point_internal_energy(filenum, wfn)\n",
    "enthalpy = extract_enthalpy(filenum, wfn)\n",
    "gibbs_free_energy = extract_gibbs_free_energy(filenum, wfn)\n",
    "cv = extract_cv(filenum, wfn)\n",
    "print('U0', u0, '\\nH298', enthalpy, '\\nG298', gibbs_free_energy, '\\nCv', cv)"
   ]
  },
  {
   "cell_type": "code",
   "execution_count": 32,
   "metadata": {},
   "outputs": [
    {
     "name": "stdout",
     "output_type": "stream",
     "text": [
      "  Correction G             15.442 [kcal/mol]       64.608 [kJ/mol]       0.02460799 [Eh]\n",
      "\n",
      "  -Total Gradient:\n",
      "\n"
     ]
    },
    {
     "ename": "ValueError",
     "evalue": "could not convert string to float: '-Total'",
     "output_type": "error",
     "traceback": [
      "\u001b[0;31m---------------------------------------------------------------------------\u001b[0m",
      "\u001b[0;31mValueError\u001b[0m                                Traceback (most recent call last)",
      "\u001b[0;32m<ipython-input-32-aeace9efef5f>\u001b[0m in \u001b[0;36m<module>\u001b[0;34m\u001b[0m\n\u001b[1;32m      7\u001b[0m         \u001b[0mprint\u001b[0m\u001b[0;34m(\u001b[0m\u001b[0mlines\u001b[0m\u001b[0;34m[\u001b[0m\u001b[0mi\u001b[0m\u001b[0;34m]\u001b[0m\u001b[0;34m)\u001b[0m\u001b[0;34m\u001b[0m\u001b[0;34m\u001b[0m\u001b[0m\n\u001b[1;32m      8\u001b[0m         \u001b[0mwords\u001b[0m \u001b[0;34m=\u001b[0m \u001b[0mlines\u001b[0m\u001b[0;34m[\u001b[0m\u001b[0mi\u001b[0m\u001b[0;34m]\u001b[0m\u001b[0;34m.\u001b[0m\u001b[0msplit\u001b[0m\u001b[0;34m(\u001b[0m\u001b[0;34m)\u001b[0m\u001b[0;34m\u001b[0m\u001b[0;34m\u001b[0m\u001b[0m\n\u001b[0;32m----> 9\u001b[0;31m         \u001b[0mprint\u001b[0m\u001b[0;34m(\u001b[0m\u001b[0mfloat\u001b[0m\u001b[0;34m(\u001b[0m\u001b[0mwords\u001b[0m\u001b[0;34m[\u001b[0m\u001b[0;34m-\u001b[0m\u001b[0;36m2\u001b[0m\u001b[0;34m]\u001b[0m\u001b[0;34m)\u001b[0m\u001b[0;34m)\u001b[0m\u001b[0;34m\u001b[0m\u001b[0;34m\u001b[0m\u001b[0m\n\u001b[0m\u001b[1;32m     10\u001b[0m \u001b[0mprint\u001b[0m\u001b[0;34m(\u001b[0m\u001b[0;34m'unsuccessful'\u001b[0m\u001b[0;34m)\u001b[0m\u001b[0;34m\u001b[0m\u001b[0;34m\u001b[0m\u001b[0m\n",
      "\u001b[0;31mValueError\u001b[0m: could not convert string to float: '-Total'"
     ]
    }
   ],
   "source": [
    "# FOR TESTING PURPOSES\n",
    "f = open(generate_output_file_path(filenum), 'r')\n",
    "lines = f.readlines()\n",
    "f.close()\n",
    "print(lines[-2])\n",
    "for i in range(len(lines)):\n",
    "    if lines[i].find(\"Total G\") > -1:\n",
    "        print(lines[i])\n",
    "        words = lines[i].split()\n",
    "        print(float(words[-2]))\n",
    "print('unsuccessful')"
   ]
  },
  {
   "cell_type": "code",
   "execution_count": 17,
   "metadata": {},
   "outputs": [
    {
     "data": {
      "text/plain": [
       "'/mnt/c/Users/Sohom/Documents/senior_research/research_shared/multitask/psi4_output/output_1.dat'"
      ]
     },
     "execution_count": 17,
     "metadata": {},
     "output_type": "execute_result"
    }
   ],
   "source": [
    "generate_output_file_path(1)"
   ]
  },
  {
   "cell_type": "code",
   "execution_count": 29,
   "metadata": {},
   "outputs": [],
   "source": [
    "psi4.core.set_output_file('psi4_output/output_1.dat')"
   ]
  },
  {
   "cell_type": "code",
   "execution_count": 30,
   "metadata": {},
   "outputs": [],
   "source": [
    "psi4.set_memory('2 GB')\n",
    "molecule = get_molecule_from_file(1)\n",
    "e, wfn = psi4.energy('b3lyp/cc-pvqz', molecule=molecule, return_wfn=True)"
   ]
  },
  {
   "cell_type": "code",
   "execution_count": null,
   "metadata": {},
   "outputs": [],
   "source": []
  }
 ],
 "metadata": {
  "kernelspec": {
   "display_name": "Python 3",
   "language": "python",
   "name": "python3"
  },
  "language_info": {
   "codemirror_mode": {
    "name": "ipython",
    "version": 3
   },
   "file_extension": ".py",
   "mimetype": "text/x-python",
   "name": "python",
   "nbconvert_exporter": "python",
   "pygments_lexer": "ipython3",
   "version": "3.6.8"
  }
 },
 "nbformat": 4,
 "nbformat_minor": 2
}
