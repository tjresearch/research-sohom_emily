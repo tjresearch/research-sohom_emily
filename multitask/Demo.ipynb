{
 "cells": [
  {
   "cell_type": "code",
   "execution_count": 28,
   "metadata": {},
   "outputs": [],
   "source": [
    "import matplotlib.pyplot as plt\n",
    "import numpy as np\n",
    "from keras.callbacks import EarlyStopping, TensorBoard\n",
    "from keras.layers import Input, Dense\n",
    "from keras.models import Model\n",
    "from keras.optimizers import Adam\n",
    "from sklearn.model_selection import train_test_split\n",
    "from sklearn.preprocessing import StandardScaler\n",
    "from keras.backend import mean, square\n",
    "\n",
    "from spektral.datasets import qm9\n",
    "from spektral.layers import EdgeConditionedConv, GlobalAttentionPool\n",
    "from spektral.utils import label_to_one_hot\n",
    "\n",
    "import psi4\n",
    "\n",
    "import time\n",
    "from os import path, getcwd"
   ]
  },
  {
   "cell_type": "code",
   "execution_count": 2,
   "metadata": {},
   "outputs": [
    {
     "name": "stdout",
     "output_type": "stream",
     "text": [
      "Loading QM9 dataset.\n",
      "Reading SDF\n"
     ]
    },
    {
     "name": "stderr",
     "output_type": "stream",
     "text": [
      "100%|██████████| 133885/133885 [01:24<00:00, 1587.57it/s]\n"
     ]
    },
    {
     "name": "stdout",
     "output_type": "stream",
     "text": [
      "WARNING:tensorflow:From /home/sohompaul/psi4conda/lib/python3.6/site-packages/keras/backend/tensorflow_backend.py:74: The name tf.get_default_graph is deprecated. Please use tf.compat.v1.get_default_graph instead.\n",
      "\n",
      "WARNING:tensorflow:From /home/sohompaul/psi4conda/lib/python3.6/site-packages/keras/backend/tensorflow_backend.py:517: The name tf.placeholder is deprecated. Please use tf.compat.v1.placeholder instead.\n",
      "\n"
     ]
    }
   ],
   "source": [
    "'''\n",
    "The following is setup code for the neural calculation\n",
    "as well as allowing for actual lookups to compare accuracies.\n",
    "'''\n",
    "\n",
    "A_complete, X_complete, E_complete, y_complete = qm9.load_data(return_type='numpy',\n",
    "                           nf_keys='atomic_num',\n",
    "                           ef_keys='type',\n",
    "                           self_loops=True,\n",
    "                           amount=None)  # Set to None to train on whole dataset\n",
    "# one-hot labeling of atoms\n",
    "uniq_X = np.unique(X_complete)\n",
    "X_complete = label_to_one_hot(X_complete, uniq_X)\n",
    "\n",
    "clusters = [['A', 'B', 'alpha'], \n",
    "               ['C', 'r2', 'u0'],\n",
    "               ['zpve', 'g298', 'cv'],\n",
    "               ['lumo', 'u298', 'h298'],\n",
    "               ['mu', 'homo']]\n",
    "\n",
    "N = X_complete.shape[-2]           # Number of nodes in the graphs\n",
    "F = X_complete.shape[-1]           # Node features dimensionality\n",
    "S = E_complete.shape[-1]           # Edge features dimensionality\n",
    "\n",
    "X_in = Input(shape=(N, F))\n",
    "A_in = Input(shape=(N, N))\n",
    "E_in = Input(shape=(N, N, S))"
   ]
  },
  {
   "cell_type": "code",
   "execution_count": 29,
   "metadata": {},
   "outputs": [],
   "source": [
    "def create_hard_parameter_sharing_model(num_tasks=1):\n",
    "    gc1 = EdgeConditionedConv(64, activation='relu')([X_in, A_in, E_in])\n",
    "    gc2 = EdgeConditionedConv(128, activation='relu')([gc1, A_in, E_in])\n",
    "    pool = GlobalAttentionPool(256)(gc2)\n",
    "    dense_list = [Dense(256, activation='relu')(pool) for i in range(num_tasks)]\n",
    "    output_list = [Dense(1)(dense_layer) for dense_layer in dense_list]\n",
    "    return Model(inputs=[X_in, A_in, E_in], outputs=output_list)"
   ]
  },
  {
   "cell_type": "code",
   "execution_count": 30,
   "metadata": {},
   "outputs": [],
   "source": [
    "def generate_model_filename(tasks):\n",
    "    tasks_str = \"\".join(sorted(tasks))\n",
    "    return path.join('demo_models', tasks_str + '.h5')"
   ]
  },
  {
   "cell_type": "code",
   "execution_count": 31,
   "metadata": {},
   "outputs": [],
   "source": [
    "def generate_model_helper_filename(task):\n",
    "    return path.join('demo_models', task + '.txt')"
   ]
  },
  {
   "cell_type": "code",
   "execution_count": 32,
   "metadata": {},
   "outputs": [],
   "source": [
    "def predict_property_neural(prop=None, mol_id=-1):\n",
    "    if mol_id == -1:\n",
    "        raise ValueError(\"ID must be between 1 and 133885\")\n",
    "    for cluster in clusters:\n",
    "        if prop in cluster:\n",
    "            model = create_hard_parameter_sharing_model(len(cluster))\n",
    "            model.load_weights(generate_model_filename(cluster))\n",
    "            model.compile(optimizer='adam', loss='mse')\n",
    "            predictions = model.predict([[X_complete[mol_id-1]], [A_complete[mol_id-1]], [E_complete[mol_id-1]]])\n",
    "            mean, std = 0, 1\n",
    "            with open(generate_model_helper_filename(prop), 'r') as f:\n",
    "                lines = f.readlines()\n",
    "                mean = float(lines[0].strip())\n",
    "                std = float(lines[1].strip())\n",
    "            prediction = mean + std * predictions[1 + cluster.index(prop)]\n",
    "            return prediction[0][0]\n",
    "    else:\n",
    "        raise ValueError(\"Property was not found in clusters list\")"
   ]
  },
  {
   "cell_type": "code",
   "execution_count": 33,
   "metadata": {},
   "outputs": [],
   "source": [
    "def get_data_folder_path():\n",
    "    return path.join(getcwd(), '..', '..', 'dsgdb9nsd')"
   ]
  },
  {
   "cell_type": "code",
   "execution_count": 34,
   "metadata": {},
   "outputs": [],
   "source": [
    "def get_molecule_from_file(filenum):\n",
    "    filepath = path.join(get_data_folder_path(), \n",
    "                           'dsgdb9nsd_' + str(filenum).zfill(6) + '.xyz')\n",
    "    f = open(filepath, 'r')\n",
    "    lines = f.readlines()\n",
    "    f.close()\n",
    "    num_atoms = int(lines[0])\n",
    "    atom_list = lines[2:2+num_atoms]\n",
    "    for i in range(len(atom_list)):\n",
    "        atom_list[i] = atom_list[i][:atom_list[i].rfind(\"\\t\")] + \"\\n\"\n",
    "    return psi4.geometry(\"\".join(atom_list))"
   ]
  },
  {
   "cell_type": "code",
   "execution_count": 35,
   "metadata": {},
   "outputs": [],
   "source": [
    "def generate_dft_output_file_path(filenum):\n",
    "    return path.join('psi4_output', 'output_'+str(filenum)+'.dat')"
   ]
  },
  {
   "cell_type": "code",
   "execution_count": 36,
   "metadata": {},
   "outputs": [],
   "source": [
    "def process_molecule(filenum, thermochemical=False):\n",
    "    psi4.core.set_output_file(generate_dft_output_file_path(filenum), False)\n",
    "    psi4.set_memory('2 GB')\n",
    "    molecule = get_molecule_from_file(filenum)\n",
    "    if thermochemical:\n",
    "        e, wfn = psi4.freq('b3lyp/cc-pvqz', molecule=molecule, return_wfn=True)\n",
    "    else:\n",
    "        e, wfn = psi4.energy('b3lyp/cc-pvqz', molecule=molecule, return_wfn=True)\n",
    "    return wfn"
   ]
  },
  {
   "cell_type": "code",
   "execution_count": 37,
   "metadata": {},
   "outputs": [],
   "source": [
    "def extract_rotational_constants(filenum, wfn):\n",
    "    f = open(generate_dft_output_file_path(filenum), 'r')\n",
    "    lines = f.readlines()\n",
    "    f.close()\n",
    "    for i in range(len(lines)-1, -1, -1):\n",
    "        if lines[i].find('Rotational constants:') > -1 and lines[i].find('[MHz]') > -1:\n",
    "            words = lines[i].split()\n",
    "            return float(words[4])/1000, float(words[7])/1000, float(words[10])/1000"
   ]
  },
  {
   "cell_type": "code",
   "execution_count": 38,
   "metadata": {},
   "outputs": [],
   "source": [
    "def extract_dipole_moment(filenum, wfn):\n",
    "    f = open(generate_dft_output_file_path(filenum), 'r')\n",
    "    lines = f.readlines()\n",
    "    f.close()\n",
    "    for i in range(len(lines)-1, -1, -1):\n",
    "        if lines[i].find(\"Dipole Moment: [D]\") > -1:\n",
    "            return float(lines[i+1][lines[i+1].find(\"Total:\") + 6:])"
   ]
  },
  {
   "cell_type": "code",
   "execution_count": 39,
   "metadata": {},
   "outputs": [],
   "source": [
    "def extract_homo_lumo(filenum, wfn):\n",
    "    homo = wfn.epsilon_a_subset(\"AO\", \"ALL\").get(wfn.nalpha())\n",
    "    lumo = wfn.epsilon_a_subset(\"AO\", \"ALL\").get(wfn.nalpha() + 1)\n",
    "    return homo, lumo"
   ]
  },
  {
   "cell_type": "code",
   "execution_count": 40,
   "metadata": {},
   "outputs": [],
   "source": [
    "def extract_gap(filenum, wfn):\n",
    "    homo, lumo = extract_homo_lumo_gap(fileum, wfn)\n",
    "    return lumo - homo"
   ]
  },
  {
   "cell_type": "code",
   "execution_count": 41,
   "metadata": {},
   "outputs": [],
   "source": [
    "def extract_zpve(filenum, wfn):\n",
    "    f = open(generate_dft_output_file_path(filenum), 'r')\n",
    "    lines = f.readlines()\n",
    "    f.close()\n",
    "    for i in range(len(lines)-1, -1, -1):\n",
    "        if lines[i].find(\"Total ZPE, Electronic energy at 0 [K]\") > -1:\n",
    "            words = lines[i].split()\n",
    "            return float(words[-2])"
   ]
  },
  {
   "cell_type": "code",
   "execution_count": 42,
   "metadata": {},
   "outputs": [],
   "source": [
    "def extract_zero_point_internal_energy(filenum, wfn):\n",
    "    f = open(generate_dft_output_file_path(filenum), 'r')\n",
    "    lines = f.readlines()\n",
    "    f.close()\n",
    "    for i in range(len(lines)-1, -1, -1):\n",
    "        if lines[i].find(\"Total E0, Electronic energy\") > -1:\n",
    "            words = lines[i].split()\n",
    "            return float(words[-2])"
   ]
  },
  {
   "cell_type": "code",
   "execution_count": 43,
   "metadata": {},
   "outputs": [],
   "source": [
    "def extract_internal_energy(filenum, wfn):\n",
    "    f = open(generate_dft_output_file_path(filenum), 'r')\n",
    "    lines = f.readlines()\n",
    "    f.close()\n",
    "    for i in range(len(lines)-1, -1, -1):\n",
    "        if lines[i].find(\"Total E, Electronic energy at  298.15 [K]\") > -1:\n",
    "            words = lines[i].split()\n",
    "            return float(words[-2])"
   ]
  },
  {
   "cell_type": "code",
   "execution_count": 44,
   "metadata": {},
   "outputs": [],
   "source": [
    "def extract_enthalpy(filenum, wfn):\n",
    "    f = open(generate_dft_output_file_path(filenum), 'r')\n",
    "    lines = f.readlines()\n",
    "    f.close()\n",
    "    for i in range(len(lines)-1, -1, -1):\n",
    "        if lines[i].find(\"Total H, Enthalpy at  298.15 [K]\") > -1:\n",
    "            words = lines[i].split()\n",
    "            return float(words[-2])"
   ]
  },
  {
   "cell_type": "code",
   "execution_count": 45,
   "metadata": {},
   "outputs": [],
   "source": [
    "def extract_gibbs_free_energy(filenum, wfn):\n",
    "    f = open(generate_dft_output_file_path(filenum), 'r')\n",
    "    lines = f.readlines()\n",
    "    f.close()\n",
    "    for i in range(len(lines)-1, -1, -1):\n",
    "        if lines[i].find(\"Total G,\") > -1:\n",
    "            words = lines[i].split()\n",
    "            return float(words[-2])"
   ]
  },
  {
   "cell_type": "code",
   "execution_count": 46,
   "metadata": {},
   "outputs": [],
   "source": [
    "def extract_cv(filenum, wfn):\n",
    "    f = open(generate_dft_output_file_path(filenum), 'r')\n",
    "    lines = f.readlines()\n",
    "    f.close()\n",
    "    for i in range(len(lines)-1, -1, -1):\n",
    "        if lines[i].find('Total Cv') > -1:\n",
    "            words = lines[i].split()\n",
    "            return float(words[2])"
   ]
  },
  {
   "cell_type": "code",
   "execution_count": 47,
   "metadata": {},
   "outputs": [],
   "source": [
    "def batch_process(start_num, end_num, thermochemical=False):\n",
    "    f = open(\"output.csv\", \"w\")\n",
    "    output_header = \"Index,A,B,C,Dipole,HOMO,LUMO\"\n",
    "    if thermochemical:\n",
    "        output_header += \",zpve,H 298.15,G 298.15\"\n",
    "    output_header += \"\\n\"\n",
    "    f.write(output_header)\n",
    "    for filenum in range(start_num, end_num+1):\n",
    "        wfn = process_molecule(filenum, thermochemical=thermochemical)\n",
    "        a, b, c = extract_rotational_constants(filenum, wfn)\n",
    "        dipole = extract_dipole_moment(filenum, wfn)\n",
    "        homo, lumo = extract_homo_lumo(filenum, wfn)\n",
    "        output = str(filenum) + \",\" + str(a) + \",\" + str(b) + \",\" + str(c) + \",\" + str(dipole) + \",\" + str(homo) + \",\" + str(lumo)\n",
    "        if thermochemical:\n",
    "            zpve = extract_zpve(filenum, wfn)\n",
    "            enthalpy = extract_enthalpy(filenum, wfn)\n",
    "            gibbs_free_energy = extract_gibbs_free_energy(filenum, wfn)\n",
    "            output += \",\" + str(zpve) + \",\" + str(enthalpy) + \",\" + str(gibbs_free_energy)\n",
    "        output += \"\\n\" \n",
    "        f.write(output)\n",
    "    f.close()"
   ]
  },
  {
   "cell_type": "code",
   "execution_count": 48,
   "metadata": {},
   "outputs": [],
   "source": [
    "def predict_properties_dft(filenum=-1, thermochemical=False, print_output=True):\n",
    "    if filenum == -1:\n",
    "        raise ValueError(\"Filenum must be between 1 and 133885\")\n",
    "    wfn = process_molecule(filenum, thermochemical=thermochemical)\n",
    "    a, b, c = extract_rotational_constants(filenum, wfn)\n",
    "    dipole = extract_dipole_moment(filenum, wfn)\n",
    "    homo, lumo = extract_homo_lumo(filenum, wfn)\n",
    "    if print_output:\n",
    "        print('A', a, '\\nB', b, '\\nC', c, '\\nDipole', dipole)\n",
    "        print('homo', homo, '\\nlumo', lumo, 'gap', lumo-homo)\n",
    "    ret_dict = dict()\n",
    "    ret_dict['a'] = a\n",
    "    ret_dict['b'] = b\n",
    "    ret_dict['c'] = c\n",
    "    ret_dict['mu'] = dipole\n",
    "    ret_dict['homo'] = homo\n",
    "    ret_dict['lumo'] = lumo\n",
    "    ret_dict['gap'] = lumo-homo\n",
    "    if thermochemical:\n",
    "        zpve = extract_zpve(filenum, wfn)\n",
    "        internal_energy = extract_internal_energy(filenum, wfn)\n",
    "        u0 = extract_zero_point_internal_energy(filenum, wfn)\n",
    "        enthalpy = extract_enthalpy(filenum, wfn)\n",
    "        gibbs_free_energy = extract_gibbs_free_energy(filenum, wfn)\n",
    "        cv = extract_cv(filenum, wfn)\n",
    "        if print_output:\n",
    "            print('zpve', zpve, '\\nU0', u0,'\\nU298', internal_energy, '\\nH298', enthalpy, '\\nG298', gibbs_free_energy, 'Cv', cv)\n",
    "        ret_dict['zpve'] = zpve\n",
    "        ret_dict['u0'] = u0\n",
    "        ret_dict['u298'] = internal_energy\n",
    "        ret_dict['h298'] = enthalpy\n",
    "        ret_dict['g298'] = gibbs_free_energy\n",
    "        ret_dict['cv'] = cv\n",
    "    return ret_dict"
   ]
  },
  {
   "cell_type": "code",
   "execution_count": 49,
   "metadata": {},
   "outputs": [],
   "source": [
    "def prompt_user_for_calculation():\n",
    "    num = -1\n",
    "    while num < 1 or num > 133885:\n",
    "        num = input('Choose a molecule index (1-133885): ')\n",
    "    properties = ['a', 'b', 'c', 'mu', 'homo', 'lumo', 'gap', 'zpve', 'u0', 'u298', 'h298', 'g298', 'cv']\n",
    "    prop = None\n",
    "    while prop not in properties:\n",
    "        prop = input('Choose a property: ')\n",
    "    \n",
    "    print('Beginning DFT calculation')\n",
    "    start = time.time()\n",
    "    thermochemical = prop in properties[7:]\n",
    "    ret_dict = predict_properties(num, thermochemical=thermochemical)\n",
    "    print(ret_dict[prop])\n",
    "    end = time.time()\n",
    "    print('DFT calculation took', end-start, 'ms')"
   ]
  },
  {
   "cell_type": "code",
   "execution_count": 50,
   "metadata": {},
   "outputs": [],
   "source": [
    "def lookup_property(prop=None, mol_id=-1):\n",
    "    return y_complete.loc[mol_id-1, prop]"
   ]
  },
  {
   "cell_type": "code",
   "execution_count": 51,
   "metadata": {},
   "outputs": [
    {
     "name": "stdout",
     "output_type": "stream",
     "text": [
      "-0.7668407\n",
      "0.0603\n"
     ]
    }
   ],
   "source": [
    "print(predict_property_neural('mu', 133))\n",
    "print(lookup_property(prop='mu', mol_id=133))"
   ]
  },
  {
   "cell_type": "code",
   "execution_count": null,
   "metadata": {},
   "outputs": [],
   "source": [
    "dft_props = predict_properties_dft(filenum=133)\n",
    "print(dft_props['mu'])"
   ]
  },
  {
   "cell_type": "code",
   "execution_count": null,
   "metadata": {},
   "outputs": [],
   "source": [
    "# FOR TESTING PURPOSES\n",
    "start = time.time()\n",
    "# batch_process(1, 3, thermochemical=True)\n",
    "# predict_properties(1, thermochemical=True)\n",
    "# end = time.time()\n",
    "print(end-start)"
   ]
  },
  {
   "cell_type": "code",
   "execution_count": null,
   "metadata": {},
   "outputs": [],
   "source": [
    "# FOR TESTING PURPOSES\n",
    "filenum = 1\n",
    "wfn = None\n",
    "a, b, c = extract_rotational_constants(filenum, wfn)\n",
    "dipole = extract_dipole_moment(filenum, wfn)\n",
    "# homo, lumo = extract_homo_lumo(filenum, wfn)\n",
    "print('A', a, '\\nB', b, '\\nC', c, '\\nDipole', dipole)\n",
    "# print('homo', homo, '\\nlumo', lumo, 'gap', lumo-homo)\n",
    "zpve = extract_zpve(filenum, wfn)\n",
    "print('zpve', zpve)\n",
    "internal_energy = extract_internal_energy(filenum, wfn)\n",
    "print('U298', internal_energy)\n",
    "u0 = extract_zero_point_internal_energy(filenum, wfn)\n",
    "enthalpy = extract_enthalpy(filenum, wfn)\n",
    "gibbs_free_energy = extract_gibbs_free_energy(filenum, wfn)\n",
    "cv = extract_cv(filenum, wfn)\n",
    "print('U0', u0, '\\nH298', enthalpy, '\\nG298', gibbs_free_energy, '\\nCv', cv)"
   ]
  },
  {
   "cell_type": "code",
   "execution_count": null,
   "metadata": {},
   "outputs": [],
   "source": [
    "# FOR TESTING PURPOSES\n",
    "f = open(generate_dft_output_file_path(filenum), 'r')\n",
    "lines = f.readlines()\n",
    "f.close()\n",
    "print(lines[-2])\n",
    "for i in range(len(lines)):\n",
    "    if lines[i].find(\"Total G\") > -1:\n",
    "        print(lines[i])\n",
    "        words = lines[i].split()\n",
    "        print(float(words[-2]))\n",
    "print('unsuccessful')"
   ]
  },
  {
   "cell_type": "code",
   "execution_count": null,
   "metadata": {},
   "outputs": [],
   "source": [
    "generate_dft_output_file_path(1)"
   ]
  },
  {
   "cell_type": "code",
   "execution_count": null,
   "metadata": {},
   "outputs": [],
   "source": [
    "psi4.core.set_output_file('psi4_output/output_1.dat')"
   ]
  },
  {
   "cell_type": "code",
   "execution_count": null,
   "metadata": {},
   "outputs": [],
   "source": [
    "psi4.set_memory('2 GB')\n",
    "molecule = get_molecule_from_file(1)\n",
    "e, wfn = psi4.energy('b3lyp/cc-pvqz', molecule=molecule, return_wfn=True)"
   ]
  },
  {
   "cell_type": "code",
   "execution_count": null,
   "metadata": {},
   "outputs": [],
   "source": []
  }
 ],
 "metadata": {
  "kernelspec": {
   "display_name": "Python 3",
   "language": "python",
   "name": "python3"
  },
  "language_info": {
   "codemirror_mode": {
    "name": "ipython",
    "version": 3
   },
   "file_extension": ".py",
   "mimetype": "text/x-python",
   "name": "python",
   "nbconvert_exporter": "python",
   "pygments_lexer": "ipython3",
   "version": "3.6.8"
  }
 },
 "nbformat": 4,
 "nbformat_minor": 2
}
