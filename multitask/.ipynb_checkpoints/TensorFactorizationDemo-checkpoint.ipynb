{
 "cells": [
  {
   "cell_type": "code",
   "execution_count": 3,
   "metadata": {},
   "outputs": [],
   "source": [
    "import numpy as np\n",
    "import tensorflow as tf\n",
    "from scipy.linalg.interpolative import svd"
   ]
  },
  {
   "cell_type": "code",
   "execution_count": 4,
   "metadata": {},
   "outputs": [],
   "source": [
    "def my_svd(A, eps_or_k=0.01):\n",
    "    if A.dtype != np.float64:\n",
    "        A = A.astype(np.float64)\n",
    "    U, S, V = svd(A, eps_or_k, rand=False)\n",
    "\n",
    "    return U, S, V.T"
   ]
  },
  {
   "cell_type": "code",
   "execution_count": 5,
   "metadata": {},
   "outputs": [],
   "source": [
    "def t_unfold(A, k):\n",
    "    A = np.transpose(A, np.hstack([k, np.delete(np.arange(A.ndim), k)]))\n",
    "    A = np.reshape(A, [A.shape[0], np.prod(A.shape[1:])])\n",
    "\n",
    "    return A"
   ]
  },
  {
   "cell_type": "code",
   "execution_count": 6,
   "metadata": {},
   "outputs": [],
   "source": [
    "def t_dot(A, B, axes=(-1, 0)):\n",
    "    return np.tensordot(A, B, axes)"
   ]
  },
  {
   "cell_type": "code",
   "execution_count": 7,
   "metadata": {},
   "outputs": [],
   "source": [
    "def tt_dcmp(A, eps_or_k=0.01):\n",
    "    d = A.ndim\n",
    "    n = A.shape\n",
    "\n",
    "    max_rank = [min(np.prod(n[:i + 1]), np.prod(n[i + 1:])) for i in range(d - 1)]\n",
    "\n",
    "    if np.any(np.array(eps_or_k) > np.array(max_rank)):\n",
    "        raise ValueError('the rank is up to %s' % str(max_rank))\n",
    "\n",
    "    if not isinstance(eps_or_k, list):\n",
    "        eps_or_k = [eps_or_k] * (d - 1)\n",
    "\n",
    "    r = [1] * (d + 1)\n",
    "\n",
    "    TT = []\n",
    "    C = A.copy()\n",
    "\n",
    "    for k in range(d - 1):\n",
    "        C = C.reshape((r[k] * n[k], C.size / (r[k] * n[k])))\n",
    "        (U, S, V) = my_svd(C, eps_or_k[k])\n",
    "        r[k + 1] = U.shape[1]\n",
    "        TT.append(U[:, :r[k + 1]].reshape((r[k], n[k], r[k + 1])))\n",
    "        C = np.dot(np.diag(S[:r[k + 1]]), V[:r[k + 1], :])\n",
    "    TT.append(C.reshape(r[k + 1], n[k + 1], 1))\n",
    "\n",
    "    return TT"
   ]
  },
  {
   "cell_type": "code",
   "execution_count": 8,
   "metadata": {},
   "outputs": [],
   "source": [
    "def tucker_dcmp(A, eps_or_k=0.01):\n",
    "    d = A.ndim\n",
    "    n = A.shape\n",
    "\n",
    "    max_rank = list(n)\n",
    "\n",
    "    if np.any(np.array(eps_or_k) > np.array(max_rank)):\n",
    "        raise ValueError('the rank is up to %s' % str(max_rank))\n",
    "\n",
    "    if not isinstance(eps_or_k, list):\n",
    "        eps_or_k = [eps_or_k] * d\n",
    "\n",
    "    U = [my_svd(t_unfold(A, k), eps_or_k[k])[0] for k in range(d)]\n",
    "    S = A\n",
    "    for i in range(d):\n",
    "        S = t_dot(S, U[i], (0, 0))\n",
    "\n",
    "    return U, S"
   ]
  },
  {
   "cell_type": "code",
   "execution_count": 9,
   "metadata": {},
   "outputs": [],
   "source": [
    "def tt_cnst(A):\n",
    "    S = A[0]\n",
    "    for i in range(len(A) - 1):\n",
    "        S = t_dot(S, A[i + 1])\n",
    "\n",
    "    return np.squeeze(S, axis=(0, -1))"
   ]
  },
  {
   "cell_type": "code",
   "execution_count": 10,
   "metadata": {},
   "outputs": [],
   "source": [
    "def tucker_cnst(U, S):\n",
    "    for i in range(len(U)):\n",
    "        S = t_dot(S, U[i], (0, 1))\n",
    "\n",
    "    return S"
   ]
  },
  {
   "cell_type": "code",
   "execution_count": 11,
   "metadata": {},
   "outputs": [],
   "source": [
    "def TensorUnfold(A, k):\n",
    "    tmp_arr = np.arange(A.get_shape().ndims)\n",
    "    A = tf.transpose(A, [tmp_arr[k]] + np.delete(tmp_arr, k).tolist())\n",
    "    shapeA = A.get_shape().as_list()\n",
    "    A = tf.reshape(A, [shapeA[0], np.prod(shapeA[1:])])\n",
    "\n",
    "    return A"
   ]
  },
  {
   "cell_type": "code",
   "execution_count": 12,
   "metadata": {},
   "outputs": [],
   "source": [
    "def TensorProduct(A, B, axes=(-1, 0)):\n",
    "    shapeA = A.get_shape().as_list()\n",
    "    shapeB = B.get_shape().as_list()\n",
    "    shapeR = np.delete(shapeA, axes[0]).tolist() + np.delete(shapeB, axes[1]).tolist()\n",
    "    result = tf.matmul(tf.transpose(TensorUnfold(A, axes[0])), TensorUnfold(B, axes[1]))\n",
    "\n",
    "    return tf.reshape(result, shapeR)"
   ]
  },
  {
   "cell_type": "code",
   "execution_count": 13,
   "metadata": {},
   "outputs": [],
   "source": [
    "def TTTensorProducer(A):\n",
    "    S = A[0]\n",
    "    for i in range(len(A) - 1):\n",
    "        S = TensorProduct(S, A[i + 1])\n",
    "\n",
    "    return tf.squeeze(S, squeeze_dims=[0, -1])"
   ]
  },
  {
   "cell_type": "code",
   "execution_count": 14,
   "metadata": {},
   "outputs": [],
   "source": [
    "def TuckerTensorProducer(U, S):\n",
    "    for i in range(len(U)):\n",
    "        S = TensorProduct(S, U[i], (0, 1))\n",
    "\n",
    "    return S"
   ]
  },
  {
   "cell_type": "code",
   "execution_count": 15,
   "metadata": {},
   "outputs": [],
   "source": [
    "def TensorProducer(X, method, eps_or_k=0.01, datatype=np.float32, return_true_var=False):\n",
    "    if method == 'Tucker':\n",
    "        U, S = tucker_dcmp(X, eps_or_k)\n",
    "        U = [tf.Variable(i.astype(datatype)) for i in U]\n",
    "        S = tf.Variable(S.astype(datatype))\n",
    "        W = TuckerTensorProducer(U, S)\n",
    "        param_dict = {'U': U, 'S': S}\n",
    "    elif method == 'TT':\n",
    "        A = tt_dcmp(X, eps_or_k)\n",
    "        A = [tf.Variable(i.astype(datatype)) for i in A]\n",
    "        W = TTTensorProducer(A)\n",
    "        param_dict = {'U': A}\n",
    "    elif method == 'LAF':\n",
    "        U, S, V = my_svd(np.transpose(t_unfold(X, -1)), eps_or_k)\n",
    "        U = tf.Variable(U.astype(datatype))\n",
    "        V = tf.Variable(np.dot(np.diag(S), V).astype(datatype))\n",
    "        W = tf.reshape(tf.matmul(U, V), X.shape)\n",
    "        param_dict = {'U': U, 'V': V}\n",
    "    if return_true_var:\n",
    "        return W, param_dict\n",
    "    else:\n",
    "        return W"
   ]
  },
  {
   "cell_type": "code",
   "execution_count": null,
   "metadata": {},
   "outputs": [],
   "source": [
    "T = 3 # number of tasks\n",
    "O = [3, 2, 5] # number of outputs for each task\n",
    "N = 100 # number of training sample\n",
    "D = 20 # output feature vector size"
   ]
  }
 ],
 "metadata": {
  "kernelspec": {
   "display_name": "Python 3",
   "language": "python",
   "name": "python3"
  },
  "language_info": {
   "codemirror_mode": {
    "name": "ipython",
    "version": 3
   },
   "file_extension": ".py",
   "mimetype": "text/x-python",
   "name": "python",
   "nbconvert_exporter": "python",
   "pygments_lexer": "ipython3",
   "version": "3.6.8"
  }
 },
 "nbformat": 4,
 "nbformat_minor": 2
}
