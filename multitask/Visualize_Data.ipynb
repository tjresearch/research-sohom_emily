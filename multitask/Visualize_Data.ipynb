{
 "cells": [
  {
   "cell_type": "code",
   "execution_count": null,
   "metadata": {},
   "outputs": [],
   "source": [
    "import numpy as np\n",
    "import pandas as pd\n",
    "from matplotlib import pyplot as plt\n",
    "from sklearn.preprocessing import PowerTransformer\n",
    "\n",
    "from spektral.datasets import qm9"
   ]
  },
  {
   "cell_type": "code",
   "execution_count": null,
   "metadata": {},
   "outputs": [],
   "source": [
    "_, _, _, y = qm9.load_data(return_type='numpy',\n",
    "                          amount=None)\n",
    "\n",
    "y = y[y.columns[1:]]"
   ]
  },
  {
   "cell_type": "code",
   "execution_count": null,
   "metadata": {},
   "outputs": [],
   "source": [
    "y"
   ]
  },
  {
   "cell_type": "code",
   "execution_count": null,
   "metadata": {},
   "outputs": [],
   "source": [
    "def percentiles_and_hist(data, prop, bins=20, outlier_scale=5):\n",
    "    print(f\"Analyzing {prop}\")\n",
    "    print()\n",
    "    percentiles = np.percentile(data, [100/bins*i for i in range(bins+1)])\n",
    "    for i in range(bins+1):\n",
    "        print(f\"{100/bins*i}%\\t: {percentiles[i]:.2f}\")\n",
    "    \n",
    "    first_quartile = np.percentile(data, 25)\n",
    "    third_quartile = np.percentile(data, 75)\n",
    "    iqr = third_quartile - first_quartile\n",
    "    print(f\"iqr: {iqr}\")\n",
    "    scale = 5\n",
    "    min_threshold = first_quartile - scale*iqr\n",
    "    max_threshold = third_quartile + scale*iqr\n",
    "    \n",
    "    outlier_mask = []\n",
    "    for elem in data:\n",
    "        outlier_mask.append(elem < min_threshold or elem > max_threshold)\n",
    "    outliers = data[outlier_mask]\n",
    "    print(f\"Scale: {scale}\")\n",
    "    print(f\"Num outliers: {len(outliers)}\")\n",
    "    \n",
    "    plt.hist(data, bins=bins, range=(np.percentile(data, 0.1), np.percentile(data, 99.9)))\n",
    "    plt.title(f\"{prop}\")\n",
    "    plt.show()\n",
    "\n",
    "for prop in y:\n",
    "    # lumo contains both positive and negative values\n",
    "    # so we have to analyze this separately\n",
    "    if prop == 'lumo':\n",
    "        continue\n",
    "    data = y[[prop]].values\n",
    "    data = np.abs(data)\n",
    "    percentiles_and_hist(data, prop)\n",
    "    \n",
    "    log_data = np.log(1+data)\n",
    "    percentiles_and_hist(log_data, f\"log {prop}\")"
   ]
  },
  {
   "cell_type": "code",
   "execution_count": null,
   "metadata": {},
   "outputs": [],
   "source": [
    "skew_df = pd.concat({'y_skew': y.skew(axis=0), 'log_y_skew': np.log(1+np.abs(y)).skew(axis=0)}, axis=1)\n",
    "skew_df"
   ]
  },
  {
   "cell_type": "code",
   "execution_count": null,
   "metadata": {},
   "outputs": [],
   "source": [
    "for prop in y:\n",
    "    pt = PowerTransformer()\n",
    "    data = y[[prop]].values\n",
    "    y_trans = pt.fit_transform(data)\n",
    "    y_trans.reshape(1, -1)\n",
    "    \n",
    "    print(f\"lambda: {pt.lambdas_[0]}\")\n",
    "    \n",
    "    percentiles_and_hist(y_trans, f\"Power Transformed {prop}\")\n",
    "    \n",
    "    # to recover the original data\n",
    "    y_orig = pt.inverse_transform(y_trans)\n",
    "    print(y_orig)"
   ]
  }
 ],
 "metadata": {
  "kernelspec": {
   "display_name": "Python 3",
   "language": "python",
   "name": "python3"
  },
  "language_info": {
   "codemirror_mode": {
    "name": "ipython",
    "version": 3
   },
   "file_extension": ".py",
   "mimetype": "text/x-python",
   "name": "python",
   "nbconvert_exporter": "python",
   "pygments_lexer": "ipython3",
   "version": "3.7.7"
  }
 },
 "nbformat": 4,
 "nbformat_minor": 4
}
