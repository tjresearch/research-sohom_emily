{
 "cells": [
  {
   "cell_type": "code",
   "execution_count": 1,
   "metadata": {},
   "outputs": [
    {
     "name": "stderr",
     "output_type": "stream",
     "text": [
      "Using TensorFlow backend.\n"
     ]
    }
   ],
   "source": [
    "import matplotlib.pyplot as plt\n",
    "import numpy as np\n",
    "from keras.callbacks import EarlyStopping, TensorBoard\n",
    "from keras.layers import Input, Dense\n",
    "from keras.models import Model\n",
    "from keras.optimizers import Adam\n",
    "from sklearn.model_selection import train_test_split\n",
    "from sklearn.preprocessing import StandardScaler\n",
    "from keras.backend import mean, square\n",
    "\n",
    "from spektral.datasets import qm9\n",
    "from spektral.layers import EdgeConditionedConv, GlobalAttentionPool\n",
    "from spektral.utils import label_to_one_hot\n",
    "\n",
    "import psi4\n",
    "\n",
    "import time\n",
    "from os import path, getcwd"
   ]
  },
  {
   "cell_type": "code",
   "execution_count": 2,
   "metadata": {},
   "outputs": [
    {
     "name": "stdout",
     "output_type": "stream",
     "text": [
      "Loading QM9 dataset.\n",
      "Reading SDF\n"
     ]
    },
    {
     "name": "stderr",
     "output_type": "stream",
     "text": [
      "100%|██████████| 133885/133885 [01:22<00:00, 1627.97it/s]\n"
     ]
    },
    {
     "name": "stdout",
     "output_type": "stream",
     "text": [
      "WARNING:tensorflow:From /home/sohompaul/psi4conda/lib/python3.6/site-packages/keras/backend/tensorflow_backend.py:74: The name tf.get_default_graph is deprecated. Please use tf.compat.v1.get_default_graph instead.\n",
      "\n",
      "WARNING:tensorflow:From /home/sohompaul/psi4conda/lib/python3.6/site-packages/keras/backend/tensorflow_backend.py:517: The name tf.placeholder is deprecated. Please use tf.compat.v1.placeholder instead.\n",
      "\n"
     ]
    }
   ],
   "source": [
    "'''\n",
    "The following is setup code for the neural calculation\n",
    "as well as allowing for actual lookups to compare accuracies.\n",
    "'''\n",
    "\n",
    "A_complete, X_complete, E_complete, y_complete = qm9.load_data(return_type='numpy',\n",
    "                           nf_keys='atomic_num',\n",
    "                           ef_keys='type',\n",
    "                           self_loops=True,\n",
    "                           amount=None)  # Set to None to train on whole dataset\n",
    "# one-hot labeling of atoms\n",
    "uniq_X = np.unique(X_complete)\n",
    "X_complete = label_to_one_hot(X_complete, uniq_X)\n",
    "\n",
    "clusters = [['A', 'B', 'alpha'], \n",
    "               ['C', 'r2', 'u0'],\n",
    "               ['zpve', 'g298', 'cv'],\n",
    "               ['lumo', 'u298', 'h298'],\n",
    "               ['mu', 'homo']]\n",
    "\n",
    "N = X_complete.shape[-2]           # Number of nodes in the graphs\n",
    "F = X_complete.shape[-1]           # Node features dimensionality\n",
    "S = E_complete.shape[-1]           # Edge features dimensionality\n",
    "\n",
    "X_in = Input(shape=(N, F))\n",
    "A_in = Input(shape=(N, N))\n",
    "E_in = Input(shape=(N, N, S))"
   ]
  },
  {
   "cell_type": "code",
   "execution_count": 3,
   "metadata": {},
   "outputs": [],
   "source": [
    "def create_hard_parameter_sharing_model(num_tasks=1):\n",
    "    gc1 = EdgeConditionedConv(64, activation='relu')([X_in, A_in, E_in])\n",
    "    gc2 = EdgeConditionedConv(128, activation='relu')([gc1, A_in, E_in])\n",
    "    pool = GlobalAttentionPool(256)(gc2)\n",
    "    dense_list = [Dense(256, activation='relu')(pool) for i in range(num_tasks)]\n",
    "    output_list = [Dense(1)(dense_layer) for dense_layer in dense_list]\n",
    "    return Model(inputs=[X_in, A_in, E_in], outputs=output_list)"
   ]
  },
  {
   "cell_type": "code",
   "execution_count": 4,
   "metadata": {},
   "outputs": [],
   "source": [
    "def generate_model_filename(tasks):\n",
    "    tasks_str = \"\".join(sorted(tasks))\n",
    "    return path.join('demo_models', tasks_str + '.h5')"
   ]
  },
  {
   "cell_type": "code",
   "execution_count": 5,
   "metadata": {},
   "outputs": [],
   "source": [
    "def generate_model_helper_filename(task):\n",
    "    return path.join('demo_models', task + '.txt')"
   ]
  },
  {
   "cell_type": "code",
   "execution_count": 6,
   "metadata": {},
   "outputs": [],
   "source": [
    "def predict_property_neural(prop=None, mol_id=-1):\n",
    "    if mol_id == -1:\n",
    "        raise ValueError(\"ID must be between 1 and 133885\")\n",
    "    for cluster in clusters:\n",
    "        if prop in cluster:\n",
    "            model = create_hard_parameter_sharing_model(len(cluster))\n",
    "            model.load_weights(generate_model_filename(cluster))\n",
    "            model.compile(optimizer='adam', loss='mse')\n",
    "            predictions = model.predict([[X_complete[mol_id-1]], [A_complete[mol_id-1]], [E_complete[mol_id-1]]])\n",
    "            mean, std = 0, 1\n",
    "            with open(generate_model_helper_filename(prop), 'r') as f:\n",
    "                lines = f.readlines()\n",
    "                mean = float(lines[0].strip())\n",
    "                std = float(lines[1].strip())\n",
    "            prediction = mean + std * predictions[cluster.index(prop)]\n",
    "            return prediction[0][0]\n",
    "    if prop == 'gap':\n",
    "        lumo = predict_property_neural(prop='lumo', mol_id=mol_id)\n",
    "        homo = predict_property_neural(prop='homo', mol_id=mol_id)\n",
    "        return lumo - homo\n",
    "    raise ValueError(\"Property was not found in clusters list\")"
   ]
  },
  {
   "cell_type": "code",
   "execution_count": 7,
   "metadata": {},
   "outputs": [],
   "source": [
    "def get_data_folder_path():\n",
    "    return path.join(getcwd(), '..', '..', 'dsgdb9nsd')"
   ]
  },
  {
   "cell_type": "code",
   "execution_count": 8,
   "metadata": {},
   "outputs": [],
   "source": [
    "def get_molecule_from_file(filenum):\n",
    "    filepath = path.join(get_data_folder_path(), \n",
    "                           'dsgdb9nsd_' + str(filenum).zfill(6) + '.xyz')\n",
    "    f = open(filepath, 'r')\n",
    "    lines = f.readlines()\n",
    "    f.close()\n",
    "    num_atoms = int(lines[0])\n",
    "    atom_list = lines[2:2+num_atoms]\n",
    "    for i in range(len(atom_list)):\n",
    "        atom_list[i] = atom_list[i][:atom_list[i].rfind(\"\\t\")] + \"\\n\"\n",
    "    return psi4.geometry(\"\".join(atom_list))"
   ]
  },
  {
   "cell_type": "code",
   "execution_count": 9,
   "metadata": {},
   "outputs": [],
   "source": [
    "def generate_dft_output_file_path(filenum):\n",
    "    return path.join('psi4_output', 'output_'+str(filenum)+'.dat')"
   ]
  },
  {
   "cell_type": "code",
   "execution_count": 10,
   "metadata": {},
   "outputs": [],
   "source": [
    "def process_molecule(filenum, thermochemical=False):\n",
    "    psi4.core.set_output_file(generate_dft_output_file_path(filenum), False)\n",
    "    psi4.set_memory('2 GB')\n",
    "    molecule = get_molecule_from_file(filenum)\n",
    "    if thermochemical:\n",
    "        e, wfn = psi4.freq('b3lyp/cc-pvqz', molecule=molecule, return_wfn=True)\n",
    "    else:\n",
    "        e, wfn = psi4.energy('b3lyp/cc-pvqz', molecule=molecule, return_wfn=True)\n",
    "    return wfn"
   ]
  },
  {
   "cell_type": "code",
   "execution_count": 11,
   "metadata": {},
   "outputs": [],
   "source": [
    "def extract_rotational_constants(filenum, wfn):\n",
    "    f = open(generate_dft_output_file_path(filenum), 'r')\n",
    "    lines = f.readlines()\n",
    "    f.close()\n",
    "    for i in range(len(lines)-1, -1, -1):\n",
    "        if lines[i].find('Rotational constants:') > -1 and lines[i].find('[MHz]') > -1:\n",
    "            words = lines[i].split()\n",
    "            rot_constants = []\n",
    "            for const in [words[4], words[7], words[10]]:     \n",
    "                if const.isnumeric():\n",
    "                    rot_constants.append(float(const)/1000)\n",
    "                else:\n",
    "                    rot_constants.append(const)\n",
    "                    # rot_constants.append(float(const)/1000)\n",
    "            return rot_constants\n",
    "    return None, None, None"
   ]
  },
  {
   "cell_type": "code",
   "execution_count": 12,
   "metadata": {},
   "outputs": [],
   "source": [
    "def extract_dipole_moment(filenum, wfn):\n",
    "    f = open(generate_dft_output_file_path(filenum), 'r')\n",
    "    lines = f.readlines()\n",
    "    f.close()\n",
    "    for i in range(len(lines)-1, -1, -1):\n",
    "        if lines[i].find(\"Dipole Moment: [D]\") > -1:\n",
    "            return lines[i+1][lines[i+1].find(\"Total:\") + 6:]"
   ]
  },
  {
   "cell_type": "code",
   "execution_count": 13,
   "metadata": {},
   "outputs": [],
   "source": [
    "def extract_homo_lumo(filenum, wfn):\n",
    "    homo = wfn.epsilon_a_subset(\"AO\", \"ALL\").get(wfn.nalpha())\n",
    "    lumo = wfn.epsilon_a_subset(\"AO\", \"ALL\").get(wfn.nalpha() + 1)\n",
    "    return homo, lumo"
   ]
  },
  {
   "cell_type": "code",
   "execution_count": 14,
   "metadata": {},
   "outputs": [],
   "source": [
    "def extract_gap(filenum, wfn):\n",
    "    homo, lumo = extract_homo_lumo_gap(fileum, wfn)\n",
    "    return lumo - homo"
   ]
  },
  {
   "cell_type": "code",
   "execution_count": 15,
   "metadata": {},
   "outputs": [],
   "source": [
    "def extract_zpve(filenum, wfn):\n",
    "    f = open(generate_dft_output_file_path(filenum), 'r')\n",
    "    lines = f.readlines()\n",
    "    f.close()\n",
    "    for i in range(len(lines)-1, -1, -1):\n",
    "        if lines[i].find(\"Total ZPE, Electronic energy at 0 [K]\") > -1:\n",
    "            words = lines[i].split()\n",
    "            return words[-2]"
   ]
  },
  {
   "cell_type": "code",
   "execution_count": 16,
   "metadata": {},
   "outputs": [],
   "source": [
    "def extract_zero_point_internal_energy(filenum, wfn):\n",
    "    f = open(generate_dft_output_file_path(filenum), 'r')\n",
    "    lines = f.readlines()\n",
    "    f.close()\n",
    "    for i in range(len(lines)-1, -1, -1):\n",
    "        if lines[i].find(\"Total E0, Electronic energy\") > -1:\n",
    "            words = lines[i].split()\n",
    "            return words[-2]"
   ]
  },
  {
   "cell_type": "code",
   "execution_count": 17,
   "metadata": {},
   "outputs": [],
   "source": [
    "def extract_internal_energy(filenum, wfn):\n",
    "    f = open(generate_dft_output_file_path(filenum), 'r')\n",
    "    lines = f.readlines()\n",
    "    f.close()\n",
    "    for i in range(len(lines)-1, -1, -1):\n",
    "        if lines[i].find(\"Total E, Electronic energy at  298.15 [K]\") > -1:\n",
    "            words = lines[i].split()\n",
    "            return words[-2]"
   ]
  },
  {
   "cell_type": "code",
   "execution_count": 18,
   "metadata": {},
   "outputs": [],
   "source": [
    "def extract_enthalpy(filenum, wfn):\n",
    "    f = open(generate_dft_output_file_path(filenum), 'r')\n",
    "    lines = f.readlines()\n",
    "    f.close()\n",
    "    for i in range(len(lines)-1, -1, -1):\n",
    "        if lines[i].find(\"Total H, Enthalpy at  298.15 [K]\") > -1:\n",
    "            words = lines[i].split()\n",
    "            return words[-2]"
   ]
  },
  {
   "cell_type": "code",
   "execution_count": 19,
   "metadata": {},
   "outputs": [],
   "source": [
    "def extract_gibbs_free_energy(filenum, wfn):\n",
    "    f = open(generate_dft_output_file_path(filenum), 'r')\n",
    "    lines = f.readlines()\n",
    "    f.close()\n",
    "    for i in range(len(lines)-1, -1, -1):\n",
    "        if lines[i].find(\"Total G,\") > -1:\n",
    "            words = lines[i].split()\n",
    "            return words[-2]"
   ]
  },
  {
   "cell_type": "code",
   "execution_count": 20,
   "metadata": {},
   "outputs": [],
   "source": [
    "def extract_cv(filenum, wfn):\n",
    "    f = open(generate_dft_output_file_path(filenum), 'r')\n",
    "    lines = f.readlines()\n",
    "    f.close()\n",
    "    for i in range(len(lines)-1, -1, -1):\n",
    "        if lines[i].find('Total Cv') > -1:\n",
    "            words = lines[i].split()\n",
    "            return words[2]"
   ]
  },
  {
   "cell_type": "code",
   "execution_count": 21,
   "metadata": {},
   "outputs": [],
   "source": [
    "def batch_process(start_num, end_num, thermochemical=False):\n",
    "    f = open(\"output.csv\", \"w\")\n",
    "    output_header = \"Index,A,B,C,Dipole,HOMO,LUMO\"\n",
    "    if thermochemical:\n",
    "        output_header += \",zpve,H 298.15,G 298.15\"\n",
    "    output_header += \"\\n\"\n",
    "    f.write(output_header)\n",
    "    for filenum in range(start_num, end_num+1):\n",
    "        wfn = process_molecule(filenum, thermochemical=thermochemical)\n",
    "        a, b, c = extract_rotational_constants(filenum, wfn)\n",
    "        dipole = extract_dipole_moment(filenum, wfn)\n",
    "        homo, lumo = extract_homo_lumo(filenum, wfn)\n",
    "        output = str(filenum) + \",\" + str(a) + \",\" + str(b) + \",\" + str(c) + \",\" + str(dipole) + \",\" + str(homo) + \",\" + str(lumo)\n",
    "        if thermochemical:\n",
    "            zpve = extract_zpve(filenum, wfn)\n",
    "            enthalpy = extract_enthalpy(filenum, wfn)\n",
    "            gibbs_free_energy = extract_gibbs_free_energy(filenum, wfn)\n",
    "            output += \",\" + str(zpve) + \",\" + str(enthalpy) + \",\" + str(gibbs_free_energy)\n",
    "        output += \"\\n\" \n",
    "        f.write(output)\n",
    "    f.close()"
   ]
  },
  {
   "cell_type": "code",
   "execution_count": 22,
   "metadata": {},
   "outputs": [],
   "source": [
    "def predict_all_properties_dft(filenum=-1, thermochemical=False):\n",
    "    if filenum == -1:\n",
    "        raise ValueError(\"Filenum must be between 1 and 133885\")\n",
    "    wfn = process_molecule(filenum, thermochemical=thermochemical)\n",
    "    a, b, c = extract_rotational_constants(filenum, wfn)\n",
    "    dipole = extract_dipole_moment(filenum, wfn)\n",
    "    homo, lumo = extract_homo_lumo(filenum, wfn)\n",
    "    ret_dict = dict()\n",
    "    ret_dict['A'] = a\n",
    "    ret_dict['B'] = b\n",
    "    ret_dict['C'] = c\n",
    "    ret_dict['mu'] = dipole\n",
    "    ret_dict['homo'] = homo\n",
    "    ret_dict['lumo'] = lumo\n",
    "    ret_dict['gap'] = lumo-homo\n",
    "    if thermochemical:\n",
    "        zpve = extract_zpve(filenum, wfn)\n",
    "        internal_energy = extract_internal_energy(filenum, wfn)\n",
    "        u0 = extract_zero_point_internal_energy(filenum, wfn)\n",
    "        enthalpy = extract_enthalpy(filenum, wfn)\n",
    "        gibbs_free_energy = extract_gibbs_free_energy(filenum, wfn)\n",
    "        cv = extract_cv(filenum, wfn)\n",
    "        ret_dict['zpve'] = zpve\n",
    "        ret_dict['u0'] = u0\n",
    "        ret_dict['u298'] = internal_energy\n",
    "        ret_dict['h298'] = enthalpy\n",
    "        ret_dict['g298'] = gibbs_free_energy\n",
    "        ret_dict['cv'] = cv\n",
    "    return ret_dict"
   ]
  },
  {
   "cell_type": "code",
   "execution_count": 23,
   "metadata": {},
   "outputs": [],
   "source": [
    "def lookup_property(prop=None, mol_id=-1):\n",
    "    return y_complete.loc[mol_id-1, prop]"
   ]
  },
  {
   "cell_type": "code",
   "execution_count": 24,
   "metadata": {},
   "outputs": [],
   "source": [
    "def prompt_user_for_calculation():\n",
    "    while True:\n",
    "        num = -1\n",
    "        while num < 1 or num > 133885:\n",
    "            try:\n",
    "                num = int(input('Choose a molecule index (1-133885): '))\n",
    "            except ValueException:\n",
    "                print(\"Please provide a valid number\")\n",
    "                num = -1\n",
    "            \n",
    "        properties = ['A', 'B', 'C', 'mu', 'homo', 'lumo', 'gap', 'zpve', 'u0', 'u298', 'h298', 'g298', 'cv']\n",
    "        prop = None\n",
    "        while prop not in properties:\n",
    "            print(\"Choose an available property from the following:\")\n",
    "            print(\"A, B, C, mu, homo, lumo, gap, zpve, u0, u298, h298, g298, cv\")\n",
    "            prop = input('Choose a property: ')\n",
    "        \n",
    "        dft = None\n",
    "        while dft not in ['0', '1']:\n",
    "            print(\"Choose whether to use DFT or neural methods\")\n",
    "            print(\"0 for neural methods, 1 for DFT\")\n",
    "            dft = input('Calculation type: ')\n",
    "        \n",
    "        if dft == '1':\n",
    "            print('Beginning DFT calculation')\n",
    "            start = time.time()\n",
    "            thermochemical = prop in properties[7:]\n",
    "            ret_dict = predict_all_properties_dft(num, thermochemical=thermochemical)\n",
    "            print(ret_dict[prop])\n",
    "            end = time.time()\n",
    "            print('DFT calculation took', end-start, 's')\n",
    "        else:\n",
    "            print('Beginning neural calculation:')\n",
    "            start = time.time()\n",
    "            print(predict_property_neural(prop=prop, mol_id=num))\n",
    "            end = time.time()\n",
    "            print('Neural method took', end-start, 's')\n",
    "        print('Actual data:')\n",
    "        print(lookup_property(prop=prop, mol_id=num))"
   ]
  },
  {
   "cell_type": "code",
   "execution_count": null,
   "metadata": {},
   "outputs": [
    {
     "name": "stdout",
     "output_type": "stream",
     "text": [
      "Choose a molecule index (1-133885): 2\n",
      "Choose an available property from the following:\n",
      "A, B, C, mu, homo, lumo, gap, zpve, u0, u298, h298, g298, cv\n",
      "Choose a property: gap\n",
      "Choose whether to use DFT or neural methods\n",
      "0 for neural methods, 1 for DFT\n",
      "Calculation type: 1\n",
      "Beginning DFT calculation\n",
      "0.07659905782316898\n",
      "DFT calculation took 9.616927862167358 ms\n",
      "Actual data:\n",
      "0.3399\n",
      "Choose a molecule index (1-133885): 3\n",
      "Choose an available property from the following:\n",
      "A, B, C, mu, homo, lumo, gap, zpve, u0, u298, h298, g298, cv\n",
      "Choose a property: homo\n",
      "Choose whether to use DFT or neural methods\n",
      "0 for neural methods, 1 for DFT\n",
      "Calculation type: 1\n",
      "Beginning DFT calculation\n",
      "0.009642980216153504\n",
      "DFT calculation took 6.022831439971924 ms\n",
      "Actual data:\n",
      "-0.2928\n",
      "Choose a molecule index (1-133885): 9\n",
      "Choose an available property from the following:\n",
      "A, B, C, mu, homo, lumo, gap, zpve, u0, u298, h298, g298, cv\n",
      "Choose a property: zpve\n",
      "Choose whether to use DFT or neural methods\n",
      "0 for neural methods, 1 for DFT\n",
      "Calculation type: 1\n",
      "Beginning DFT calculation\n",
      " 31 displacements needed.\n",
      " 1 2 3 4 5 6 7 8 9 10 11 12 13 14 15 16 17 18 19 20 21 22 23 24 25 26 27 28 29 30 31\n",
      "Warning: used thermodynamics relations inappropriate for low-frequency modes: ['363.7709' '364.4729']\n",
      "-116.65695501\n",
      "DFT calculation took 2331.173047065735 ms\n",
      "Actual data:\n",
      "0.05541\n",
      "Choose a molecule index (1-133885): 1\n",
      "Choose an available property from the following:\n",
      "A, B, C, mu, homo, lumo, gap, zpve, u0, u298, h298, g298, cv\n",
      "Choose a property: A\n",
      "Choose whether to use DFT or neural methods\n",
      "0 for neural methods, 1 for DFT\n",
      "Calculation type: 0\n",
      "Beginning neural calculation:\n",
      "WARNING:tensorflow:From /home/sohompaul/psi4conda/lib/python3.6/site-packages/keras/backend/tensorflow_backend.py:4138: The name tf.random_uniform is deprecated. Please use tf.random.uniform instead.\n",
      "\n",
      "WARNING:tensorflow:From /home/sohompaul/psi4conda/lib/python3.6/site-packages/keras/backend/tensorflow_backend.py:174: The name tf.get_default_session is deprecated. Please use tf.compat.v1.get_default_session instead.\n",
      "\n",
      "WARNING:tensorflow:From /home/sohompaul/psi4conda/lib/python3.6/site-packages/keras/backend/tensorflow_backend.py:181: The name tf.ConfigProto is deprecated. Please use tf.compat.v1.ConfigProto instead.\n",
      "\n",
      "WARNING:tensorflow:From /home/sohompaul/psi4conda/lib/python3.6/site-packages/keras/optimizers.py:790: The name tf.train.Optimizer is deprecated. Please use tf.compat.v1.train.Optimizer instead.\n",
      "\n",
      "36.547638\n",
      "Neural method took 3.6649229526519775 ms\n",
      "Actual data:\n",
      "157.7118\n",
      "Choose a molecule index (1-133885): 568\n",
      "Choose an available property from the following:\n",
      "A, B, C, mu, homo, lumo, gap, zpve, u0, u298, h298, g298, cv\n",
      "Choose a property: A\n",
      "Choose whether to use DFT or neural methods\n",
      "0 for neural methods, 1 for DFT\n",
      "Calculation type: 0\n",
      "Beginning neural calculation:\n",
      "7.070348\n",
      "Neural method took 0.7440791130065918 ms\n",
      "Actual data:\n",
      "8.32944\n",
      "Choose a molecule index (1-133885): 1\n",
      "Choose an available property from the following:\n",
      "A, B, C, mu, homo, lumo, gap, zpve, u0, u298, h298, g298, cv\n",
      "Choose a property: A\n",
      "Choose whether to use DFT or neural methods\n",
      "0 for neural methods, 1 for DFT\n",
      "Calculation type: 1\n",
      "Beginning DFT calculation\n",
      "157711.79902\n",
      "DFT calculation took 6.872120380401611 ms\n",
      "Actual data:\n",
      "157.7118\n",
      "Choose a molecule index (1-133885): 1\n",
      "Choose an available property from the following:\n",
      "A, B, C, mu, homo, lumo, gap, zpve, u0, u298, h298, g298, cv\n",
      "Choose a property: A\n",
      "Choose whether to use DFT or neural methods\n",
      "0 for neural methods, 1 for DFT\n",
      "Calculation type: 0\n",
      "Beginning neural calculation:\n",
      "36.547638\n",
      "Neural method took 0.7931170463562012 ms\n",
      "Actual data:\n",
      "157.7118\n",
      "Choose a molecule index (1-133885): 1\n",
      "Choose an available property from the following:\n",
      "A, B, C, mu, homo, lumo, gap, zpve, u0, u298, h298, g298, cv\n",
      "Choose a property: A\n",
      "Choose whether to use DFT or neural methods\n",
      "0 for neural methods, 1 for DFT\n",
      "Calculation type: 4\n",
      "Choose whether to use DFT or neural methods\n",
      "0 for neural methods, 1 for DFT\n",
      "Calculation type: 1\n",
      "Beginning DFT calculation\n",
      "157711.79902\n",
      "DFT calculation took 6.90385890007019 ms\n",
      "Actual data:\n",
      "157.7118\n"
     ]
    }
   ],
   "source": [
    "prompt_user_for_calculation()"
   ]
  },
  {
   "cell_type": "code",
   "execution_count": null,
   "metadata": {},
   "outputs": [],
   "source": []
  }
 ],
 "metadata": {
  "kernelspec": {
   "display_name": "Python 3",
   "language": "python",
   "name": "python3"
  },
  "language_info": {
   "codemirror_mode": {
    "name": "ipython",
    "version": 3
   },
   "file_extension": ".py",
   "mimetype": "text/x-python",
   "name": "python",
   "nbconvert_exporter": "python",
   "pygments_lexer": "ipython3",
   "version": "3.6.8"
  }
 },
 "nbformat": 4,
 "nbformat_minor": 2
}
